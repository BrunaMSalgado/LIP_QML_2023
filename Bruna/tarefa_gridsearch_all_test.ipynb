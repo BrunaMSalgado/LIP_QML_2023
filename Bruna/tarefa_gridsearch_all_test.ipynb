{
 "cells": [
  {
   "attachments": {},
   "cell_type": "markdown",
   "metadata": {},
   "source": [
    "# Projeto"
   ]
  },
  {
   "cell_type": "code",
   "execution_count": 1,
   "metadata": {},
   "outputs": [],
   "source": [
    "#imports\n",
    "import pandas as pd\n",
    "import numpy as np\n",
    "import matplotlib.pyplot as plt\n",
    "import math\n",
    "from sklearn import svm\n",
    "from sklearn.metrics import accuracy_score\n",
    "from sklearn.metrics import roc_auc_score\n",
    "from sklearn.metrics import roc_curve\n",
    "import pennylane as qml\n",
    "from pennylane import numpy as np\n",
    "from pennylane.optimize import NesterovMomentumOptimizer\n",
    "from pennylane.optimize import AdamOptimizer\n",
    "import pennylane as qml\n",
    "from pennylane import numpy as np\n",
    "from pennylane.templates.embeddings import AngleEmbedding\n",
    "from tqdm.notebook import tqdm, trange\n",
    "from sklearn.model_selection import GridSearchCV\n",
    "from sklearn.decomposition import PCA\n",
    "import pickle"
   ]
  },
  {
   "cell_type": "code",
   "execution_count": 2,
   "metadata": {},
   "outputs": [
    {
     "name": "stdout",
     "output_type": "stream",
     "text": [
      "Number of rows: 90548\n"
     ]
    },
    {
     "data": {
      "text/html": [
       "<div>\n",
       "<style scoped>\n",
       "    .dataframe tbody tr th:only-of-type {\n",
       "        vertical-align: middle;\n",
       "    }\n",
       "\n",
       "    .dataframe tbody tr th {\n",
       "        vertical-align: top;\n",
       "    }\n",
       "\n",
       "    .dataframe thead th {\n",
       "        text-align: right;\n",
       "    }\n",
       "</style>\n",
       "<table border=\"1\" class=\"dataframe\">\n",
       "  <thead>\n",
       "    <tr style=\"text-align: right;\">\n",
       "      <th></th>\n",
       "      <th>Electron_Multi</th>\n",
       "      <th>FatJet1_Eta</th>\n",
       "      <th>FatJet1_Mass</th>\n",
       "      <th>FatJet1_PT</th>\n",
       "      <th>FatJet1_Phi</th>\n",
       "      <th>FatJet1_Tau1</th>\n",
       "      <th>FatJet1_Tau2</th>\n",
       "      <th>FatJet1_Tau3</th>\n",
       "      <th>FatJet1_Tau4</th>\n",
       "      <th>FatJet1_Tau5</th>\n",
       "      <th>...</th>\n",
       "      <th>gen_decay2</th>\n",
       "      <th>gen_decay_filter</th>\n",
       "      <th>gen_filter</th>\n",
       "      <th>gen_label</th>\n",
       "      <th>gen_n_btags</th>\n",
       "      <th>gen_sample</th>\n",
       "      <th>gen_sample_filter</th>\n",
       "      <th>gen_split</th>\n",
       "      <th>gen_weights</th>\n",
       "      <th>gen_xsec</th>\n",
       "    </tr>\n",
       "  </thead>\n",
       "  <tbody>\n",
       "    <tr>\n",
       "      <th>0</th>\n",
       "      <td>2</td>\n",
       "      <td>1.408853</td>\n",
       "      <td>15.150869</td>\n",
       "      <td>339.182312</td>\n",
       "      <td>2.350262</td>\n",
       "      <td>1.396943</td>\n",
       "      <td>0.710451</td>\n",
       "      <td>0.109013</td>\n",
       "      <td>0.000000</td>\n",
       "      <td>0.000000</td>\n",
       "      <td>...</td>\n",
       "      <td>0</td>\n",
       "      <td>None</td>\n",
       "      <td>PyDelphes</td>\n",
       "      <td>signal</td>\n",
       "      <td>1</td>\n",
       "      <td>tZFCNC</td>\n",
       "      <td>tZFCNC_PyDelphes</td>\n",
       "      <td>test</td>\n",
       "      <td>7.762202e-09</td>\n",
       "      <td>0.001285</td>\n",
       "    </tr>\n",
       "    <tr>\n",
       "      <th>1</th>\n",
       "      <td>1</td>\n",
       "      <td>-2.481838</td>\n",
       "      <td>7.208333</td>\n",
       "      <td>247.036240</td>\n",
       "      <td>-2.280740</td>\n",
       "      <td>0.428710</td>\n",
       "      <td>0.205213</td>\n",
       "      <td>0.000000</td>\n",
       "      <td>0.000000</td>\n",
       "      <td>0.000000</td>\n",
       "      <td>...</td>\n",
       "      <td>0</td>\n",
       "      <td>None</td>\n",
       "      <td>PyDelphes</td>\n",
       "      <td>signal</td>\n",
       "      <td>1</td>\n",
       "      <td>tZFCNC</td>\n",
       "      <td>tZFCNC_PyDelphes</td>\n",
       "      <td>val</td>\n",
       "      <td>7.762202e-09</td>\n",
       "      <td>0.001285</td>\n",
       "    </tr>\n",
       "    <tr>\n",
       "      <th>2</th>\n",
       "      <td>0</td>\n",
       "      <td>1.476267</td>\n",
       "      <td>94.220718</td>\n",
       "      <td>238.014694</td>\n",
       "      <td>-1.788097</td>\n",
       "      <td>94.256210</td>\n",
       "      <td>2.418446</td>\n",
       "      <td>1.585315</td>\n",
       "      <td>1.127324</td>\n",
       "      <td>0.431098</td>\n",
       "      <td>...</td>\n",
       "      <td>0</td>\n",
       "      <td>None</td>\n",
       "      <td>PyDelphes</td>\n",
       "      <td>signal</td>\n",
       "      <td>1</td>\n",
       "      <td>tZFCNC</td>\n",
       "      <td>tZFCNC_PyDelphes</td>\n",
       "      <td>train</td>\n",
       "      <td>7.762249e-09</td>\n",
       "      <td>0.001285</td>\n",
       "    </tr>\n",
       "    <tr>\n",
       "      <th>3</th>\n",
       "      <td>1</td>\n",
       "      <td>0.647480</td>\n",
       "      <td>13.459283</td>\n",
       "      <td>230.971832</td>\n",
       "      <td>-1.032663</td>\n",
       "      <td>1.227122</td>\n",
       "      <td>0.467150</td>\n",
       "      <td>0.164008</td>\n",
       "      <td>0.000000</td>\n",
       "      <td>0.000000</td>\n",
       "      <td>...</td>\n",
       "      <td>0</td>\n",
       "      <td>None</td>\n",
       "      <td>PyDelphes</td>\n",
       "      <td>signal</td>\n",
       "      <td>1</td>\n",
       "      <td>tZFCNC</td>\n",
       "      <td>tZFCNC_PyDelphes</td>\n",
       "      <td>train</td>\n",
       "      <td>7.762249e-09</td>\n",
       "      <td>0.001285</td>\n",
       "    </tr>\n",
       "    <tr>\n",
       "      <th>4</th>\n",
       "      <td>0</td>\n",
       "      <td>2.106436</td>\n",
       "      <td>97.490242</td>\n",
       "      <td>698.399902</td>\n",
       "      <td>-3.059983</td>\n",
       "      <td>36.555862</td>\n",
       "      <td>2.937936</td>\n",
       "      <td>1.799140</td>\n",
       "      <td>1.093004</td>\n",
       "      <td>0.589724</td>\n",
       "      <td>...</td>\n",
       "      <td>0</td>\n",
       "      <td>None</td>\n",
       "      <td>PyDelphes</td>\n",
       "      <td>signal</td>\n",
       "      <td>1</td>\n",
       "      <td>tZFCNC</td>\n",
       "      <td>tZFCNC_PyDelphes</td>\n",
       "      <td>train</td>\n",
       "      <td>7.762249e-09</td>\n",
       "      <td>0.001285</td>\n",
       "    </tr>\n",
       "  </tbody>\n",
       "</table>\n",
       "<p>5 rows × 83 columns</p>\n",
       "</div>"
      ],
      "text/plain": [
       "   Electron_Multi  FatJet1_Eta  FatJet1_Mass  FatJet1_PT  FatJet1_Phi  \\\n",
       "0               2     1.408853     15.150869  339.182312     2.350262   \n",
       "1               1    -2.481838      7.208333  247.036240    -2.280740   \n",
       "2               0     1.476267     94.220718  238.014694    -1.788097   \n",
       "3               1     0.647480     13.459283  230.971832    -1.032663   \n",
       "4               0     2.106436     97.490242  698.399902    -3.059983   \n",
       "\n",
       "   FatJet1_Tau1  FatJet1_Tau2  FatJet1_Tau3  FatJet1_Tau4  FatJet1_Tau5  ...  \\\n",
       "0      1.396943      0.710451      0.109013      0.000000      0.000000  ...   \n",
       "1      0.428710      0.205213      0.000000      0.000000      0.000000  ...   \n",
       "2     94.256210      2.418446      1.585315      1.127324      0.431098  ...   \n",
       "3      1.227122      0.467150      0.164008      0.000000      0.000000  ...   \n",
       "4     36.555862      2.937936      1.799140      1.093004      0.589724  ...   \n",
       "\n",
       "   gen_decay2  gen_decay_filter  gen_filter  gen_label  gen_n_btags  \\\n",
       "0           0              None   PyDelphes     signal            1   \n",
       "1           0              None   PyDelphes     signal            1   \n",
       "2           0              None   PyDelphes     signal            1   \n",
       "3           0              None   PyDelphes     signal            1   \n",
       "4           0              None   PyDelphes     signal            1   \n",
       "\n",
       "   gen_sample  gen_sample_filter  gen_split   gen_weights  gen_xsec  \n",
       "0      tZFCNC   tZFCNC_PyDelphes       test  7.762202e-09  0.001285  \n",
       "1      tZFCNC   tZFCNC_PyDelphes        val  7.762202e-09  0.001285  \n",
       "2      tZFCNC   tZFCNC_PyDelphes      train  7.762249e-09  0.001285  \n",
       "3      tZFCNC   tZFCNC_PyDelphes      train  7.762249e-09  0.001285  \n",
       "4      tZFCNC   tZFCNC_PyDelphes      train  7.762249e-09  0.001285  \n",
       "\n",
       "[5 rows x 83 columns]"
      ]
     },
     "execution_count": 2,
     "metadata": {},
     "output_type": "execute_result"
    }
   ],
   "source": [
    "\n",
    "# Read the HDF5 file using pandas\n",
    "data_frame_fcnc = pd.read_hdf('fcnc_pythia_sanitised_features.h5')\n",
    "\n",
    "# Get the number of rows\n",
    "num_rows = data_frame_fcnc.shape[0]\n",
    "\n",
    "print('Number of rows: {}'.format(num_rows))\n",
    "\n",
    "# Explore the data\n",
    "data_frame_fcnc.head()\n"
   ]
  },
  {
   "cell_type": "code",
   "execution_count": 3,
   "metadata": {},
   "outputs": [
    {
     "name": "stdout",
     "output_type": "stream",
     "text": [
      "Number of rows: 1002490\n"
     ]
    },
    {
     "data": {
      "text/html": [
       "<div>\n",
       "<style scoped>\n",
       "    .dataframe tbody tr th:only-of-type {\n",
       "        vertical-align: middle;\n",
       "    }\n",
       "\n",
       "    .dataframe tbody tr th {\n",
       "        vertical-align: top;\n",
       "    }\n",
       "\n",
       "    .dataframe thead th {\n",
       "        text-align: right;\n",
       "    }\n",
       "</style>\n",
       "<table border=\"1\" class=\"dataframe\">\n",
       "  <thead>\n",
       "    <tr style=\"text-align: right;\">\n",
       "      <th></th>\n",
       "      <th>Electron_Multi</th>\n",
       "      <th>FatJet1_Eta</th>\n",
       "      <th>FatJet1_Mass</th>\n",
       "      <th>FatJet1_PT</th>\n",
       "      <th>FatJet1_Phi</th>\n",
       "      <th>FatJet1_Tau1</th>\n",
       "      <th>FatJet1_Tau2</th>\n",
       "      <th>FatJet1_Tau3</th>\n",
       "      <th>FatJet1_Tau4</th>\n",
       "      <th>FatJet1_Tau5</th>\n",
       "      <th>...</th>\n",
       "      <th>gen_decay2</th>\n",
       "      <th>gen_decay_filter</th>\n",
       "      <th>gen_filter</th>\n",
       "      <th>gen_label</th>\n",
       "      <th>gen_n_btags</th>\n",
       "      <th>gen_sample</th>\n",
       "      <th>gen_sample_filter</th>\n",
       "      <th>gen_split</th>\n",
       "      <th>gen_weights</th>\n",
       "      <th>gen_xsec</th>\n",
       "    </tr>\n",
       "  </thead>\n",
       "  <tbody>\n",
       "    <tr>\n",
       "      <th>0</th>\n",
       "      <td>2</td>\n",
       "      <td>-1.988600</td>\n",
       "      <td>52.710262</td>\n",
       "      <td>229.350952</td>\n",
       "      <td>0.728242</td>\n",
       "      <td>36.148926</td>\n",
       "      <td>23.039709</td>\n",
       "      <td>16.949991</td>\n",
       "      <td>14.424411</td>\n",
       "      <td>12.000529</td>\n",
       "      <td>...</td>\n",
       "      <td>0</td>\n",
       "      <td>2L</td>\n",
       "      <td>HT250to500</td>\n",
       "      <td>bkg</td>\n",
       "      <td>1</td>\n",
       "      <td>Zjj</td>\n",
       "      <td>Zjj_HT250to500</td>\n",
       "      <td>train</td>\n",
       "      <td>0.000018</td>\n",
       "      <td>11.9635</td>\n",
       "    </tr>\n",
       "    <tr>\n",
       "      <th>1</th>\n",
       "      <td>0</td>\n",
       "      <td>0.528382</td>\n",
       "      <td>61.115589</td>\n",
       "      <td>315.538910</td>\n",
       "      <td>-0.863614</td>\n",
       "      <td>32.592808</td>\n",
       "      <td>22.366640</td>\n",
       "      <td>16.285843</td>\n",
       "      <td>13.938633</td>\n",
       "      <td>11.180016</td>\n",
       "      <td>...</td>\n",
       "      <td>0</td>\n",
       "      <td>2L</td>\n",
       "      <td>HT250to500</td>\n",
       "      <td>bkg</td>\n",
       "      <td>1</td>\n",
       "      <td>Zjj</td>\n",
       "      <td>Zjj_HT250to500</td>\n",
       "      <td>test</td>\n",
       "      <td>0.000018</td>\n",
       "      <td>11.9635</td>\n",
       "    </tr>\n",
       "    <tr>\n",
       "      <th>2</th>\n",
       "      <td>0</td>\n",
       "      <td>1.479911</td>\n",
       "      <td>98.012802</td>\n",
       "      <td>251.109573</td>\n",
       "      <td>-3.133624</td>\n",
       "      <td>90.252274</td>\n",
       "      <td>33.646885</td>\n",
       "      <td>30.612156</td>\n",
       "      <td>27.973904</td>\n",
       "      <td>23.729696</td>\n",
       "      <td>...</td>\n",
       "      <td>0</td>\n",
       "      <td>2L</td>\n",
       "      <td>HT250to500</td>\n",
       "      <td>bkg</td>\n",
       "      <td>1</td>\n",
       "      <td>Zjj</td>\n",
       "      <td>Zjj_HT250to500</td>\n",
       "      <td>val</td>\n",
       "      <td>0.000018</td>\n",
       "      <td>11.9635</td>\n",
       "    </tr>\n",
       "    <tr>\n",
       "      <th>3</th>\n",
       "      <td>2</td>\n",
       "      <td>0.926899</td>\n",
       "      <td>-0.000007</td>\n",
       "      <td>240.909348</td>\n",
       "      <td>0.835656</td>\n",
       "      <td>0.000000</td>\n",
       "      <td>0.000000</td>\n",
       "      <td>0.000000</td>\n",
       "      <td>0.000000</td>\n",
       "      <td>0.000000</td>\n",
       "      <td>...</td>\n",
       "      <td>0</td>\n",
       "      <td>2L</td>\n",
       "      <td>HT250to500</td>\n",
       "      <td>bkg</td>\n",
       "      <td>1</td>\n",
       "      <td>Zjj</td>\n",
       "      <td>Zjj_HT250to500</td>\n",
       "      <td>val</td>\n",
       "      <td>0.000018</td>\n",
       "      <td>11.9635</td>\n",
       "    </tr>\n",
       "    <tr>\n",
       "      <th>4</th>\n",
       "      <td>0</td>\n",
       "      <td>0.781194</td>\n",
       "      <td>72.234299</td>\n",
       "      <td>206.020386</td>\n",
       "      <td>-0.320449</td>\n",
       "      <td>48.886372</td>\n",
       "      <td>20.743645</td>\n",
       "      <td>16.572512</td>\n",
       "      <td>13.070706</td>\n",
       "      <td>11.269534</td>\n",
       "      <td>...</td>\n",
       "      <td>0</td>\n",
       "      <td>2L</td>\n",
       "      <td>HT250to500</td>\n",
       "      <td>bkg</td>\n",
       "      <td>1</td>\n",
       "      <td>Zjj</td>\n",
       "      <td>Zjj_HT250to500</td>\n",
       "      <td>val</td>\n",
       "      <td>0.000018</td>\n",
       "      <td>11.9635</td>\n",
       "    </tr>\n",
       "  </tbody>\n",
       "</table>\n",
       "<p>5 rows × 58 columns</p>\n",
       "</div>"
      ],
      "text/plain": [
       "   Electron_Multi  FatJet1_Eta  FatJet1_Mass  FatJet1_PT  FatJet1_Phi  \\\n",
       "0               2    -1.988600     52.710262  229.350952     0.728242   \n",
       "1               0     0.528382     61.115589  315.538910    -0.863614   \n",
       "2               0     1.479911     98.012802  251.109573    -3.133624   \n",
       "3               2     0.926899     -0.000007  240.909348     0.835656   \n",
       "4               0     0.781194     72.234299  206.020386    -0.320449   \n",
       "\n",
       "   FatJet1_Tau1  FatJet1_Tau2  FatJet1_Tau3  FatJet1_Tau4  FatJet1_Tau5  ...  \\\n",
       "0     36.148926     23.039709     16.949991     14.424411     12.000529  ...   \n",
       "1     32.592808     22.366640     16.285843     13.938633     11.180016  ...   \n",
       "2     90.252274     33.646885     30.612156     27.973904     23.729696  ...   \n",
       "3      0.000000      0.000000      0.000000      0.000000      0.000000  ...   \n",
       "4     48.886372     20.743645     16.572512     13.070706     11.269534  ...   \n",
       "\n",
       "   gen_decay2  gen_decay_filter  gen_filter  gen_label  gen_n_btags  \\\n",
       "0           0                2L  HT250to500        bkg            1   \n",
       "1           0                2L  HT250to500        bkg            1   \n",
       "2           0                2L  HT250to500        bkg            1   \n",
       "3           0                2L  HT250to500        bkg            1   \n",
       "4           0                2L  HT250to500        bkg            1   \n",
       "\n",
       "   gen_sample  gen_sample_filter  gen_split  gen_weights  gen_xsec  \n",
       "0         Zjj     Zjj_HT250to500      train     0.000018   11.9635  \n",
       "1         Zjj     Zjj_HT250to500       test     0.000018   11.9635  \n",
       "2         Zjj     Zjj_HT250to500        val     0.000018   11.9635  \n",
       "3         Zjj     Zjj_HT250to500        val     0.000018   11.9635  \n",
       "4         Zjj     Zjj_HT250to500        val     0.000018   11.9635  \n",
       "\n",
       "[5 rows x 58 columns]"
      ]
     },
     "execution_count": 3,
     "metadata": {},
     "output_type": "execute_result"
    }
   ],
   "source": [
    "# Read the HDF5 file using pandas\n",
    "data_frame_bkg = pd.read_hdf('bkg_pythia_sanitised_features.h5')\n",
    "\n",
    "# Get the number of rows\n",
    "num_rows = data_frame_bkg.shape[0]\n",
    "\n",
    "print('Number of rows: {}'.format(num_rows))\n",
    "\n",
    "# Explore the data\n",
    "data_frame_bkg.head()\n"
   ]
  },
  {
   "cell_type": "markdown",
   "metadata": {},
   "source": [
    "## PCA:SVMS"
   ]
  },
  {
   "cell_type": "code",
   "execution_count": 4,
   "metadata": {},
   "outputs": [],
   "source": [
    "\n",
    "\n",
    "def perform_PCA (DataFeatures, pca_n_features, train, data):\n",
    "    ## Fit PCA to train data & rank components by AUC\n",
    "    pca = PCA(n_components=len(DataFeatures))\n",
    "    pca.fit(train[DataFeatures])\n",
    "\n",
    "    ## Transform the desired dataset to get its principal components\n",
    "    # Get ranked components by AUC from the train data\n",
    "    principalComponents = pca.transform(train[DataFeatures])\n",
    "\n",
    "    # Book will be a dictiorary with the AUC (values) of each component (keys)\n",
    "    book = {}\n",
    "\n",
    "    # Get values for AUC computation\n",
    "    y_true = train['gen_label'].values\n",
    "    weights = train[\"gen_xsec\"].values\n",
    "\n",
    "    # Renormalise weights\n",
    "    weights[y_true == 1] = (weights[y_true == 1] / weights[y_true == 1].sum()) * weights.shape[0] / 2\n",
    "    weights[y_true == 0] = (weights[y_true == 0] / weights[y_true == 0].sum()) * weights.shape[0] / 2\n",
    "\n",
    "    for feature_idx in range(principalComponents.shape[1]):\n",
    "        book[f\"Component {feature_idx}\"] = roc_auc_score(y_true=y_true, y_score=principalComponents[:, feature_idx], sample_weight=weights)\n",
    "\n",
    "    # Give me the best features\n",
    "    book = pd.DataFrame.from_dict(book, orient=\"index\")\n",
    "    book.columns = [\"AUC\"]\n",
    "    book.sort_values(by=\"AUC\", ascending=False, inplace=True)\n",
    "    book.reset_index(inplace=True)\n",
    "    book.rename(columns={\"index\": \"Feature\"}, inplace=True)\n",
    "\n",
    "    ## Replace current data by its components ##\n",
    "    # Get components for the current set we want\n",
    "    principalComponents = pca.transform(data[DataFeatures])\n",
    "\n",
    "    # Create a new dataframe with PCA data\n",
    "    newdf = pd.DataFrame(principalComponents, columns=[f\"Component {i}\" for i in range(principalComponents.shape[1])])\n",
    "\n",
    "    # Select the best components given their AUC performance in training data\n",
    "    newdf = newdf[book[\"Feature\"][0 : pca_n_features]]\n",
    "\n",
    "    # Add the other relevant features\n",
    "    newdf[\"gen_xsec\"] = data[\"gen_xsec\"].values\n",
    "    newdf[\"gen_label\"] = data[\"gen_label\"].values\n",
    "    newdf[\"gen_split\"] = data[\"gen_split\"].values\n",
    "\n",
    "    # Finally, replace self.data with newdf\n",
    "    data = newdf\n",
    "\n",
    "    # Update DataFeatures\n",
    "    DataFeatures = pd.Index(list(set(data.columns) - set([\"gen_label\", \"gen_xsec\", \"gen_split\"])))\n",
    "    \n",
    "    return data, DataFeatures, book\n"
   ]
  },
  {
   "cell_type": "code",
   "execution_count": 5,
   "metadata": {},
   "outputs": [],
   "source": [
    "def train_val_test(n_datapoints,n_features,method,type):\n",
    "    data_frame_fcnc_pca = data_frame_fcnc.copy()\n",
    "    data_frame_bkg_pca = data_frame_bkg.copy()\n",
    "\n",
    "    # Drop the categorical features except label, weights and gen_split\n",
    "    data_frame_fcnc_pca.drop(['gen_decay_filter', 'gen_filter', 'gen_n_btags', 'gen_sample', 'gen_sample_filter','gen_decay2','gen_decay1'], axis=1, inplace=True)\n",
    "    data_frame_bkg_pca.drop(['gen_decay_filter', 'gen_filter', 'gen_n_btags', 'gen_sample', 'gen_sample_filter','gen_decay2','gen_decay1'], axis=1, inplace=True)\n",
    "\n",
    "    # Drop the features that are not in both dataframes\n",
    "    for feature in data_frame_fcnc_pca.columns.values:\n",
    "        if feature not in data_frame_bkg_pca.columns.values:\n",
    "            data_frame_fcnc_pca.drop([feature], axis=1, inplace=True)\n",
    "\n",
    "    for feature in data_frame_bkg_pca.columns.values:\n",
    "        if feature not in data_frame_fcnc_pca.columns.values:\n",
    "            data_frame_bkg_pca.drop([feature], axis=1, inplace=True)\n",
    "        \n",
    "    # Join the dataframes\n",
    "    data = pd.concat([data_frame_fcnc_pca, data_frame_bkg_pca])\n",
    "\n",
    "    # Substitute the labels \"signal\" and \"bkg\" by 1 and 0\n",
    "    data = data.replace(['signal'], 1)\n",
    "    data= data.replace(['bkg'], 0)\n",
    "\n",
    "    # train set\n",
    "    train = data.loc[data['gen_split'] == 'train']\n",
    "    \n",
    "    # which data will be used for fitting the PCA.\n",
    "    # Everything except the weights, name and label\n",
    "    DataFeatures = pd.Index(list(set(data.columns) - set([\"gen_label\", \"gen_xsec\", \"gen_split\"])))\n",
    "\n",
    "    \n",
    "    if method == \"pca\":\n",
    "        # perform PCA on the train data\n",
    "        data, DataFeatures, book = perform_PCA (DataFeatures,n_features, train, data)\n",
    "        \n",
    "    elif method == \"sbs\":\n",
    "        Features = ['MissingET_MET', 'FatJet1_Tau1','FatJet1_Tau3','Jet2_PT','Jet1_PT']\n",
    "        DataFeatures = Features[:n_features]\n",
    "        \n",
    "    if type == \"ml\":\n",
    "        #normalize the data except the categorical features and the weights\n",
    "        data [DataFeatures] = (data [DataFeatures] - data [DataFeatures].mean()) / data [DataFeatures].std()\n",
    "        \n",
    "    elif type == \"qml\":\n",
    "        #normalize the data except the categorical features and the weights\n",
    "        data [DataFeatures] = (((data[DataFeatures] - data[DataFeatures].min()) / (data[DataFeatures].max() - data[DataFeatures].min())) * 2 - 1) * (np.pi)\n",
    "  \n",
    "    # divide the new data into train, test and validation sets\n",
    "    train = data.loc[data['gen_split'] == 'train']\n",
    "    test = data.loc[data['gen_split'] == 'test']\n",
    "    val = data.loc[data['gen_split'] == 'val']\n",
    "\n",
    "    # divide the train data into signal and background and get 500 samples of each\n",
    "    train_sgn = train.loc[train['gen_label'] == 1].sample(n=int(n_datapoints/2), random_state=42)\n",
    "    train_bkg = train.loc[train['gen_label'] == 0].sample(n=int(n_datapoints/2),random_state=42)\n",
    "    x_train = pd.concat([train_sgn, train_bkg])\n",
    "    x_train = x_train.sample(frac=1, random_state=42)\n",
    "\n",
    "    # divide the validation data into signal and background and get 500 samples of each\n",
    "    val_sgn = val.loc[val['gen_label'] == 1].sample(n=int(n_datapoints/2), random_state=42)\n",
    "    val_bkg = val.loc[val['gen_label'] == 0].sample(n=int (n_datapoints/2), random_state=42)\n",
    "    x_val = pd.concat([val_sgn, val_bkg])\n",
    "    x_val = x_val.sample(frac=1, random_state=42)\n",
    "\n",
    "    # divide the test data into signal and background and get 500 samples of each\n",
    "    test_sgn = test.loc[test['gen_label'] == 1].sample(n=int(n_datapoints/2), random_state=42)\n",
    "    test_bkg = test.loc[test['gen_label'] == 0].sample(n=int(n_datapoints/2), random_state=42)\n",
    "    x_test = pd.concat([test_sgn, test_bkg])\n",
    "    x_test = x_test.sample(frac=1, random_state=42)\n",
    "\n",
    "    # get an array with the labels for each set\n",
    "    y_train = x_train['gen_label'].values\n",
    "    y_val = x_val['gen_label'].values\n",
    "    y_test = x_test['gen_label'].values\n",
    "\n",
    "    # get an array with the weights for each set\n",
    "    w_train = x_train[\"gen_xsec\"].values\n",
    "    w_val = x_val[\"gen_xsec\"].values\n",
    "    w_test = x_test[\"gen_xsec\"].values\n",
    "\n",
    "    # get an array with the features for each set\n",
    "    x_train = x_train[DataFeatures].values\n",
    "    x_val = x_val[DataFeatures].values\n",
    "    x_test = x_test[DataFeatures].values\n",
    "    \n",
    "    return x_train, y_train, w_train, x_val, y_val, w_val, x_test, y_test, w_test"
   ]
  },
  {
   "cell_type": "markdown",
   "metadata": {},
   "source": [
    "#### SVMs : Grid search to find the best hyperparameters"
   ]
  },
  {
   "cell_type": "code",
   "execution_count": 6,
   "metadata": {},
   "outputs": [],
   "source": [
    "# get the train, test and validation sets\n",
    "x_train, y_train, w_train, x_val, y_val, w_val, x_test, y_test, w_test = train_val_test(1000,3,'pca','ml')"
   ]
  },
  {
   "cell_type": "code",
   "execution_count": 7,
   "metadata": {},
   "outputs": [
    {
     "name": "stdout",
     "output_type": "stream",
     "text": [
      "Best Hyperparameters:  {'C': 1000, 'degree': 2, 'gamma': 1, 'kernel': 'rbf'}\n",
      "Best Score:  0.5729999999999998\n",
      "Test Score:  0.9973330210157807\n"
     ]
    }
   ],
   "source": [
    "param_grid = {\n",
    "    'C': [0.0001, 0.1, 1, 5,  10, 50, 100,  150, 200, 500, 1000],\n",
    "    'gamma': [0.0001,0.001,0.1,0.5,1,5,10, 'scale'],\n",
    "    'kernel': ['linear', 'poly', 'rbf'],\n",
    "    'degree': [1,2,5]\n",
    "}\n",
    "\n",
    "# Create an SVM classifier object\n",
    "svm_clf = svm.SVC(probability=True)\n",
    "\n",
    "# Perform grid search with cross-validation\n",
    "grid_search = GridSearchCV(svm_clf, param_grid, cv=5)\n",
    "\n",
    "# Fit the grid search to your training data\n",
    "grid_search.fit(x_train, y_train, sample_weight=w_train)\n",
    "\n",
    "# Print the best hyperparameters and the corresponding score on the validation set\n",
    "print(\"Best Hyperparameters: \", grid_search.best_params_)\n",
    "best_params = grid_search.best_params_\n",
    "print(\"Best Score: \", grid_search.best_score_)\n",
    "\n",
    "# Evaluate the best model on the test set\n",
    "best_model = grid_search.best_estimator_\n",
    "test_score = best_model.score(x_test, y_test, sample_weight=w_test)\n",
    "print(\"Test Score: \", test_score)"
   ]
  },
  {
   "cell_type": "code",
   "execution_count": 8,
   "metadata": {},
   "outputs": [
    {
     "data": {
      "text/plain": [
       "'\\n# Load data (deserialize)\\nwith open(\\'gridsearch_pca_svm_all.pickle\\', \\'wb\\') as handle:\\n    grid_search = pickle.load(handle)\\n    \\ngrid_search.fit(x_train, y_train, sample_weight=w_train)\\n\\n# Print the best hyperparameters and the corresponding score on the validation set\\nprint(\"Best Hyperparameters: \", grid_search.best_params_)\\nbest_params = grid_search.best_params_\\nprint(\"Best Score: \", grid_search.best_score_)\\n'"
      ]
     },
     "execution_count": 8,
     "metadata": {},
     "output_type": "execute_result"
    }
   ],
   "source": [
    "'''\n",
    "# Load data (deserialize)\n",
    "with open('gridsearch_pca_svm_all.pickle', 'wb') as handle:\n",
    "    grid_search = pickle.load(handle)\n",
    "    \n",
    "grid_search.fit(x_train, y_train, sample_weight=w_train)\n",
    "\n",
    "# Print the best hyperparameters and the corresponding score on the validation set\n",
    "print(\"Best Hyperparameters: \", grid_search.best_params_)\n",
    "best_params = grid_search.best_params_\n",
    "print(\"Best Score: \", grid_search.best_score_)\n",
    "'''"
   ]
  },
  {
   "cell_type": "code",
   "execution_count": 9,
   "metadata": {},
   "outputs": [],
   "source": [
    "def train_svm (x_train,y_train, w_train, best_params):\n",
    "    # Renormalize weights\n",
    "    w_train[y_train == 1] = (w_train[y_train == 1] / w_train[y_train == 1].sum()) * w_train.shape[0] / 2\n",
    "    w_train[y_train == 0] = (w_train[y_train == 0] / w_train[y_train == 0].sum()) * w_train.shape[0] / 2\n",
    "    clf = svm.SVC(kernel=best_params['kernel'], probability=True, C=best_params['C'], gamma=best_params['gamma'], degree=best_params['degree'])   \n",
    "    clf.fit(x_train, y_train,sample_weight=w_train)\n",
    "    return clf\n",
    "\n",
    "def val_svm (clf, x_val, y_val, w_val):\n",
    "     # Renormalize weights\n",
    "    w_val[y_val == 1] = (w_val[y_val == 1] / w_val[y_val == 1].sum()) * w_val.shape[0] / 2\n",
    "    w_val[y_val == 0] = (w_val[y_val == 0] / w_val[y_val == 0].sum()) * w_val.shape[0] / 2\n",
    "    y_pred = clf.predict(x_val)\n",
    "    y_pred_prob = clf.predict_proba(x_val)[:,1]\n",
    "    accuracy = accuracy_score(y_val, y_pred, sample_weight=w_val)\n",
    "    auc = roc_auc_score(y_val, y_pred_prob, sample_weight=w_val)\n",
    "    fpr, tpr, thresholds = roc_curve(y_val, y_pred_prob,sample_weight=w_val)\n",
    "    return accuracy, auc, fpr, tpr, thresholds, y_pred_prob\n",
    "\n",
    "def test_svm (clf, x_test, y_test, w_test):\n",
    "    # Renormalize weights\n",
    "    w_test[y_test == 1] = (w_test[y_test == 1] / w_test[y_test == 1].sum()) * w_test.shape[0] / 2\n",
    "    w_test[y_test == 0] = (w_test[y_test == 0] / w_test[y_test == 0].sum()) * w_test.shape[0] / 2\n",
    "    y_pred = clf.predict(x_test)\n",
    "    y_pred_prob = clf.predict_proba(x_test)[:,1]\n",
    "    accuracy = accuracy_score(y_test, y_pred, sample_weight=w_test)\n",
    "    auc = roc_auc_score(y_test, y_pred_prob, sample_weight=w_test)\n",
    "    fpr, tpr, thresholds = roc_curve(y_test, y_pred_prob,sample_weight=w_test)\n",
    "    return accuracy, auc, fpr, tpr, thresholds, y_pred_prob"
   ]
  },
  {
   "cell_type": "code",
   "execution_count": 10,
   "metadata": {},
   "outputs": [
    {
     "name": "stdout",
     "output_type": "stream",
     "text": [
      "Accuracy Val: 0.6908526505589101\n",
      "AUC Val: 0.7644778442690647\n",
      "\n",
      "Accuracy Test: 0.6918909729146747\n",
      "AUC Test: 0.7236987981704259\n",
      "\n",
      "Accuracy Val: 0.7161527677802038\n",
      "AUC Val: 0.7824059787699758\n",
      "\n",
      "Accuracy Test: 0.6770406613295737\n",
      "AUC Test: 0.7485279030702972\n",
      "\n",
      "Accuracy Val: 0.6834222362789738\n",
      "AUC Val: 0.759452586156568\n",
      "\n",
      "Accuracy Test: 0.7586234857693698\n",
      "AUC Test: 0.817508250172826\n",
      "\n",
      "Accuracy Val: 0.7076918397209032\n",
      "AUC Val: 0.7452050065430169\n",
      "\n",
      "Accuracy Test: 0.7607868722821483\n",
      "AUC Test: 0.815988414736176\n",
      "\n",
      "Accuracy Val: 0.7372768443232626\n",
      "AUC Val: 0.7587437540882906\n",
      "\n",
      "Accuracy Test: 0.7493050794955465\n",
      "AUC Test: 0.7998734058877385\n",
      "\n",
      "Accuracy Val: 0.6467026880785571\n",
      "AUC Val: 0.6241908877067419\n",
      "\n",
      "Accuracy Test: 0.6525032246284876\n",
      "AUC Test: 0.7022625467897076\n",
      "\n",
      "Accuracy Val: 0.6492122299504711\n",
      "AUC Val: 0.6962686696974003\n",
      "\n",
      "Accuracy Test: 0.5864252982320367\n",
      "AUC Test: 0.6510754571111403\n",
      "\n",
      "Accuracy Val: 0.7023710234522998\n",
      "AUC Val: 0.7582388336296176\n",
      "\n",
      "Accuracy Test: 0.7612121516538944\n",
      "AUC Test: 0.7753936798233365\n",
      "\n",
      "Accuracy Val: 0.7116547690086469\n",
      "AUC Val: 0.7555189284043036\n",
      "\n",
      "Accuracy Test: 0.7540539230984258\n",
      "AUC Test: 0.7916339025541465\n",
      "\n",
      "Accuracy Val: 0.753326935052213\n",
      "AUC Val: 0.8131056548783773\n",
      "\n",
      "Accuracy Test: 0.750195021871624\n",
      "AUC Test: 0.798308388055608\n",
      "\n",
      "Accuracy Val: 0.7567238735375557\n",
      "AUC Val: 0.763347472751414\n",
      "\n",
      "Accuracy Test: 0.6528336368373286\n",
      "AUC Test: 0.7156096684058659\n",
      "\n",
      "Accuracy Val: 0.5400340683721244\n",
      "AUC Val: 0.6099776659894127\n",
      "\n",
      "Accuracy Test: 0.5509543742947988\n",
      "AUC Test: 0.7124281548165844\n",
      "\n",
      "Accuracy Val: 0.6772252472273433\n",
      "AUC Val: 0.7151764353225362\n",
      "\n",
      "Accuracy Test: 0.7732898275785173\n",
      "AUC Test: 0.8152516768832432\n",
      "\n",
      "Accuracy Val: 0.7147679086707418\n",
      "AUC Val: 0.7628833260988194\n",
      "\n",
      "Accuracy Test: 0.7470610357171649\n",
      "AUC Test: 0.7764188666198166\n",
      "\n",
      "Accuracy Val: 0.7805264474850969\n",
      "AUC Val: 0.8004224855692704\n",
      "\n",
      "Accuracy Test: 0.7590803949957889\n",
      "AUC Test: 0.8055360346925169\n",
      "\n",
      "Accuracy Val: 0.6734408895166074\n",
      "AUC Val: 0.7146331402326074\n",
      "\n",
      "Accuracy Test: 0.6949396107027593\n",
      "AUC Test: 0.7211353765197275\n",
      "\n",
      "Accuracy Val: 0.6671561846081497\n",
      "AUC Val: 0.7375653949069737\n",
      "\n",
      "Accuracy Test: 0.7778226508467907\n",
      "AUC Test: 0.7898803743230386\n",
      "\n",
      "Accuracy Val: 0.6906109165510727\n",
      "AUC Val: 0.7304979191710648\n",
      "\n",
      "Accuracy Test: 0.5707946695560543\n",
      "AUC Test: 0.5932137961895751\n",
      "\n",
      "Accuracy Val: 0.6661299201255925\n",
      "AUC Val: 0.7414663003077467\n",
      "\n",
      "Accuracy Test: 0.569804106485173\n",
      "AUC Test: 0.5709966604352531\n",
      "\n",
      "Accuracy Val: 0.6303374105253157\n",
      "AUC Val: 0.718489359573825\n",
      "\n",
      "Accuracy Test: 0.7020088462589339\n",
      "AUC Test: 0.7336729235905888\n",
      "\n",
      "Accuracy Val: 0.6826115033291079\n",
      "AUC Val: 0.7047408941915517\n",
      "\n",
      "Accuracy Test: 0.6957936845528989\n",
      "AUC Test: 0.7629436178519837\n",
      "\n",
      "Accuracy Val: 0.7084958355566882\n",
      "AUC Val: 0.7160014908761834\n",
      "\n",
      "Accuracy Test: 0.6322125197115599\n",
      "AUC Test: 0.6387449841305171\n",
      "\n",
      "Accuracy Val: 0.6685645912691925\n",
      "AUC Val: 0.6771248434825821\n",
      "\n",
      "Accuracy Test: 0.5676490879043936\n",
      "AUC Test: 0.5545176312595448\n",
      "\n",
      "Accuracy Val: 0.6389679876994613\n",
      "AUC Val: 0.689790720046727\n",
      "\n",
      "Accuracy Test: 0.5625318158374737\n",
      "AUC Test: 0.5755222001958982\n",
      "\n",
      "Accuracy Val: 0.6537767392904205\n",
      "AUC Val: 0.6985166545851744\n",
      "\n",
      "Accuracy Test: 0.6384882977140993\n",
      "AUC Test: 0.6522721210148148\n",
      "\n"
     ]
    }
   ],
   "source": [
    "pca_n_features_list = [1,2,3,4,5]\n",
    "n_datapoints_list = [250,500,1000,2000,4000]\n",
    "accuracy_test_list_pca = []\n",
    "accuracy_val_list_pca = []\n",
    "auc_test_list_pca = []\n",
    "auc_val_list_pca = []\n",
    "for pca_n_features in pca_n_features_list:\n",
    "    for n_datapoints in n_datapoints_list:\n",
    "        print('N_components: {}'.format(pca_n_features), 'N_datapoints: {}'.format(n_datapoints))\n",
    "        x_train, y_train, w_train, x_val, y_val, w_val, x_test, y_test, w_test = train_val_test(n_datapoints,pca_n_features,'pca','ml')\n",
    "        clf = train_svm(x_train,y_train, w_train, best_params)\n",
    "        accuracy, auc, fpr, tpr, thresholds, y_pred_prob = val_svm(clf, x_val, y_val, w_val)\n",
    "        print('Accuracy Val: {}'.format(accuracy))\n",
    "        print('AUC Val: {}'.format(auc))\n",
    "        print('')\n",
    "        auc_val_list_pca.append(auc)\n",
    "        accuracy, auc, fpr, tpr, thresholds, y_pred_prob = test_svm(clf, x_test, y_test, w_test)\n",
    "        print('Accuracy Test: {}'.format(accuracy))\n",
    "        print('AUC Test: {}'.format(auc))\n",
    "        print('')\n",
    "        auc_test_list_pca.append(auc)\n",
    "        "
   ]
  },
  {
   "cell_type": "markdown",
   "metadata": {},
   "source": [
    "### Without PCA:SVM - Grid search to find the best hyperparameters"
   ]
  },
  {
   "cell_type": "code",
   "execution_count": 11,
   "metadata": {},
   "outputs": [],
   "source": [
    "# get the train, test and validation sets\n",
    "x_train, y_train, w_train, x_val, y_val, w_val, x_test, y_test, w_test = train_val_test(1000,3,'sbs','ml')"
   ]
  },
  {
   "cell_type": "code",
   "execution_count": 12,
   "metadata": {},
   "outputs": [
    {
     "name": "stdout",
     "output_type": "stream",
     "text": [
      "Best Hyperparameters:  {'C': 1000, 'degree': 2, 'gamma': 1, 'kernel': 'rbf'}\n",
      "Best Score:  0.54\n",
      "Test Score:  0.9934552282674692\n"
     ]
    }
   ],
   "source": [
    "param_grid = {\n",
    "    'C': [0.0001, 0.1, 1, 5,  10, 50, 100,  150, 200, 500, 1000],\n",
    "    'gamma': [0.0001,0.001,0.1,0.5,1,5,10, 'scale'],\n",
    "    'kernel': ['linear', 'poly', 'rbf'],\n",
    "    'degree': [1,2,5]\n",
    "}\n",
    "# Create an SVM classifier object\n",
    "svm_clf = svm.SVC(probability=True)\n",
    "\n",
    "# Perform grid search with cross-validation\n",
    "grid_search = GridSearchCV(svm_clf, param_grid, cv=5)\n",
    "\n",
    "# Fit the grid search to your training data\n",
    "grid_search.fit(x_train, y_train, sample_weight=w_train)\n",
    "\n",
    "# Print the best hyperparameters and the corresponding score on the validation set\n",
    "print(\"Best Hyperparameters: \", grid_search.best_params_)\n",
    "best_params = grid_search.best_params_\n",
    "print(\"Best Score: \", grid_search.best_score_)\n",
    "\n",
    "# Evaluate the best model on the test set\n",
    "best_model = grid_search.best_estimator_\n",
    "test_score = best_model.score(x_test, y_test, sample_weight=w_test)\n",
    "print(\"Test Score: \", test_score)"
   ]
  },
  {
   "cell_type": "code",
   "execution_count": 13,
   "metadata": {},
   "outputs": [
    {
     "data": {
      "text/plain": [
       "'\\n# Load data (deserialize)\\nwith open(\\'gridsearch_no_pca_svm_all.pickle\\', \\'wb\\') as handle:\\n    grid_search = pickle.load(handle)\\n    \\ngrid_search.fit(x_train, y_train, sample_weight=w_train)\\n\\n# Print the best hyperparameters and the corresponding score on the validation set\\nprint(\"Best Hyperparameters: \", grid_search.best_params_)\\nbest_params = grid_search.best_params_\\nprint(\"Best Score: \", grid_search.best_score_)\\n'"
      ]
     },
     "execution_count": 13,
     "metadata": {},
     "output_type": "execute_result"
    }
   ],
   "source": [
    "'''\n",
    "# Load data (deserialize)\n",
    "with open('gridsearch_no_pca_svm_all.pickle', 'wb') as handle:\n",
    "    grid_search = pickle.load(handle)\n",
    "    \n",
    "grid_search.fit(x_train, y_train, sample_weight=w_train)\n",
    "\n",
    "# Print the best hyperparameters and the corresponding score on the validation set\n",
    "print(\"Best Hyperparameters: \", grid_search.best_params_)\n",
    "best_params = grid_search.best_params_\n",
    "print(\"Best Score: \", grid_search.best_score_)\n",
    "'''"
   ]
  },
  {
   "cell_type": "code",
   "execution_count": 14,
   "metadata": {},
   "outputs": [
    {
     "name": "stdout",
     "output_type": "stream",
     "text": [
      "N_components: 1 N_datapoints: 250\n",
      "Accuracy Val: 0.6526760350460031\n",
      "AUC Val: 0.6331012771493241\n",
      "\n",
      "Accuracy Test: 0.7162780547520152\n",
      "AUC Test: 0.744210254562954\n",
      "\n",
      "N_components: 1 N_datapoints: 500\n",
      "Accuracy Val: 0.6907067899552327\n",
      "AUC Val: 0.7199015081854832\n",
      "\n",
      "Accuracy Test: 0.689560408312074\n",
      "AUC Test: 0.7388099614677863\n",
      "\n",
      "N_components: 1 N_datapoints: 1000\n",
      "Accuracy Val: 0.6692237595883855\n",
      "AUC Val: 0.6892444954984996\n",
      "\n",
      "Accuracy Test: 0.7394690795905606\n",
      "AUC Test: 0.8110643076565\n",
      "\n",
      "N_components: 1 N_datapoints: 2000\n",
      "Accuracy Val: 0.6993429855673844\n",
      "AUC Val: 0.7269079507757885\n",
      "\n",
      "Accuracy Test: 0.6542477943487011\n",
      "AUC Test: 0.7887534077446372\n",
      "\n",
      "N_components: 1 N_datapoints: 4000\n",
      "Accuracy Val: 0.728114910109055\n",
      "AUC Val: 0.7867677897135338\n",
      "\n",
      "Accuracy Test: 0.7343333121150336\n",
      "AUC Test: 0.7772984100196796\n",
      "\n",
      "N_components: 2 N_datapoints: 250\n",
      "Accuracy Val: 0.6537063702738964\n",
      "AUC Val: 0.6823485671688402\n",
      "\n",
      "Accuracy Test: 0.6716341720135006\n",
      "AUC Test: 0.7153934888847383\n",
      "\n",
      "N_components: 2 N_datapoints: 500\n",
      "Accuracy Val: 0.7025776047038172\n",
      "AUC Val: 0.7419527369905428\n",
      "\n",
      "Accuracy Test: 0.6745518465219792\n",
      "AUC Test: 0.6928823186018059\n",
      "\n",
      "N_components: 2 N_datapoints: 1000\n",
      "Accuracy Val: 0.6878983947335755\n",
      "AUC Val: 0.7062211919411683\n",
      "\n",
      "Accuracy Test: 0.5390120501150766\n",
      "AUC Test: 0.6882720501364574\n",
      "\n",
      "N_components: 2 N_datapoints: 2000\n",
      "Accuracy Val: 0.7002125714629599\n",
      "AUC Val: 0.7255538415579799\n",
      "\n",
      "Accuracy Test: 0.5578835161672377\n",
      "AUC Test: 0.5981975556447171\n",
      "\n",
      "N_components: 2 N_datapoints: 4000\n",
      "Accuracy Val: 0.7717670488895778\n",
      "AUC Val: 0.8102881949082554\n",
      "\n",
      "Accuracy Test: 0.6520236946911183\n",
      "AUC Test: 0.7526157379409643\n",
      "\n",
      "N_components: 3 N_datapoints: 250\n",
      "Accuracy Val: 0.5499719022157402\n",
      "AUC Val: 0.6486067353238629\n",
      "\n",
      "Accuracy Test: 0.5650677739205809\n",
      "AUC Test: 0.6151177900070011\n",
      "\n",
      "N_components: 3 N_datapoints: 500\n",
      "Accuracy Val: 0.6620000337747405\n",
      "AUC Val: 0.7432487965074189\n",
      "\n",
      "Accuracy Test: 0.6758830686869431\n",
      "AUC Test: 0.6941939070649435\n",
      "\n",
      "N_components: 3 N_datapoints: 1000\n",
      "Accuracy Val: 0.6498290583155265\n",
      "AUC Val: 0.7094606594821822\n",
      "\n",
      "Accuracy Test: 0.7431861625481857\n",
      "AUC Test: 0.8134025255174802\n",
      "\n",
      "N_components: 3 N_datapoints: 2000\n",
      "Accuracy Val: 0.7131144902944762\n",
      "AUC Val: 0.7635424214265124\n",
      "\n",
      "Accuracy Test: 0.5176628115588421\n",
      "AUC Test: 0.6390233307562853\n",
      "\n",
      "N_components: 3 N_datapoints: 4000\n",
      "Accuracy Val: 0.7690365218411629\n",
      "AUC Val: 0.817994513339842\n",
      "\n",
      "Accuracy Test: 0.6265388748265585\n",
      "AUC Test: 0.7260167391165389\n",
      "\n",
      "N_components: 4 N_datapoints: 250\n",
      "Accuracy Val: 0.5759873235903478\n",
      "AUC Val: 0.5956529958927756\n",
      "\n",
      "Accuracy Test: 0.5489008276965464\n",
      "AUC Test: 0.6316201830445616\n",
      "\n",
      "N_components: 4 N_datapoints: 500\n",
      "Accuracy Val: 0.7063180444791708\n",
      "AUC Val: 0.7320935876110538\n",
      "\n",
      "Accuracy Test: 0.6270811317042042\n",
      "AUC Test: 0.622865902550402\n",
      "\n",
      "N_components: 4 N_datapoints: 1000\n",
      "Accuracy Val: 0.6235813360286491\n",
      "AUC Val: 0.6547235558421209\n",
      "\n",
      "Accuracy Test: 0.7360203121605042\n",
      "AUC Test: 0.8063939524220811\n",
      "\n",
      "N_components: 4 N_datapoints: 2000\n",
      "Accuracy Val: 0.644370024855184\n",
      "AUC Val: 0.6875637531430773\n",
      "\n",
      "Accuracy Test: 0.6339067493742923\n",
      "AUC Test: 0.6396336391474039\n",
      "\n",
      "N_components: 4 N_datapoints: 4000\n",
      "Accuracy Val: 0.668674407651599\n",
      "AUC Val: 0.7564605846115091\n",
      "\n",
      "Accuracy Test: 0.5679235511351478\n",
      "AUC Test: 0.6988014377082895\n",
      "\n",
      "N_components: 5 N_datapoints: 250\n",
      "Accuracy Val: 0.5693973715279264\n",
      "AUC Val: 0.5490829598608685\n",
      "\n",
      "Accuracy Test: 0.5116566132181477\n",
      "AUC Test: 0.5213540494760204\n",
      "\n",
      "N_components: 5 N_datapoints: 500\n",
      "Accuracy Val: 0.6091799255033415\n",
      "AUC Val: 0.684816399892393\n",
      "\n",
      "Accuracy Test: 0.5462493815387381\n",
      "AUC Test: 0.556352287788887\n",
      "\n",
      "N_components: 5 N_datapoints: 1000\n",
      "Accuracy Val: 0.6329348708142175\n",
      "AUC Val: 0.6674481836024473\n",
      "\n",
      "Accuracy Test: 0.7396964686219127\n",
      "AUC Test: 0.7671583825239155\n",
      "\n",
      "N_components: 5 N_datapoints: 2000\n",
      "Accuracy Val: 0.6862978328048709\n",
      "AUC Val: 0.7353047202168204\n",
      "\n",
      "Accuracy Test: 0.650405005902822\n",
      "AUC Test: 0.7073223607895432\n",
      "\n",
      "N_components: 5 N_datapoints: 4000\n",
      "Accuracy Val: 0.669931182655577\n",
      "AUC Val: 0.696422012910265\n",
      "\n",
      "Accuracy Test: 0.6580575357441975\n",
      "AUC Test: 0.7438656368334612\n",
      "\n"
     ]
    }
   ],
   "source": [
    "n_features_list = [1,2,3,4,5]\n",
    "n_datapoints_list = [250,500,1000,2000,4000]\n",
    "auc_test_list_no_pca = []\n",
    "auc_val_list_no_pca = []\n",
    "for n_features in n_features_list:\n",
    "    for n_datapoints in n_datapoints_list:\n",
    "        x_train, y_train, w_train, x_val, y_val, w_val, x_test, y_test, w_test = train_val_test(n_datapoints,n_features,'sbs','ml')\n",
    "        clf = train_svm(x_train,y_train, w_train, best_params)\n",
    "        accuracy, auc, fpr, tpr, thresholds, y_pred_prob = val_svm(clf, x_val, y_val, w_val)\n",
    "        print('N_components: {}'.format(pca_n_features), 'N_datapoints: {}'.format(n_datapoints))\n",
    "        print('Accuracy Val: {}'.format(accuracy))\n",
    "        print('AUC Val: {}'.format(auc))\n",
    "        print('')\n",
    "        auc_val_list_no_pca.append(auc)\n",
    "        accuracy, auc, fpr, tpr, thresholds, y_pred_prob = test_svm(clf, x_test, y_test, w_test)\n",
    "        print('Accuracy Test: {}'.format(accuracy))\n",
    "        print('AUC Test: {}'.format(auc))\n",
    "        print('')\n",
    "        auc_test_list_no_pca.append(auc)"
   ]
  },
  {
   "cell_type": "code",
   "execution_count": 15,
   "metadata": {},
   "outputs": [
    {
     "data": {
      "text/plain": [
       "\"\\nfig, axes = plt.subplots(2, 3, figsize=(15, 6))\\n\\nfor i, ax in enumerate(axes.flat):\\n    if i < 5:\\n        ax.plot([1, 2, 3], [1, 2, 3], label='Test')\\n        ax.legend()\\n    else:\\n        fig.delaxes(ax)\\n\\nfig.tight_layout()\\nplt.show()\\n\""
      ]
     },
     "execution_count": 15,
     "metadata": {},
     "output_type": "execute_result"
    }
   ],
   "source": [
    "'''\n",
    "fig, axes = plt.subplots(2, 3, figsize=(15, 6))\n",
    "\n",
    "for i, ax in enumerate(axes.flat):\n",
    "    if i < 5:\n",
    "        ax.plot([1, 2, 3], [1, 2, 3], label='Test')\n",
    "        ax.legend()\n",
    "    else:\n",
    "        fig.delaxes(ax)\n",
    "\n",
    "fig.tight_layout()\n",
    "plt.show()\n",
    "'''"
   ]
  },
  {
   "cell_type": "markdown",
   "metadata": {},
   "source": [
    "### PLOT"
   ]
  },
  {
   "cell_type": "code",
   "execution_count": 17,
   "metadata": {},
   "outputs": [
    {
     "data": {
      "image/png": "[encoded data removed]",
      "text/plain": [
       "<Figure size 1500x600 with 5 Axes>"
      ]
     },
     "metadata": {},
     "output_type": "display_data"
    }
   ],
   "source": [
    "# Plot  the auc roc for the test set as a funtion of the number of datapoints for each number of components/features (i want to see 5 graphics seperatly with individual titles)\n",
    "num_rows = 2\n",
    "fig, axes = plt.subplots(num_rows, 3, figsize=(15, 3 * num_rows))\n",
    "for i, ax in enumerate(axes.flat):\n",
    "    if i<5:\n",
    "        ax.plot(n_datapoints_list, auc_test_list_pca[i*5:(i+1)*5], label='PCA')\n",
    "        ax.plot(n_datapoints_list, auc_test_list_no_pca[i*5:(i+1)*5], label='SBS')\n",
    "        ax.set_title('N_components: {}'.format(i+1))\n",
    "        ax.set_xlabel('Number of datapoints')\n",
    "        ax.set_ylabel('AUC')\n",
    "        ax.legend()\n",
    "    else:\n",
    "        fig.delaxes(ax)\n",
    "\n",
    "fig.tight_layout()\n",
    "plt.show()"
   ]
  },
  {
   "cell_type": "markdown",
   "metadata": {},
   "source": [
    "## VQC"
   ]
  },
  {
   "cell_type": "markdown",
   "metadata": {},
   "source": [
    "### PCA:VQC - Grid search to find the best hyperparameters"
   ]
  },
  {
   "cell_type": "code",
   "execution_count": 18,
   "metadata": {},
   "outputs": [],
   "source": [
    "# get the train, test and validation sets\n",
    "x_train, y_train, w_train, x_val, y_val, w_val, x_test, y_test, w_test = train_val_test(1000,2,'pca','qml')"
   ]
  },
  {
   "cell_type": "code",
   "execution_count": 22,
   "metadata": {},
   "outputs": [],
   "source": [
    "# loss function\n",
    "def square_loss(labels, predictions):\n",
    "    loss = 0\n",
    "    for l, p in zip(labels, predictions):\n",
    "        loss = loss + (l - p) ** 2\n",
    "\n",
    "    loss = loss / len(labels)\n",
    "    return loss\n",
    "\n",
    "# quantum circuit function\n",
    "def circuit(n_features, n_layers, weights, x):\n",
    "        # Embedding\n",
    "        \n",
    "        qml.AngleEmbedding(x,range (0, n_features),rotation=\"X\" )\n",
    "\n",
    "        # For every layer\n",
    "        for layer in range(n_layers):\n",
    "            W1 = weights[layer]\n",
    "\n",
    "            # Define Rotations\n",
    "            for i in range(0,n_features):\n",
    "                qml.Rot(W1[i, 0], W1[i, 1], W1[i, 2], wires=i)\n",
    "\n",
    "            # Entanglement\n",
    "            if n_features != 1:\n",
    "                if n_features > 2:\n",
    "                    for i in range(n_features):\n",
    "                        if i == n_features - 1:\n",
    "                            qml.CNOT(wires=[i, 0])\n",
    "                        else:\n",
    "                            qml.CNOT(wires=[i, i + 1])\n",
    "                else:\n",
    "                    qml.CNOT(wires=[1, 0])\n",
    "\n",
    "        return qml.expval(qml.PauliZ(0))\n",
    "\n",
    "# classifier function    \n",
    "def classifier(n_features, n_layers, weights, x):\n",
    "        #c = circuit(n_features, n_layers, weights, x)\n",
    "        dev=qml.device(\"default.qubit\", wires=n_features)\n",
    "        return qml.QNode(circuit, dev)(n_features, n_layers, weights, x)\n",
    "    \n",
    "# cost function    \n",
    "def cost(n_features, n_layers,weights,X,Y,W):  \n",
    "        # Compute predictions\n",
    "        y_scores = [(classifier(n_features, n_layers,weights, x) + 1) / 2 for x in X]\n",
    "\n",
    "        loss = square_loss(Y, y_scores)\n",
    "        loss = loss * W\n",
    "        loss = loss.sum()\n",
    "        \n",
    "        return loss\n",
    "    \n",
    "# train step function    \n",
    "def train_step(n_features, n_layers,x_train,y_train, w_train, weights, opt,desc='Training'):\n",
    "        \n",
    "        # Only require grad if necessary\n",
    "        x_train = np.array(x_train, requires_grad=False)\n",
    "        y_train = np.array(y_train, requires_grad=True)\n",
    "        w_train = np.array(w_train, requires_grad=False)\n",
    "\n",
    "        # Compute cost and update weights\n",
    "        weights, loss = opt.step_and_cost(cost, n_features, n_layers,weights, X=x_train, Y=y_train, W=w_train)\n",
    "\n",
    "        return loss, weights\n",
    "    \n",
    "# validation step function\n",
    "def validation_step(n_features, n_layers, x_val, y_val, w_val, weights, best_score, epoch_number, best_score_epoch,best_weights,desc='Validation'):\n",
    "    X_val = np.array(x_val, requires_grad=False)\n",
    "    Y_val = np.array(y_val, requires_grad=False)\n",
    "    W_val = np.array(w_val, requires_grad=False)\n",
    "\n",
    "    y_scores = np.array([classifier(n_features, n_layers, weights, x) for x in X_val])\n",
    "    y_scores = (y_scores + 1) / 2\n",
    "\n",
    "    W_val[Y_val == 1] = (W_val[Y_val == 1] / W_val[Y_val == 1].sum()) * W_val.shape[0] / 2\n",
    "    W_val[Y_val == 0] = (W_val[Y_val == 0] / W_val[Y_val == 0].sum()) * W_val.shape[0] / 2\n",
    "\n",
    "    auc_score = roc_auc_score(y_true=Y_val, y_score=y_scores, sample_weight=W_val)\n",
    "    loss = cost(n_features, n_layers, weights, X_val, Y_val, W_val)\n",
    "\n",
    "\n",
    "    if best_score is None or auc_score > best_score:\n",
    "        best_score = auc_score\n",
    "        best_score_epoch = epoch_number\n",
    "        best_weights = weights\n",
    "\n",
    "    tqdm.write(f\"Epoch: {epoch_number}, Validation Loss: {loss:.4f}, AUC Score: {auc_score:.4f}\")\n",
    "\n",
    "    return best_score, best_score_epoch, best_weights\n",
    "        \n",
    "        \n",
    "# train function\n",
    "def train_vqc(n_features, n_layers, x_train, y_train,w_train,x_val,y_val,w_val, learning_rate, weights, max_epochs):\n",
    "    opt = AdamOptimizer(learning_rate)\n",
    "    best_score = None\n",
    "    best_weights = None\n",
    "    best_score_epoch = None\n",
    "    epoch_number = 0\n",
    "\n",
    "    with tqdm(total=max_epochs, desc='Epoch', unit='epoch') as pbar:\n",
    "        for epoch in range(epoch_number, max_epochs):\n",
    "            epoch_number = epoch\n",
    "\n",
    "            loss, nf_nl_weights = train_step(n_features, n_layers, x_train, y_train, w_train, weights, opt, desc='Training')\n",
    "            \n",
    "            # Log variable values using tqdm.write\n",
    "            tqdm.write(f\"Epoch: {epoch_number:}, Loss: {loss:.4f}\")\n",
    "            \n",
    "            \n",
    "            weights = nf_nl_weights[2:]\n",
    "            weights = weights[0]\n",
    "\n",
    "            if epoch_number == max_epochs - 1 or (epoch_number+1)%5==0:\n",
    "                best_score, best_score_epoch, best_weights = validation_step(n_features, n_layers, x_val, y_val, w_val, weights, best_score, epoch_number, best_score_epoch, best_weights,desc='Validation')\n",
    "                # early stopping\n",
    "                if epoch_number - best_score_epoch > 30 and epoch_number > 80:\n",
    "                    tqdm.write(f\"Early stopping at epoch {epoch_number}\")\n",
    "                    break\n",
    "\n",
    "            pbar.update(1)  # Update progress bar\n",
    "        tqdm.write(f\"Best Score: {best_score:.4f}\")            \n",
    "        \n",
    "    return best_score, best_weights\n",
    "\n",
    "\n",
    "def test_vqc(n_features, n_layers,x_test,y_test,w_test, weights):\n",
    "        # Remove grad\n",
    "        X_test = np.array(x_test, requires_grad=False)\n",
    "        Y_test = np.array(y_test, requires_grad=False)\n",
    "        W_test = np.array(w_test, requires_grad=False)\n",
    "\n",
    "        # This will be between -1 and 1, we need to convert to between 0 and 1\n",
    "        y_scores = np.array([classifier(n_features, n_layers,weights, x) for x in X_test])\n",
    "        y_scores = (y_scores + 1) / 2\n",
    "\n",
    "        # Renormalize weights\n",
    "        W_test[Y_test == 1] = (W_test[Y_test == 1] / W_test[Y_test == 1].sum()) * W_test.shape[0] / 2\n",
    "        W_test[Y_test == 0] = (W_test[Y_test == 0] / W_test[Y_test == 0].sum()) * W_test.shape[0] / 2\n",
    "\n",
    "        # Calculate ROC\n",
    "        auc_score = roc_auc_score(y_true=Y_test, y_score=y_scores, sample_weight=W_test)\n",
    "        \n",
    "        return auc_score"
   ]
  },
  {
   "cell_type": "code",
   "execution_count": 27,
   "metadata": {},
   "outputs": [
    {
     "data": {
      "application/vnd.jupyter.widget-view+json": {
       "model_id": "fc26b133432749bf858bcc96547aa4b0",
       "version_major": 2,
       "version_minor": 0
      },
      "text/plain": [
       "Epoch:   0%|          | 0/5 [00:00<?, ?epoch/s]"
      ]
     },
     "metadata": {},
     "output_type": "display_data"
    },
    {
     "name": "stdout",
     "output_type": "stream",
     "text": [
      "Epoch: 0, Loss: 60.2989\n",
      "Epoch: 1, Loss: 60.2973\n",
      "Epoch: 2, Loss: 60.2949\n",
      "Epoch: 3, Loss: 60.2919\n",
      "Epoch: 4, Loss: 60.2881\n",
      "Epoch: 4, Validation Loss: 121.1907, AUC Score: 0.4767\n",
      "Best Score: 0.4767\n"
     ]
    },
    {
     "data": {
      "application/vnd.jupyter.widget-view+json": {
       "model_id": "1891f68a98724852879cd973ea0ce2a5",
       "version_major": 2,
       "version_minor": 0
      },
      "text/plain": [
       "Epoch:   0%|          | 0/5 [00:00<?, ?epoch/s]"
      ]
     },
     "metadata": {},
     "output_type": "display_data"
    },
    {
     "name": "stdout",
     "output_type": "stream",
     "text": [
      "Epoch: 0, Loss: 60.2862\n",
      "Epoch: 1, Loss: 60.2538\n",
      "Epoch: 2, Loss: 60.2031\n",
      "Epoch: 3, Loss: 60.1338\n",
      "Epoch: 4, Loss: 60.0455\n",
      "Epoch: 4, Validation Loss: 120.4497, AUC Score: 0.4880\n",
      "Best Score: 0.4880\n"
     ]
    },
    {
     "data": {
      "application/vnd.jupyter.widget-view+json": {
       "model_id": "f32b31f4f48549cfa210c2442849cea9",
       "version_major": 2,
       "version_minor": 0
      },
      "text/plain": [
       "Epoch:   0%|          | 0/5 [00:00<?, ?epoch/s]"
      ]
     },
     "metadata": {},
     "output_type": "display_data"
    },
    {
     "name": "stdout",
     "output_type": "stream",
     "text": [
      "Epoch: 0, Loss: 60.2542\n",
      "Epoch: 1, Loss: 60.1334\n",
      "Epoch: 2, Loss: 59.9417\n",
      "Epoch: 3, Loss: 59.6772\n",
      "Epoch: 4, Loss: 59.3389\n",
      "Epoch: 4, Validation Loss: 118.3100, AUC Score: 0.5157\n",
      "Best Score: 0.5157\n"
     ]
    },
    {
     "data": {
      "application/vnd.jupyter.widget-view+json": {
       "model_id": "b12cd5d089494a738454eb4d6342603e",
       "version_major": 2,
       "version_minor": 0
      },
      "text/plain": [
       "Epoch:   0%|          | 0/5 [00:00<?, ?epoch/s]"
      ]
     },
     "metadata": {},
     "output_type": "display_data"
    },
    {
     "name": "stdout",
     "output_type": "stream",
     "text": [
      "Epoch: 0, Loss: 60.2966\n",
      "Epoch: 1, Loss: 59.2728\n",
      "Epoch: 2, Loss: 57.1562\n",
      "Epoch: 3, Loss: 53.7087\n",
      "Epoch: 4, Loss: 49.2337\n",
      "Epoch: 4, Validation Loss: 87.8126, AUC Score: 0.6299\n",
      "Best Score: 0.6299\n"
     ]
    },
    {
     "data": {
      "application/vnd.jupyter.widget-view+json": {
       "model_id": "09ff64f43fbc470f8a1f82a3d4dd69b4",
       "version_major": 2,
       "version_minor": 0
      },
      "text/plain": [
       "Epoch:   0%|          | 0/5 [00:00<?, ?epoch/s]"
      ]
     },
     "metadata": {},
     "output_type": "display_data"
    },
    {
     "name": "stdout",
     "output_type": "stream",
     "text": [
      "Epoch: 0, Loss: 60.2866\n",
      "Epoch: 1, Loss: 55.8988\n",
      "Epoch: 2, Loss: 48.6560\n",
      "Epoch: 3, Loss: 38.8538\n",
      "Epoch: 4, Loss: 31.2102\n",
      "Epoch: 4, Validation Loss: 59.0546, AUC Score: 0.6689\n",
      "Best Score: 0.6689\n"
     ]
    },
    {
     "data": {
      "application/vnd.jupyter.widget-view+json": {
       "model_id": "75b03279fd7141eaa28b152caa03840f",
       "version_major": 2,
       "version_minor": 0
      },
      "text/plain": [
       "Epoch:   0%|          | 0/5 [00:00<?, ?epoch/s]"
      ]
     },
     "metadata": {},
     "output_type": "display_data"
    },
    {
     "name": "stdout",
     "output_type": "stream",
     "text": [
      "Epoch: 0, Loss: 60.2903\n",
      "Epoch: 1, Loss: 29.6824\n",
      "Epoch: 2, Loss: 50.2150\n",
      "Epoch: 3, Loss: 39.2646\n",
      "Epoch: 4, Loss: 36.2445\n",
      "Epoch: 4, Validation Loss: 59.3163, AUC Score: 0.6689\n",
      "Best Score: 0.6689\n"
     ]
    },
    {
     "data": {
      "application/vnd.jupyter.widget-view+json": {
       "model_id": "d09098dcfd9449a7a93ad7af3501cabd",
       "version_major": 2,
       "version_minor": 0
      },
      "text/plain": [
       "Epoch:   0%|          | 0/5 [00:00<?, ?epoch/s]"
      ]
     },
     "metadata": {},
     "output_type": "display_data"
    },
    {
     "name": "stdout",
     "output_type": "stream",
     "text": [
      "Epoch: 0, Loss: 60.2920\n",
      "Epoch: 1, Loss: 38.0637\n",
      "Epoch: 2, Loss: 43.1590\n",
      "Epoch: 3, Loss: 38.6796\n",
      "Epoch: 4, Loss: 29.8880\n",
      "Epoch: 4, Validation Loss: 75.8262, AUC Score: 0.6746\n",
      "Best Score: 0.6746\n"
     ]
    }
   ],
   "source": [
    "n_layers = 3\n",
    "n_features =2\n",
    "learning_rates = [0.001, 0.005, 0.01, 0.05, 0.1, 0.5, 1.0]\n",
    "\n",
    "# Initialize best_score and best_weights\n",
    "best_score = None\n",
    "best_weights = None\n",
    "best_lr = None\n",
    "\n",
    "# Iterate over each learning rate\n",
    "for lr in learning_rates:\n",
    "        # Random weight initialization\n",
    "        weights = 0.01 * np.random.randn(n_layers, n_features, 3, requires_grad=True)\n",
    "\n",
    "        # Train the model\n",
    "        score, weights = train_vqc(n_features, n_layers,x_train,y_train,w_train, x_val,y_val,w_train,lr, weights, 5)\n",
    "\n",
    "        # Update best_score and best_weights if necessary\n",
    "        if best_score is None or score > best_score:\n",
    "            best_score = score\n",
    "            best_weights = weights\n",
    "            best_lr = lr"
   ]
  },
  {
   "cell_type": "code",
   "execution_count": null,
   "metadata": {},
   "outputs": [],
   "source": [
    "'''\n",
    "# load the best score, best weights and best learning rate\n",
    "with open('best_score_pca_vqc_all.pickle', 'wb') as handle:\n",
    "    best_score = pickle.load(handle)\n",
    "\n",
    "with open('best_weights_pca_vqc_all.pickle', 'wb') as handle:\n",
    "    best_weights = pickle.load(handle)\n",
    " \n",
    "with open('best_lr_pca_vqca_all.pickle', 'wb') as handle:\n",
    "    best_lr=pickle.load(best_lr)\n",
    "    \n",
    "print (best_score)\n",
    "print (best_weights)\n",
    "print (best_lr)\n",
    "\n",
    "'''"
   ]
  },
  {
   "cell_type": "code",
   "execution_count": 29,
   "metadata": {},
   "outputs": [
    {
     "data": {
      "application/vnd.jupyter.widget-view+json": {
       "model_id": "5973ecb9610f4210b1d115422def7f4d",
       "version_major": 2,
       "version_minor": 0
      },
      "text/plain": [
       "Epoch:   0%|          | 0/5 [00:00<?, ?epoch/s]"
      ]
     },
     "metadata": {},
     "output_type": "display_data"
    },
    {
     "name": "stdout",
     "output_type": "stream",
     "text": [
      "Epoch: 0, Loss: 60.2916\n",
      "Epoch: 1, Loss: 37.0396\n",
      "Epoch: 2, Loss: 28.5855\n",
      "Epoch: 3, Loss: 35.0318\n",
      "Epoch: 4, Loss: 30.9967\n",
      "Epoch: 4, Validation Loss: 56.0509, AUC Score: 0.6689\n",
      "Best Score: 0.6689\n",
      "N_components: 1 N_datapoints: 250 N_layers: 1\n",
      "AUC Val: 0.7419797308342647\n",
      "\n",
      "AUC Test: 0.7247790722589644\n",
      "\n"
     ]
    },
    {
     "data": {
      "application/vnd.jupyter.widget-view+json": {
       "model_id": "9d76e3b6bd704947994b117f3f87e44d",
       "version_major": 2,
       "version_minor": 0
      },
      "text/plain": [
       "Epoch:   0%|          | 0/5 [00:00<?, ?epoch/s]"
      ]
     },
     "metadata": {},
     "output_type": "display_data"
    },
    {
     "name": "stdout",
     "output_type": "stream",
     "text": [
      "Epoch: 0, Loss: 124.2398\n",
      "Epoch: 1, Loss: 74.7751\n",
      "Epoch: 2, Loss: 58.0179\n",
      "Epoch: 3, Loss: 70.9966\n",
      "Epoch: 4, Loss: 62.1559\n",
      "Epoch: 4, Validation Loss: 108.4187, AUC Score: 0.7449\n",
      "Best Score: 0.7449\n",
      "N_components: 1 N_datapoints: 500 N_layers: 1\n",
      "AUC Val: 0.7684924391619996\n",
      "\n",
      "AUC Test: 0.7430256472954327\n",
      "\n"
     ]
    },
    {
     "data": {
      "application/vnd.jupyter.widget-view+json": {
       "model_id": "aa2e382249844a529077e657698b1806",
       "version_major": 2,
       "version_minor": 0
      },
      "text/plain": [
       "Epoch:   0%|          | 0/5 [00:00<?, ?epoch/s]"
      ]
     },
     "metadata": {},
     "output_type": "display_data"
    },
    {
     "name": "stdout",
     "output_type": "stream",
     "text": [
      "Epoch: 0, Loss: 298.0970\n",
      "Epoch: 1, Loss: 179.3042\n",
      "Epoch: 2, Loss: 137.9729\n",
      "Epoch: 3, Loss: 169.8520\n",
      "Epoch: 4, Loss: 148.8610\n",
      "Epoch: 4, Validation Loss: 215.0390, AUC Score: 0.7283\n",
      "Best Score: 0.7283\n",
      "N_components: 1 N_datapoints: 1000 N_layers: 1\n",
      "AUC Val: 0.775643053169053\n",
      "\n",
      "AUC Test: 0.836317101921882\n",
      "\n"
     ]
    },
    {
     "data": {
      "application/vnd.jupyter.widget-view+json": {
       "model_id": "c5bf80e28f2d4a07a5e2bd6f65c68f41",
       "version_major": 2,
       "version_minor": 0
      },
      "text/plain": [
       "Epoch:   0%|          | 0/5 [00:00<?, ?epoch/s]"
      ]
     },
     "metadata": {},
     "output_type": "display_data"
    },
    {
     "name": "stdout",
     "output_type": "stream",
     "text": [
      "Epoch: 0, Loss: 711.2597\n",
      "Epoch: 1, Loss: 429.6181\n",
      "Epoch: 2, Loss: 328.4877\n",
      "Epoch: 3, Loss: 405.4935\n",
      "Epoch: 4, Loss: 357.7884\n",
      "Epoch: 4, Validation Loss: 433.3814, AUC Score: 0.6529\n",
      "Best Score: 0.6529\n",
      "N_components: 1 N_datapoints: 2000 N_layers: 1\n",
      "AUC Val: 0.7762487009614114\n",
      "\n",
      "AUC Test: 0.7990986781055505\n",
      "\n"
     ]
    },
    {
     "data": {
      "application/vnd.jupyter.widget-view+json": {
       "model_id": "4c2d0c117ea548b0ae1a0ff530bf88cd",
       "version_major": 2,
       "version_minor": 0
      },
      "text/plain": [
       "Epoch:   0%|          | 0/5 [00:00<?, ?epoch/s]"
      ]
     },
     "metadata": {},
     "output_type": "display_data"
    },
    {
     "name": "stdout",
     "output_type": "stream",
     "text": [
      "Epoch: 0, Loss: 1470.4573\n",
      "Epoch: 1, Loss: 880.6148\n",
      "Epoch: 2, Loss: 676.9262\n",
      "Epoch: 3, Loss: 833.0222\n",
      "Epoch: 4, Loss: 730.5680\n",
      "Epoch: 4, Validation Loss: 862.1669, AUC Score: 0.6992\n",
      "Best Score: 0.6992\n",
      "N_components: 1 N_datapoints: 4000 N_layers: 1\n",
      "AUC Val: 0.76935531137998\n",
      "\n",
      "AUC Test: 0.8081499637811931\n",
      "\n"
     ]
    },
    {
     "data": {
      "application/vnd.jupyter.widget-view+json": {
       "model_id": "637ec8517fbd4856844aa206190fb129",
       "version_major": 2,
       "version_minor": 0
      },
      "text/plain": [
       "Epoch:   0%|          | 0/5 [00:00<?, ?epoch/s]"
      ]
     },
     "metadata": {},
     "output_type": "display_data"
    },
    {
     "name": "stdout",
     "output_type": "stream",
     "text": [
      "Epoch: 0, Loss: 60.3002\n",
      "Epoch: 1, Loss: 40.6998\n",
      "Epoch: 2, Loss: 46.1927\n",
      "Epoch: 3, Loss: 38.1414\n",
      "Epoch: 4, Loss: 35.2967\n",
      "Epoch: 4, Validation Loss: 58.8090, AUC Score: 0.6689\n",
      "Best Score: 0.6689\n",
      "N_components: 1 N_datapoints: 250 N_layers: 2\n",
      "AUC Val: 0.7419797308342647\n",
      "\n",
      "AUC Test: 0.7247790722589644\n",
      "\n"
     ]
    },
    {
     "data": {
      "application/vnd.jupyter.widget-view+json": {
       "model_id": "1bad8f2763d14af2bc8b0652185cb78e",
       "version_major": 2,
       "version_minor": 0
      },
      "text/plain": [
       "Epoch:   0%|          | 0/5 [00:00<?, ?epoch/s]"
      ]
     },
     "metadata": {},
     "output_type": "display_data"
    },
    {
     "name": "stdout",
     "output_type": "stream",
     "text": [
      "Epoch: 0, Loss: 124.2459\n",
      "Epoch: 1, Loss: 86.5555\n",
      "Epoch: 2, Loss: 104.1415\n",
      "Epoch: 3, Loss: 87.6281\n",
      "Epoch: 4, Loss: 65.8212\n",
      "Epoch: 4, Validation Loss: 125.1101, AUC Score: 0.7449\n",
      "Best Score: 0.7449\n",
      "N_components: 1 N_datapoints: 500 N_layers: 2\n",
      "AUC Val: 0.7684924467955978\n",
      "\n",
      "AUC Test: 0.7430256472954327\n",
      "\n"
     ]
    },
    {
     "data": {
      "application/vnd.jupyter.widget-view+json": {
       "model_id": "0dc2cddca326488690c7380b78c091b5",
       "version_major": 2,
       "version_minor": 0
      },
      "text/plain": [
       "Epoch:   0%|          | 0/5 [00:00<?, ?epoch/s]"
      ]
     },
     "metadata": {},
     "output_type": "display_data"
    },
    {
     "name": "stdout",
     "output_type": "stream",
     "text": [
      "Epoch: 0, Loss: 298.0100\n",
      "Epoch: 1, Loss: 187.5646\n",
      "Epoch: 2, Loss: 218.5842\n",
      "Epoch: 3, Loss: 210.3808\n",
      "Epoch: 4, Loss: 187.3369\n",
      "Epoch: 4, Validation Loss: 223.0124, AUC Score: 0.7283\n",
      "Best Score: 0.7283\n",
      "N_components: 1 N_datapoints: 1000 N_layers: 2\n",
      "AUC Val: 0.7756430547534372\n",
      "\n",
      "AUC Test: 0.836317101921882\n",
      "\n"
     ]
    },
    {
     "data": {
      "application/vnd.jupyter.widget-view+json": {
       "model_id": "9ec2a41a553146c5bd38e71d98cb5f6d",
       "version_major": 2,
       "version_minor": 0
      },
      "text/plain": [
       "Epoch:   0%|          | 0/5 [00:00<?, ?epoch/s]"
      ]
     },
     "metadata": {},
     "output_type": "display_data"
    },
    {
     "name": "stdout",
     "output_type": "stream",
     "text": [
      "Epoch: 0, Loss: 711.2341\n",
      "Epoch: 1, Loss: 454.6876\n",
      "Epoch: 2, Loss: 545.5871\n",
      "Epoch: 3, Loss: 448.4053\n",
      "Epoch: 4, Loss: 385.8362\n",
      "Epoch: 4, Validation Loss: 488.6630, AUC Score: 0.6529\n",
      "Best Score: 0.6529\n",
      "N_components: 1 N_datapoints: 2000 N_layers: 2\n",
      "AUC Val: 0.7762535736428293\n",
      "\n",
      "AUC Test: 0.7990986627242275\n",
      "\n"
     ]
    },
    {
     "data": {
      "application/vnd.jupyter.widget-view+json": {
       "model_id": "2f01003a97954c78bfe92ab505f4f1a8",
       "version_major": 2,
       "version_minor": 0
      },
      "text/plain": [
       "Epoch:   0%|          | 0/5 [00:00<?, ?epoch/s]"
      ]
     },
     "metadata": {},
     "output_type": "display_data"
    },
    {
     "name": "stdout",
     "output_type": "stream",
     "text": [
      "Epoch: 0, Loss: 1470.4504\n",
      "Epoch: 1, Loss: 911.0758\n",
      "Epoch: 2, Loss: 1150.9353\n",
      "Epoch: 3, Loss: 915.5681\n",
      "Epoch: 4, Loss: 798.3609\n",
      "Epoch: 4, Validation Loss: 962.1337, AUC Score: 0.6992\n",
      "Best Score: 0.6992\n",
      "N_components: 1 N_datapoints: 4000 N_layers: 2\n",
      "AUC Val: 0.7693558050248193\n",
      "\n",
      "AUC Test: 0.8081499481095541\n",
      "\n"
     ]
    },
    {
     "data": {
      "application/vnd.jupyter.widget-view+json": {
       "model_id": "f9f9c2024e254a98ae0f287520151a56",
       "version_major": 2,
       "version_minor": 0
      },
      "text/plain": [
       "Epoch:   0%|          | 0/5 [00:00<?, ?epoch/s]"
      ]
     },
     "metadata": {},
     "output_type": "display_data"
    },
    {
     "name": "stdout",
     "output_type": "stream",
     "text": [
      "Epoch: 0, Loss: 60.2996\n",
      "Epoch: 1, Loss: 29.9469\n",
      "Epoch: 2, Loss: 56.9357\n",
      "Epoch: 3, Loss: 30.5245\n",
      "Epoch: 4, Loss: 32.3327\n",
      "Epoch: 4, Validation Loss: 93.1965, AUC Score: 0.6532\n",
      "Best Score: 0.6532\n",
      "N_components: 1 N_datapoints: 250 N_layers: 3\n",
      "AUC Val: 0.7259821039410213\n",
      "\n",
      "AUC Test: 0.7243539831324549\n",
      "\n"
     ]
    },
    {
     "data": {
      "application/vnd.jupyter.widget-view+json": {
       "model_id": "fcc942e1a3674964baf52d73248c9e81",
       "version_major": 2,
       "version_minor": 0
      },
      "text/plain": [
       "Epoch:   0%|          | 0/5 [00:00<?, ?epoch/s]"
      ]
     },
     "metadata": {},
     "output_type": "display_data"
    },
    {
     "name": "stdout",
     "output_type": "stream",
     "text": [
      "Epoch: 0, Loss: 124.2473\n",
      "Epoch: 1, Loss: 123.8428\n",
      "Epoch: 2, Loss: 92.7204\n",
      "Epoch: 3, Loss: 87.6749\n",
      "Epoch: 4, Loss: 112.2513\n",
      "Epoch: 4, Validation Loss: 121.2809, AUC Score: 0.7449\n",
      "Best Score: 0.7449\n",
      "N_components: 1 N_datapoints: 500 N_layers: 3\n",
      "AUC Val: 0.7684924467955978\n",
      "\n",
      "AUC Test: 0.7430256472954327\n",
      "\n"
     ]
    },
    {
     "data": {
      "application/vnd.jupyter.widget-view+json": {
       "model_id": "f808c974ab7643f893c02ed4be8060df",
       "version_major": 2,
       "version_minor": 0
      },
      "text/plain": [
       "Epoch:   0%|          | 0/5 [00:00<?, ?epoch/s]"
      ]
     },
     "metadata": {},
     "output_type": "display_data"
    },
    {
     "name": "stdout",
     "output_type": "stream",
     "text": [
      "Epoch: 0, Loss: 298.1077\n",
      "Epoch: 1, Loss: 297.5951\n",
      "Epoch: 2, Loss: 137.5465\n",
      "Epoch: 3, Loss: 176.8334\n",
      "Epoch: 4, Loss: 185.8046\n",
      "Epoch: 4, Validation Loss: 224.4724, AUC Score: 0.7283\n",
      "Best Score: 0.7283\n",
      "N_components: 1 N_datapoints: 1000 N_layers: 3\n",
      "AUC Val: 0.7756430515846685\n",
      "\n",
      "AUC Test: 0.836317101921882\n",
      "\n"
     ]
    },
    {
     "data": {
      "application/vnd.jupyter.widget-view+json": {
       "model_id": "f69baa3cbd2649cfbe2d613c237716e5",
       "version_major": 2,
       "version_minor": 0
      },
      "text/plain": [
       "Epoch:   0%|          | 0/5 [00:00<?, ?epoch/s]"
      ]
     },
     "metadata": {},
     "output_type": "display_data"
    },
    {
     "name": "stdout",
     "output_type": "stream",
     "text": [
      "Epoch: 0, Loss: 711.0653\n",
      "Epoch: 1, Loss: 329.4039\n",
      "Epoch: 2, Loss: 512.6332\n",
      "Epoch: 3, Loss: 496.5563\n",
      "Epoch: 4, Loss: 541.2621\n",
      "Epoch: 4, Validation Loss: 472.8659, AUC Score: 0.6529\n",
      "Best Score: 0.6529\n",
      "N_components: 1 N_datapoints: 2000 N_layers: 3\n",
      "AUC Val: 0.7762487112896337\n",
      "\n",
      "AUC Test: 0.7990986781055505\n",
      "\n"
     ]
    },
    {
     "data": {
      "application/vnd.jupyter.widget-view+json": {
       "model_id": "945489fbf85d492a9998d125f9893992",
       "version_major": 2,
       "version_minor": 0
      },
      "text/plain": [
       "Epoch:   0%|          | 0/5 [00:00<?, ?epoch/s]"
      ]
     },
     "metadata": {},
     "output_type": "display_data"
    },
    {
     "name": "stdout",
     "output_type": "stream",
     "text": [
      "Epoch: 0, Loss: 1470.5218\n",
      "Epoch: 1, Loss: 741.7510\n",
      "Epoch: 2, Loss: 1358.6482\n",
      "Epoch: 3, Loss: 1443.0962\n",
      "Epoch: 4, Loss: 1140.8587\n",
      "Epoch: 4, Validation Loss: 1226.6929, AUC Score: 0.3008\n",
      "Best Score: 0.3008\n",
      "N_components: 1 N_datapoints: 4000 N_layers: 3\n",
      "AUC Val: 0.230644683128053\n",
      "\n",
      "AUC Test: 0.19185003634857561\n",
      "\n"
     ]
    },
    {
     "data": {
      "application/vnd.jupyter.widget-view+json": {
       "model_id": "26b82405c07b4b2483342674a6e9ad67",
       "version_major": 2,
       "version_minor": 0
      },
      "text/plain": [
       "Epoch:   0%|          | 0/5 [00:00<?, ?epoch/s]"
      ]
     },
     "metadata": {},
     "output_type": "display_data"
    },
    {
     "name": "stdout",
     "output_type": "stream",
     "text": [
      "Epoch: 0, Loss: 60.2866\n",
      "Epoch: 1, Loss: 30.5377\n",
      "Epoch: 2, Loss: 29.9148\n",
      "Epoch: 3, Loss: 28.3816\n",
      "Epoch: 4, Loss: 28.8910\n",
      "Epoch: 4, Validation Loss: 69.9394, AUC Score: 0.6385\n",
      "Best Score: 0.6385\n",
      "N_components: 1 N_datapoints: 250 N_layers: 4\n",
      "AUC Val: 0.7178326101560334\n",
      "\n",
      "AUC Test: 0.7155302823655644\n",
      "\n"
     ]
    },
    {
     "data": {
      "application/vnd.jupyter.widget-view+json": {
       "model_id": "9bcaf12d670d4fe689e5b58a5fb1728d",
       "version_major": 2,
       "version_minor": 0
      },
      "text/plain": [
       "Epoch:   0%|          | 0/5 [00:00<?, ?epoch/s]"
      ]
     },
     "metadata": {},
     "output_type": "display_data"
    },
    {
     "name": "stdout",
     "output_type": "stream",
     "text": [
      "Epoch: 0, Loss: 124.2457\n",
      "Epoch: 1, Loss: 71.5087\n",
      "Epoch: 2, Loss: 67.1163\n",
      "Epoch: 3, Loss: 86.7766\n",
      "Epoch: 4, Loss: 87.8856\n",
      "Epoch: 4, Validation Loss: 124.2605, AUC Score: 0.7449\n",
      "Best Score: 0.7449\n",
      "N_components: 1 N_datapoints: 500 N_layers: 4\n",
      "AUC Val: 0.7684924009940088\n",
      "\n",
      "AUC Test: 0.7430256472954327\n",
      "\n"
     ]
    },
    {
     "data": {
      "application/vnd.jupyter.widget-view+json": {
       "model_id": "0b916f9d6684479fbeb372540ab2fbda",
       "version_major": 2,
       "version_minor": 0
      },
      "text/plain": [
       "Epoch:   0%|          | 0/5 [00:00<?, ?epoch/s]"
      ]
     },
     "metadata": {},
     "output_type": "display_data"
    },
    {
     "name": "stdout",
     "output_type": "stream",
     "text": [
      "Epoch: 0, Loss: 298.1098\n",
      "Epoch: 1, Loss: 174.7228\n",
      "Epoch: 2, Loss: 161.8741\n",
      "Epoch: 3, Loss: 208.5383\n",
      "Epoch: 4, Loss: 189.0038\n",
      "Epoch: 4, Validation Loss: 237.0271, AUC Score: 0.7283\n",
      "Best Score: 0.7283\n",
      "N_components: 1 N_datapoints: 1000 N_layers: 4\n",
      "AUC Val: 0.775643048173059\n",
      "\n",
      "AUC Test: 0.836317101921882\n",
      "\n"
     ]
    },
    {
     "data": {
      "application/vnd.jupyter.widget-view+json": {
       "model_id": "c778f254799e4ae3945474b5b39e6f73",
       "version_major": 2,
       "version_minor": 0
      },
      "text/plain": [
       "Epoch:   0%|          | 0/5 [00:00<?, ?epoch/s]"
      ]
     },
     "metadata": {},
     "output_type": "display_data"
    },
    {
     "name": "stdout",
     "output_type": "stream",
     "text": [
      "Epoch: 0, Loss: 711.0843\n",
      "Epoch: 1, Loss: 521.5279\n",
      "Epoch: 2, Loss: 554.5286\n",
      "Epoch: 3, Loss: 472.5878\n",
      "Epoch: 4, Loss: 494.3397\n",
      "Epoch: 4, Validation Loss: 637.0759, AUC Score: 0.5222\n",
      "Best Score: 0.5222\n",
      "N_components: 1 N_datapoints: 2000 N_layers: 4\n",
      "AUC Val: 0.45936743945784264\n",
      "\n",
      "AUC Test: 0.4171456496122058\n",
      "\n"
     ]
    },
    {
     "data": {
      "application/vnd.jupyter.widget-view+json": {
       "model_id": "4a1cf253f2564979a14947a839d6f43c",
       "version_major": 2,
       "version_minor": 0
      },
      "text/plain": [
       "Epoch:   0%|          | 0/5 [00:00<?, ?epoch/s]"
      ]
     },
     "metadata": {},
     "output_type": "display_data"
    },
    {
     "name": "stdout",
     "output_type": "stream",
     "text": [
      "Epoch: 0, Loss: 1469.7353\n",
      "Epoch: 1, Loss: 841.8002\n",
      "Epoch: 2, Loss: 775.3677\n",
      "Epoch: 3, Loss: 1142.7995\n",
      "Epoch: 4, Loss: 971.4808\n",
      "Epoch: 4, Validation Loss: 1832.5428, AUC Score: 0.6122\n",
      "Best Score: 0.6122\n",
      "N_components: 1 N_datapoints: 4000 N_layers: 4\n",
      "AUC Val: 0.7014513682663348\n",
      "\n",
      "AUC Test: 0.7608228138533717\n",
      "\n"
     ]
    },
    {
     "data": {
      "application/vnd.jupyter.widget-view+json": {
       "model_id": "5817b9d8907e4137bf55174936a98ba4",
       "version_major": 2,
       "version_minor": 0
      },
      "text/plain": [
       "Epoch:   0%|          | 0/5 [00:00<?, ?epoch/s]"
      ]
     },
     "metadata": {},
     "output_type": "display_data"
    },
    {
     "name": "stdout",
     "output_type": "stream",
     "text": [
      "Epoch: 0, Loss: 60.3013\n",
      "Epoch: 1, Loss: 43.9062\n",
      "Epoch: 2, Loss: 28.0577\n",
      "Epoch: 3, Loss: 34.3811\n",
      "Epoch: 4, Loss: 35.7403\n",
      "Epoch: 4, Validation Loss: 91.2341, AUC Score: 0.6750\n",
      "Best Score: 0.6750\n",
      "N_components: 1 N_datapoints: 250 N_layers: 5\n",
      "AUC Val: 0.7496211996977409\n",
      "\n",
      "AUC Test: 0.7247781764838663\n",
      "\n"
     ]
    },
    {
     "data": {
      "application/vnd.jupyter.widget-view+json": {
       "model_id": "d4c7331ccb0b4ef3a1fae8740da598a0",
       "version_major": 2,
       "version_minor": 0
      },
      "text/plain": [
       "Epoch:   0%|          | 0/5 [00:00<?, ?epoch/s]"
      ]
     },
     "metadata": {},
     "output_type": "display_data"
    },
    {
     "name": "stdout",
     "output_type": "stream",
     "text": [
      "Epoch: 0, Loss: 124.2165\n",
      "Epoch: 1, Loss: 81.5874\n",
      "Epoch: 2, Loss: 122.4161\n",
      "Epoch: 3, Loss: 93.5583\n",
      "Epoch: 4, Loss: 113.7647\n",
      "Epoch: 4, Validation Loss: 181.0127, AUC Score: 0.2565\n",
      "Best Score: 0.2565\n",
      "N_components: 1 N_datapoints: 500 N_layers: 5\n",
      "AUC Val: 0.23228219428721514\n",
      "\n",
      "AUC Test: 0.25710445051986497\n",
      "\n"
     ]
    },
    {
     "data": {
      "application/vnd.jupyter.widget-view+json": {
       "model_id": "3620cc5fd1ba4659839d11d97bffa4a2",
       "version_major": 2,
       "version_minor": 0
      },
      "text/plain": [
       "Epoch:   0%|          | 0/5 [00:00<?, ?epoch/s]"
      ]
     },
     "metadata": {},
     "output_type": "display_data"
    },
    {
     "name": "stdout",
     "output_type": "stream",
     "text": [
      "Epoch: 0, Loss: 298.0407\n",
      "Epoch: 1, Loss: 189.7422\n",
      "Epoch: 2, Loss: 295.2261\n",
      "Epoch: 3, Loss: 236.4985\n",
      "Epoch: 4, Loss: 235.8849\n",
      "Epoch: 4, Validation Loss: 418.5639, AUC Score: 0.2973\n",
      "Best Score: 0.2973\n",
      "N_components: 1 N_datapoints: 1000 N_layers: 5\n",
      "AUC Val: 0.2454581732331353\n",
      "\n",
      "AUC Test: 0.17685183441069516\n",
      "\n"
     ]
    },
    {
     "data": {
      "application/vnd.jupyter.widget-view+json": {
       "model_id": "0bbe9b19f73e4efdb5b43193b2dd40b4",
       "version_major": 2,
       "version_minor": 0
      },
      "text/plain": [
       "Epoch:   0%|          | 0/5 [00:00<?, ?epoch/s]"
      ]
     },
     "metadata": {},
     "output_type": "display_data"
    },
    {
     "name": "stdout",
     "output_type": "stream",
     "text": [
      "Epoch: 0, Loss: 711.2540\n",
      "Epoch: 1, Loss: 470.7812\n",
      "Epoch: 2, Loss: 393.7739\n",
      "Epoch: 3, Loss: 380.2729\n",
      "Epoch: 4, Loss: 472.7884\n",
      "Epoch: 4, Validation Loss: 549.3829, AUC Score: 0.6528\n",
      "Best Score: 0.6528\n",
      "N_components: 1 N_datapoints: 2000 N_layers: 5\n",
      "AUC Val: 0.7762403637608879\n",
      "\n",
      "AUC Test: 0.799095760756165\n",
      "\n"
     ]
    },
    {
     "data": {
      "application/vnd.jupyter.widget-view+json": {
       "model_id": "9c1133c8fbf6441889e4b0074913a3e0",
       "version_major": 2,
       "version_minor": 0
      },
      "text/plain": [
       "Epoch:   0%|          | 0/5 [00:00<?, ?epoch/s]"
      ]
     },
     "metadata": {},
     "output_type": "display_data"
    },
    {
     "name": "stdout",
     "output_type": "stream",
     "text": [
      "Epoch: 0, Loss: 1470.4067\n",
      "Epoch: 1, Loss: 984.3371\n",
      "Epoch: 2, Loss: 798.4209\n",
      "Epoch: 3, Loss: 688.5157\n",
      "Epoch: 4, Loss: 1198.8148\n",
      "Epoch: 4, Validation Loss: 1513.3277, AUC Score: 0.6993\n",
      "Best Score: 0.6993\n",
      "N_components: 1 N_datapoints: 4000 N_layers: 5\n",
      "AUC Val: 0.7702472283008397\n",
      "\n",
      "AUC Test: 0.8102809939244726\n",
      "\n"
     ]
    },
    {
     "data": {
      "application/vnd.jupyter.widget-view+json": {
       "model_id": "54194151e4284cc5b6a601468693e859",
       "version_major": 2,
       "version_minor": 0
      },
      "text/plain": [
       "Epoch:   0%|          | 0/5 [00:00<?, ?epoch/s]"
      ]
     },
     "metadata": {},
     "output_type": "display_data"
    },
    {
     "name": "stdout",
     "output_type": "stream",
     "text": [
      "Epoch: 0, Loss: 31.5842\n",
      "Epoch: 1, Loss: 30.0184\n",
      "Epoch: 2, Loss: 32.3293\n",
      "Epoch: 3, Loss: 32.6480\n",
      "Epoch: 4, Loss: 30.6271\n",
      "Epoch: 4, Validation Loss: 62.1835, AUC Score: 0.6153\n",
      "Best Score: 0.6153\n",
      "N_components: 2 N_datapoints: 250 N_layers: 1\n",
      "AUC Val: 0.6658026494132875\n",
      "\n",
      "AUC Test: 0.7926810462914977\n",
      "\n"
     ]
    },
    {
     "data": {
      "application/vnd.jupyter.widget-view+json": {
       "model_id": "7ab62581b53f4bb59e725096876a2239",
       "version_major": 2,
       "version_minor": 0
      },
      "text/plain": [
       "Epoch:   0%|          | 0/5 [00:00<?, ?epoch/s]"
      ]
     },
     "metadata": {},
     "output_type": "display_data"
    },
    {
     "name": "stdout",
     "output_type": "stream",
     "text": [
      "Epoch: 0, Loss: 66.1185\n",
      "Epoch: 1, Loss: 71.5659\n",
      "Epoch: 2, Loss: 66.0762\n",
      "Epoch: 3, Loss: 62.8838\n",
      "Epoch: 4, Loss: 61.8212\n",
      "Epoch: 4, Validation Loss: 130.9563, AUC Score: 0.6487\n",
      "Best Score: 0.6487\n",
      "N_components: 2 N_datapoints: 500 N_layers: 1\n",
      "AUC Val: 0.601813335821581\n",
      "\n",
      "AUC Test: 0.6614330864351355\n",
      "\n"
     ]
    },
    {
     "data": {
      "application/vnd.jupyter.widget-view+json": {
       "model_id": "59a5df7f1fd448b9b8d5ad71a7be02e4",
       "version_major": 2,
       "version_minor": 0
      },
      "text/plain": [
       "Epoch:   0%|          | 0/5 [00:00<?, ?epoch/s]"
      ]
     },
     "metadata": {},
     "output_type": "display_data"
    },
    {
     "name": "stdout",
     "output_type": "stream",
     "text": [
      "Epoch: 0, Loss: 159.2002\n",
      "Epoch: 1, Loss: 164.3656\n",
      "Epoch: 2, Loss: 153.3385\n",
      "Epoch: 3, Loss: 167.5684\n",
      "Epoch: 4, Loss: 169.1494\n",
      "Epoch: 4, Validation Loss: 265.9685, AUC Score: 0.3155\n",
      "Best Score: 0.3155\n",
      "N_components: 2 N_datapoints: 1000 N_layers: 1\n",
      "AUC Val: 0.39932378832401927\n",
      "\n",
      "AUC Test: 0.315132971452607\n",
      "\n"
     ]
    },
    {
     "data": {
      "application/vnd.jupyter.widget-view+json": {
       "model_id": "91f8e5bf99de45e78251b9350d9e190c",
       "version_major": 2,
       "version_minor": 0
      },
      "text/plain": [
       "Epoch:   0%|          | 0/5 [00:00<?, ?epoch/s]"
      ]
     },
     "metadata": {},
     "output_type": "display_data"
    },
    {
     "name": "stdout",
     "output_type": "stream",
     "text": [
      "Epoch: 0, Loss: 374.5739\n",
      "Epoch: 1, Loss: 408.1377\n",
      "Epoch: 2, Loss: 377.0708\n",
      "Epoch: 3, Loss: 359.7074\n",
      "Epoch: 4, Loss: 349.7767\n",
      "Epoch: 4, Validation Loss: 522.4321, AUC Score: 0.6790\n",
      "Best Score: 0.6790\n",
      "N_components: 2 N_datapoints: 2000 N_layers: 1\n",
      "AUC Val: 0.6661564755771844\n",
      "\n",
      "AUC Test: 0.7515155530801874\n",
      "\n"
     ]
    },
    {
     "data": {
      "application/vnd.jupyter.widget-view+json": {
       "model_id": "5997afbb68b241f39802f32a3648aa68",
       "version_major": 2,
       "version_minor": 0
      },
      "text/plain": [
       "Epoch:   0%|          | 0/5 [00:00<?, ?epoch/s]"
      ]
     },
     "metadata": {},
     "output_type": "display_data"
    },
    {
     "name": "stdout",
     "output_type": "stream",
     "text": [
      "Epoch: 0, Loss: 778.5926\n",
      "Epoch: 1, Loss: 842.0599\n",
      "Epoch: 2, Loss: 779.3898\n",
      "Epoch: 3, Loss: 742.3319\n",
      "Epoch: 4, Loss: 730.1872\n",
      "Epoch: 4, Validation Loss: 1020.6167, AUC Score: 0.7117\n",
      "Best Score: 0.7117\n",
      "N_components: 2 N_datapoints: 4000 N_layers: 1\n",
      "AUC Val: 0.7325180383473219\n",
      "\n",
      "AUC Test: 0.7286468878584171\n",
      "\n"
     ]
    },
    {
     "data": {
      "application/vnd.jupyter.widget-view+json": {
       "model_id": "35153f5e219d49689363b71c53716994",
       "version_major": 2,
       "version_minor": 0
      },
      "text/plain": [
       "Epoch:   0%|          | 0/5 [00:00<?, ?epoch/s]"
      ]
     },
     "metadata": {},
     "output_type": "display_data"
    },
    {
     "name": "stdout",
     "output_type": "stream",
     "text": [
      "Epoch: 0, Loss: 60.3217\n",
      "Epoch: 1, Loss: 43.1240\n",
      "Epoch: 2, Loss: 55.7630\n",
      "Epoch: 3, Loss: 45.0284\n",
      "Epoch: 4, Loss: 39.4740\n",
      "Epoch: 4, Validation Loss: 78.5274, AUC Score: 0.5746\n",
      "Best Score: 0.5746\n",
      "N_components: 2 N_datapoints: 250 N_layers: 2\n",
      "AUC Val: 0.6657230024414513\n",
      "\n",
      "AUC Test: 0.6247006107880567\n",
      "\n"
     ]
    },
    {
     "data": {
      "application/vnd.jupyter.widget-view+json": {
       "model_id": "47f4cb010b9f42d8996f5f31b40a9025",
       "version_major": 2,
       "version_minor": 0
      },
      "text/plain": [
       "Epoch:   0%|          | 0/5 [00:00<?, ?epoch/s]"
      ]
     },
     "metadata": {},
     "output_type": "display_data"
    },
    {
     "name": "stdout",
     "output_type": "stream",
     "text": [
      "Epoch: 0, Loss: 124.2084\n",
      "Epoch: 1, Loss: 90.3366\n",
      "Epoch: 2, Loss: 81.5461\n",
      "Epoch: 3, Loss: 61.7661\n",
      "Epoch: 4, Loss: 58.8072\n",
      "Epoch: 4, Validation Loss: 183.5570, AUC Score: 0.7782\n",
      "Best Score: 0.7782\n",
      "N_components: 2 N_datapoints: 500 N_layers: 2\n",
      "AUC Val: 0.7774773075327457\n",
      "\n",
      "AUC Test: 0.7466040456415622\n",
      "\n"
     ]
    },
    {
     "data": {
      "application/vnd.jupyter.widget-view+json": {
       "model_id": "0e4f578309a2497bbf8b8991e4df8322",
       "version_major": 2,
       "version_minor": 0
      },
      "text/plain": [
       "Epoch:   0%|          | 0/5 [00:00<?, ?epoch/s]"
      ]
     },
     "metadata": {},
     "output_type": "display_data"
    },
    {
     "name": "stdout",
     "output_type": "stream",
     "text": [
      "Epoch: 0, Loss: 297.8551\n",
      "Epoch: 1, Loss: 169.6555\n",
      "Epoch: 2, Loss: 179.0435\n",
      "Epoch: 3, Loss: 162.0156\n",
      "Epoch: 4, Loss: 163.6157\n",
      "Epoch: 4, Validation Loss: 290.4864, AUC Score: 0.6877\n",
      "Best Score: 0.6877\n",
      "N_components: 2 N_datapoints: 1000 N_layers: 2\n",
      "AUC Val: 0.7565900658553474\n",
      "\n",
      "AUC Test: 0.8041074376082276\n",
      "\n"
     ]
    },
    {
     "data": {
      "application/vnd.jupyter.widget-view+json": {
       "model_id": "32695bfa4e8447f6b86d689cca467e29",
       "version_major": 2,
       "version_minor": 0
      },
      "text/plain": [
       "Epoch:   0%|          | 0/5 [00:00<?, ?epoch/s]"
      ]
     },
     "metadata": {},
     "output_type": "display_data"
    },
    {
     "name": "stdout",
     "output_type": "stream",
     "text": [
      "Epoch: 0, Loss: 711.8341\n",
      "Epoch: 1, Loss: 512.1284\n",
      "Epoch: 2, Loss: 636.5407\n",
      "Epoch: 3, Loss: 476.1161\n",
      "Epoch: 4, Loss: 506.5954\n",
      "Epoch: 4, Validation Loss: 530.1422, AUC Score: 0.5667\n",
      "Best Score: 0.5667\n",
      "N_components: 2 N_datapoints: 2000 N_layers: 2\n",
      "AUC Val: 0.6536002860778642\n",
      "\n",
      "AUC Test: 0.6565565429148799\n",
      "\n"
     ]
    },
    {
     "data": {
      "application/vnd.jupyter.widget-view+json": {
       "model_id": "f2692d50d37e4840ada8256e6b9c89fd",
       "version_major": 2,
       "version_minor": 0
      },
      "text/plain": [
       "Epoch:   0%|          | 0/5 [00:00<?, ?epoch/s]"
      ]
     },
     "metadata": {},
     "output_type": "display_data"
    },
    {
     "name": "stdout",
     "output_type": "stream",
     "text": [
      "Epoch: 0, Loss: 1470.0001\n",
      "Epoch: 1, Loss: 844.1944\n"
     ]
    }
   ],
   "source": [
    "pca_n_features_list = [1,2,3,4,5]\n",
    "n_layers_list = [1,2,3,4,5]\n",
    "n_datapoints_list = [250,500,1000,2000,4000]\n",
    "auc_test_list_pca_vqc = []\n",
    "auc_val_list_pca_vqc = []\n",
    "for pca_n_features in pca_n_features_list:\n",
    "    for n_layers in n_layers_list:\n",
    "        for n_datapoints in n_datapoints_list:\n",
    "            weights = 0.01 * np.random.randn(n_layers, pca_n_features, 3, requires_grad=True)\n",
    "            x_train, y_train, w_train, x_val, y_val, w_val, x_test, y_test, w_test = train_val_test(n_datapoints,pca_n_features,'pca','qml')             \n",
    "            best_score, best_weights = train_vqc(pca_n_features, n_layers,x_train,y_train,w_train, x_val,y_val,w_train,best_lr, weights, 5)\n",
    "            auc_score_val = test_vqc(pca_n_features, n_layers,x_val,y_val,w_val, best_weights)\n",
    "            print('N_components: {}'.format(pca_n_features), 'N_datapoints: {}'.format(n_datapoints), 'N_layers: {}'.format(n_layers))\n",
    "            print('AUC Val: {}'.format(auc_score_val))\n",
    "            print('')\n",
    "            auc_score_test = test_vqc(pca_n_features, n_layers,x_test,y_test,w_test, best_weights)\n",
    "            print('AUC Test: {}'.format(auc_score_test))\n",
    "            print('')\n",
    "            auc_test_list_pca_vqc.append(auc_score_test)\n",
    "            auc_val_list_pca_vqc.append(auc_score_val)"
   ]
  },
  {
   "cell_type": "code",
   "execution_count": null,
   "metadata": {},
   "outputs": [],
   "source": [
    "'''\n",
    "# load the best score, best weights and best learning rate\n",
    "with open('auc_test_list_pca_vqc.pickle', 'wb') as handle:\n",
    "    auc_test_list_pca_vqc= load(handle)\n",
    "\n",
    "with open('auc_val_list_pca_vqc.pickle', 'wb') as handle:\n",
    "    auc_val_list_pca_vqc.pickle= load(handle)\n",
    " \n",
    "print (auc_test_list_pca_vqc)\n",
    "print (auc_val_list_pca_vqc)\n",
    "\n",
    "'''"
   ]
  },
  {
   "cell_type": "markdown",
   "metadata": {},
   "source": [
    "### Without PCA:VQC -Grid search to find the best hyperparameters"
   ]
  },
  {
   "cell_type": "code",
   "execution_count": null,
   "metadata": {},
   "outputs": [],
   "source": [
    "# get the train, test and validation sets\n",
    "x_train, y_train, w_train, x_val, y_val, w_val, x_test, y_test, w_test = train_val_test(1000,2,'sbs','qml')"
   ]
  },
  {
   "cell_type": "code",
   "execution_count": null,
   "metadata": {},
   "outputs": [],
   "source": [
    "n_layers = 3\n",
    "n_features =2\n",
    "learning_rates = [0.001, 0.005, 0.01, 0.05, 0.1, 0.5, 1.0]\n",
    "\n",
    "# Initialize best_score and best_weights\n",
    "best_score = None\n",
    "best_weights = None\n",
    "best_lr = None\n",
    "\n",
    "# Iterate over each learning rate\n",
    "for lr in learning_rates:\n",
    "        # Random weight initialization\n",
    "        weights = 0.01 * np.random.randn(n_layers, n_features, 3, requires_grad=True)\n",
    "\n",
    "        # Train the model\n",
    "        score, weights = train_vqc(n_features, n_layers,x_train,y_train,w_train, x_val,y_val,w_train,lr, weights, 5)\n",
    "\n",
    "        # Update best_score and best_weights if necessary\n",
    "        if best_score is None or score > best_score:\n",
    "            best_score = score\n",
    "            best_weights = weights\n",
    "            best_lr = lr"
   ]
  },
  {
   "cell_type": "code",
   "execution_count": null,
   "metadata": {},
   "outputs": [],
   "source": [
    "'''\n",
    "# load the best score, best weights and best learning rate\n",
    "with open('best_score_no_pca_vqc_all.pickle', 'wb') as handle:\n",
    "    best_score = pickle.load(handle)\n",
    "\n",
    "with open('best_weights_no_pca_vqc_all.pickle', 'wb') as handle:\n",
    "    best_weights = pickle.load(handle)\n",
    " \n",
    "with open('best_lr_no_pca_vqca_all.pickle', 'wb') as handle:\n",
    "    best_lr=pickle.load(handle)\n",
    "    \n",
    "print (best_score)\n",
    "print (best_weights)\n",
    "print (best_lr)\n",
    "\n",
    "'''"
   ]
  },
  {
   "cell_type": "code",
   "execution_count": null,
   "metadata": {},
   "outputs": [],
   "source": [
    "n_features_list = [1,2,3,4,5]\n",
    "n_layers_list = [1,2,3,4,5]\n",
    "n_datapoints_list = [250,500,1000,2000,4000]\n",
    "auc_test_list_no_pca_vqc = []\n",
    "auc_val_list_no_pca_vqc = []\n",
    "for n_features in n_features_list:\n",
    "    for n_layers in n_layers_list:\n",
    "        for n_datapoints in n_datapoints_list:\n",
    "            weights = 0.01 * np.random.randn(n_layers, n_features, 3, requires_grad=True)\n",
    "            x_train, y_train, w_train, x_val, y_val, w_val, x_test, y_test, w_test = train_val_test(n_datapoints,n_features,'pca','qml')             \n",
    "            best_score, best_weights = train_vqc(n_features, n_layers,x_train,y_train,w_train, x_val,y_val,w_train,best_lr, weights, 5)\n",
    "            auc_score_val = test_vqc(n_features, n_layers,x_val,y_val,w_val, best_weights)\n",
    "            print('N_components: {}'.format(n_features), 'N_datapoints: {}'.format(n_datapoints), 'N_layers: {}'.format(n_layers))\n",
    "            print('AUC Val: {}'.format(auc_score_val))\n",
    "            print('')\n",
    "            auc_score_test = test_vqc(n_features, n_layers,x_test,y_test,w_test, best_weights)\n",
    "            print('AUC Test: {}'.format(auc_score_test))\n",
    "            print('')\n",
    "            auc_test_list_no_pca_vqc.append(auc_score_test)\n",
    "            auc_val_list_no_pca_vqc.append(auc_score_val)"
   ]
  },
  {
   "cell_type": "code",
   "execution_count": null,
   "metadata": {},
   "outputs": [],
   "source": [
    "'''\n",
    "# load the best score, best weights and best learning rate\n",
    "with open('auc_test_list_no_pca_vqc.pickle', 'wb') as handle:\n",
    "    auc_test_list_pca_vqc = pickle.load(handle)\n",
    "\n",
    "with open('auc_val_list_no_pca_vqc.pickle ', 'wb') as handle:\n",
    "    auc_val_list_pca_vqc = pickle.load(handle)\n",
    " \n",
    "print (auc_test_list_no_pca_vqc)\n",
    "print (auc_val_list_no_pca_vqc)\n",
    "\n",
    "'''"
   ]
  },
  {
   "cell_type": "markdown",
   "metadata": {},
   "source": [
    "### PLOT"
   ]
  },
  {
   "cell_type": "code",
   "execution_count": null,
   "metadata": {},
   "outputs": [],
   "source": [
    "# Plot  the auc roc for the test set as a funtion of the number of datapoints for each number of components/features (i want to see 5 graphics seperatly with individual titles)\n",
    "num_rows = 9\n",
    "fig, axes = plt.subplots(num_rows, 3, figsize=(15, 3 * num_rows))\n",
    "for i, ax in enumerate(axes.flat):\n",
    "    if i<25:\n",
    "        ax.plot(n_datapoints_list, auc_test_list_pca[i*5:(i+1)*5], label='PCA')\n",
    "        ax.plot(n_datapoints_list, auc_test_list_no_pca[i*5:(i+1)*5], label='SBS')\n",
    "        ax.set_title('{} features: '.format((i//5)+1) and 'N_layers: {}'.format(i%5)+1)\n",
    "        ax.set_xlabel('Number of datapoints')\n",
    "        ax.set_ylabel('AUC')\n",
    "        ax.legend()\n",
    "    else:\n",
    "        fig.delaxes(ax)\n",
    "\n",
    "fig.tight_layout()\n",
    "plt.show()"
   ]
  }
 ],
 "metadata": {
  "kernelspec": {
   "display_name": "base",
   "language": "python",
   "name": "python3"
  },
  "language_info": {
   "codemirror_mode": {
    "name": "ipython",
    "version": 3
   },
   "file_extension": ".py",
   "mimetype": "text/x-python",
   "name": "python",
   "nbconvert_exporter": "python",
   "pygments_lexer": "ipython3",
   "version": "3.9.17"
  },
  "orig_nbformat": 4
 },
 "nbformat": 4,
 "nbformat_minor": 2
}
