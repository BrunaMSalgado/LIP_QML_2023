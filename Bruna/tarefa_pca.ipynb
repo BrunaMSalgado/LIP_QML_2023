{
 "cells": [
  {
   "attachments": {},
   "cell_type": "markdown",
   "metadata": {},
   "source": [
    "# Projeto"
   ]
  },
  {
   "cell_type": "code",
   "execution_count": 5,
   "metadata": {},
   "outputs": [],
   "source": [
    "#imports\n",
    "import pandas as pd\n",
    "import numpy as np\n",
    "import matplotlib.pyplot as plt\n",
    "import math\n",
    "from sklearn import svm\n",
    "from sklearn.metrics import accuracy_score\n",
    "from sklearn.metrics import roc_auc_score\n",
    "from sklearn.metrics import roc_curve\n",
    "import pennylane as qml\n",
    "from pennylane import numpy as np\n",
    "from pennylane.optimize import NesterovMomentumOptimizer\n",
    "from pennylane.optimize import AdamOptimizer\n",
    "import pennylane as qml\n",
    "from pennylane import numpy as np\n",
    "from pennylane.templates.embeddings import AngleEmbedding\n",
    "from tqdm.notebook import tqdm, trange\n",
    "from sklearn.model_selection import GridSearchCV\n",
    "from sklearn.decomposition import PCA"
   ]
  },
  {
   "cell_type": "code",
   "execution_count": 6,
   "metadata": {},
   "outputs": [
    {
     "name": "stdout",
     "output_type": "stream",
     "text": [
      "Number of rows: 90548\n"
     ]
    },
    {
     "data": {
      "text/html": [
       "<div>\n",
       "<style scoped>\n",
       "    .dataframe tbody tr th:only-of-type {\n",
       "        vertical-align: middle;\n",
       "    }\n",
       "\n",
       "    .dataframe tbody tr th {\n",
       "        vertical-align: top;\n",
       "    }\n",
       "\n",
       "    .dataframe thead th {\n",
       "        text-align: right;\n",
       "    }\n",
       "</style>\n",
       "<table border=\"1\" class=\"dataframe\">\n",
       "  <thead>\n",
       "    <tr style=\"text-align: right;\">\n",
       "      <th></th>\n",
       "      <th>Electron_Multi</th>\n",
       "      <th>FatJet1_Eta</th>\n",
       "      <th>FatJet1_Mass</th>\n",
       "      <th>FatJet1_PT</th>\n",
       "      <th>FatJet1_Phi</th>\n",
       "      <th>FatJet1_Tau1</th>\n",
       "      <th>FatJet1_Tau2</th>\n",
       "      <th>FatJet1_Tau3</th>\n",
       "      <th>FatJet1_Tau4</th>\n",
       "      <th>FatJet1_Tau5</th>\n",
       "      <th>...</th>\n",
       "      <th>gen_decay2</th>\n",
       "      <th>gen_decay_filter</th>\n",
       "      <th>gen_filter</th>\n",
       "      <th>gen_label</th>\n",
       "      <th>gen_n_btags</th>\n",
       "      <th>gen_sample</th>\n",
       "      <th>gen_sample_filter</th>\n",
       "      <th>gen_split</th>\n",
       "      <th>gen_weights</th>\n",
       "      <th>gen_xsec</th>\n",
       "    </tr>\n",
       "  </thead>\n",
       "  <tbody>\n",
       "    <tr>\n",
       "      <th>0</th>\n",
       "      <td>2</td>\n",
       "      <td>1.408853</td>\n",
       "      <td>15.150869</td>\n",
       "      <td>339.182312</td>\n",
       "      <td>2.350262</td>\n",
       "      <td>1.396943</td>\n",
       "      <td>0.710451</td>\n",
       "      <td>0.109013</td>\n",
       "      <td>0.000000</td>\n",
       "      <td>0.000000</td>\n",
       "      <td>...</td>\n",
       "      <td>0</td>\n",
       "      <td>None</td>\n",
       "      <td>PyDelphes</td>\n",
       "      <td>signal</td>\n",
       "      <td>1</td>\n",
       "      <td>tZFCNC</td>\n",
       "      <td>tZFCNC_PyDelphes</td>\n",
       "      <td>test</td>\n",
       "      <td>7.762202e-09</td>\n",
       "      <td>0.001285</td>\n",
       "    </tr>\n",
       "    <tr>\n",
       "      <th>1</th>\n",
       "      <td>1</td>\n",
       "      <td>-2.481838</td>\n",
       "      <td>7.208333</td>\n",
       "      <td>247.036240</td>\n",
       "      <td>-2.280740</td>\n",
       "      <td>0.428710</td>\n",
       "      <td>0.205213</td>\n",
       "      <td>0.000000</td>\n",
       "      <td>0.000000</td>\n",
       "      <td>0.000000</td>\n",
       "      <td>...</td>\n",
       "      <td>0</td>\n",
       "      <td>None</td>\n",
       "      <td>PyDelphes</td>\n",
       "      <td>signal</td>\n",
       "      <td>1</td>\n",
       "      <td>tZFCNC</td>\n",
       "      <td>tZFCNC_PyDelphes</td>\n",
       "      <td>val</td>\n",
       "      <td>7.762202e-09</td>\n",
       "      <td>0.001285</td>\n",
       "    </tr>\n",
       "    <tr>\n",
       "      <th>2</th>\n",
       "      <td>0</td>\n",
       "      <td>1.476267</td>\n",
       "      <td>94.220718</td>\n",
       "      <td>238.014694</td>\n",
       "      <td>-1.788097</td>\n",
       "      <td>94.256210</td>\n",
       "      <td>2.418446</td>\n",
       "      <td>1.585315</td>\n",
       "      <td>1.127324</td>\n",
       "      <td>0.431098</td>\n",
       "      <td>...</td>\n",
       "      <td>0</td>\n",
       "      <td>None</td>\n",
       "      <td>PyDelphes</td>\n",
       "      <td>signal</td>\n",
       "      <td>1</td>\n",
       "      <td>tZFCNC</td>\n",
       "      <td>tZFCNC_PyDelphes</td>\n",
       "      <td>train</td>\n",
       "      <td>7.762249e-09</td>\n",
       "      <td>0.001285</td>\n",
       "    </tr>\n",
       "    <tr>\n",
       "      <th>3</th>\n",
       "      <td>1</td>\n",
       "      <td>0.647480</td>\n",
       "      <td>13.459283</td>\n",
       "      <td>230.971832</td>\n",
       "      <td>-1.032663</td>\n",
       "      <td>1.227122</td>\n",
       "      <td>0.467150</td>\n",
       "      <td>0.164008</td>\n",
       "      <td>0.000000</td>\n",
       "      <td>0.000000</td>\n",
       "      <td>...</td>\n",
       "      <td>0</td>\n",
       "      <td>None</td>\n",
       "      <td>PyDelphes</td>\n",
       "      <td>signal</td>\n",
       "      <td>1</td>\n",
       "      <td>tZFCNC</td>\n",
       "      <td>tZFCNC_PyDelphes</td>\n",
       "      <td>train</td>\n",
       "      <td>7.762249e-09</td>\n",
       "      <td>0.001285</td>\n",
       "    </tr>\n",
       "    <tr>\n",
       "      <th>4</th>\n",
       "      <td>0</td>\n",
       "      <td>2.106436</td>\n",
       "      <td>97.490242</td>\n",
       "      <td>698.399902</td>\n",
       "      <td>-3.059983</td>\n",
       "      <td>36.555862</td>\n",
       "      <td>2.937936</td>\n",
       "      <td>1.799140</td>\n",
       "      <td>1.093004</td>\n",
       "      <td>0.589724</td>\n",
       "      <td>...</td>\n",
       "      <td>0</td>\n",
       "      <td>None</td>\n",
       "      <td>PyDelphes</td>\n",
       "      <td>signal</td>\n",
       "      <td>1</td>\n",
       "      <td>tZFCNC</td>\n",
       "      <td>tZFCNC_PyDelphes</td>\n",
       "      <td>train</td>\n",
       "      <td>7.762249e-09</td>\n",
       "      <td>0.001285</td>\n",
       "    </tr>\n",
       "  </tbody>\n",
       "</table>\n",
       "<p>5 rows × 83 columns</p>\n",
       "</div>"
      ],
      "text/plain": [
       "   Electron_Multi  FatJet1_Eta  FatJet1_Mass  FatJet1_PT  FatJet1_Phi  \\\n",
       "0               2     1.408853     15.150869  339.182312     2.350262   \n",
       "1               1    -2.481838      7.208333  247.036240    -2.280740   \n",
       "2               0     1.476267     94.220718  238.014694    -1.788097   \n",
       "3               1     0.647480     13.459283  230.971832    -1.032663   \n",
       "4               0     2.106436     97.490242  698.399902    -3.059983   \n",
       "\n",
       "   FatJet1_Tau1  FatJet1_Tau2  FatJet1_Tau3  FatJet1_Tau4  FatJet1_Tau5  ...  \\\n",
       "0      1.396943      0.710451      0.109013      0.000000      0.000000  ...   \n",
       "1      0.428710      0.205213      0.000000      0.000000      0.000000  ...   \n",
       "2     94.256210      2.418446      1.585315      1.127324      0.431098  ...   \n",
       "3      1.227122      0.467150      0.164008      0.000000      0.000000  ...   \n",
       "4     36.555862      2.937936      1.799140      1.093004      0.589724  ...   \n",
       "\n",
       "   gen_decay2  gen_decay_filter  gen_filter  gen_label  gen_n_btags  \\\n",
       "0           0              None   PyDelphes     signal            1   \n",
       "1           0              None   PyDelphes     signal            1   \n",
       "2           0              None   PyDelphes     signal            1   \n",
       "3           0              None   PyDelphes     signal            1   \n",
       "4           0              None   PyDelphes     signal            1   \n",
       "\n",
       "   gen_sample  gen_sample_filter  gen_split   gen_weights  gen_xsec  \n",
       "0      tZFCNC   tZFCNC_PyDelphes       test  7.762202e-09  0.001285  \n",
       "1      tZFCNC   tZFCNC_PyDelphes        val  7.762202e-09  0.001285  \n",
       "2      tZFCNC   tZFCNC_PyDelphes      train  7.762249e-09  0.001285  \n",
       "3      tZFCNC   tZFCNC_PyDelphes      train  7.762249e-09  0.001285  \n",
       "4      tZFCNC   tZFCNC_PyDelphes      train  7.762249e-09  0.001285  \n",
       "\n",
       "[5 rows x 83 columns]"
      ]
     },
     "execution_count": 6,
     "metadata": {},
     "output_type": "execute_result"
    }
   ],
   "source": [
    "\n",
    "# Read the HDF5 file using pandas\n",
    "data_frame_fcnc = pd.read_hdf('fcnc_pythia_sanitised_features.h5')\n",
    "\n",
    "# Get the number of rows\n",
    "num_rows = data_frame_fcnc.shape[0]\n",
    "\n",
    "print('Number of rows: {}'.format(num_rows))\n",
    "\n",
    "# Explore the data\n",
    "data_frame_fcnc.head()\n"
   ]
  },
  {
   "cell_type": "code",
   "execution_count": 7,
   "metadata": {},
   "outputs": [
    {
     "name": "stdout",
     "output_type": "stream",
     "text": [
      "Number of rows: 1002490\n"
     ]
    },
    {
     "data": {
      "text/html": [
       "<div>\n",
       "<style scoped>\n",
       "    .dataframe tbody tr th:only-of-type {\n",
       "        vertical-align: middle;\n",
       "    }\n",
       "\n",
       "    .dataframe tbody tr th {\n",
       "        vertical-align: top;\n",
       "    }\n",
       "\n",
       "    .dataframe thead th {\n",
       "        text-align: right;\n",
       "    }\n",
       "</style>\n",
       "<table border=\"1\" class=\"dataframe\">\n",
       "  <thead>\n",
       "    <tr style=\"text-align: right;\">\n",
       "      <th></th>\n",
       "      <th>Electron_Multi</th>\n",
       "      <th>FatJet1_Eta</th>\n",
       "      <th>FatJet1_Mass</th>\n",
       "      <th>FatJet1_PT</th>\n",
       "      <th>FatJet1_Phi</th>\n",
       "      <th>FatJet1_Tau1</th>\n",
       "      <th>FatJet1_Tau2</th>\n",
       "      <th>FatJet1_Tau3</th>\n",
       "      <th>FatJet1_Tau4</th>\n",
       "      <th>FatJet1_Tau5</th>\n",
       "      <th>...</th>\n",
       "      <th>gen_decay2</th>\n",
       "      <th>gen_decay_filter</th>\n",
       "      <th>gen_filter</th>\n",
       "      <th>gen_label</th>\n",
       "      <th>gen_n_btags</th>\n",
       "      <th>gen_sample</th>\n",
       "      <th>gen_sample_filter</th>\n",
       "      <th>gen_split</th>\n",
       "      <th>gen_weights</th>\n",
       "      <th>gen_xsec</th>\n",
       "    </tr>\n",
       "  </thead>\n",
       "  <tbody>\n",
       "    <tr>\n",
       "      <th>0</th>\n",
       "      <td>2</td>\n",
       "      <td>-1.988600</td>\n",
       "      <td>52.710262</td>\n",
       "      <td>229.350952</td>\n",
       "      <td>0.728242</td>\n",
       "      <td>36.148926</td>\n",
       "      <td>23.039709</td>\n",
       "      <td>16.949991</td>\n",
       "      <td>14.424411</td>\n",
       "      <td>12.000529</td>\n",
       "      <td>...</td>\n",
       "      <td>0</td>\n",
       "      <td>2L</td>\n",
       "      <td>HT250to500</td>\n",
       "      <td>bkg</td>\n",
       "      <td>1</td>\n",
       "      <td>Zjj</td>\n",
       "      <td>Zjj_HT250to500</td>\n",
       "      <td>train</td>\n",
       "      <td>0.000018</td>\n",
       "      <td>11.9635</td>\n",
       "    </tr>\n",
       "    <tr>\n",
       "      <th>1</th>\n",
       "      <td>0</td>\n",
       "      <td>0.528382</td>\n",
       "      <td>61.115589</td>\n",
       "      <td>315.538910</td>\n",
       "      <td>-0.863614</td>\n",
       "      <td>32.592808</td>\n",
       "      <td>22.366640</td>\n",
       "      <td>16.285843</td>\n",
       "      <td>13.938633</td>\n",
       "      <td>11.180016</td>\n",
       "      <td>...</td>\n",
       "      <td>0</td>\n",
       "      <td>2L</td>\n",
       "      <td>HT250to500</td>\n",
       "      <td>bkg</td>\n",
       "      <td>1</td>\n",
       "      <td>Zjj</td>\n",
       "      <td>Zjj_HT250to500</td>\n",
       "      <td>test</td>\n",
       "      <td>0.000018</td>\n",
       "      <td>11.9635</td>\n",
       "    </tr>\n",
       "    <tr>\n",
       "      <th>2</th>\n",
       "      <td>0</td>\n",
       "      <td>1.479911</td>\n",
       "      <td>98.012802</td>\n",
       "      <td>251.109573</td>\n",
       "      <td>-3.133624</td>\n",
       "      <td>90.252274</td>\n",
       "      <td>33.646885</td>\n",
       "      <td>30.612156</td>\n",
       "      <td>27.973904</td>\n",
       "      <td>23.729696</td>\n",
       "      <td>...</td>\n",
       "      <td>0</td>\n",
       "      <td>2L</td>\n",
       "      <td>HT250to500</td>\n",
       "      <td>bkg</td>\n",
       "      <td>1</td>\n",
       "      <td>Zjj</td>\n",
       "      <td>Zjj_HT250to500</td>\n",
       "      <td>val</td>\n",
       "      <td>0.000018</td>\n",
       "      <td>11.9635</td>\n",
       "    </tr>\n",
       "    <tr>\n",
       "      <th>3</th>\n",
       "      <td>2</td>\n",
       "      <td>0.926899</td>\n",
       "      <td>-0.000007</td>\n",
       "      <td>240.909348</td>\n",
       "      <td>0.835656</td>\n",
       "      <td>0.000000</td>\n",
       "      <td>0.000000</td>\n",
       "      <td>0.000000</td>\n",
       "      <td>0.000000</td>\n",
       "      <td>0.000000</td>\n",
       "      <td>...</td>\n",
       "      <td>0</td>\n",
       "      <td>2L</td>\n",
       "      <td>HT250to500</td>\n",
       "      <td>bkg</td>\n",
       "      <td>1</td>\n",
       "      <td>Zjj</td>\n",
       "      <td>Zjj_HT250to500</td>\n",
       "      <td>val</td>\n",
       "      <td>0.000018</td>\n",
       "      <td>11.9635</td>\n",
       "    </tr>\n",
       "    <tr>\n",
       "      <th>4</th>\n",
       "      <td>0</td>\n",
       "      <td>0.781194</td>\n",
       "      <td>72.234299</td>\n",
       "      <td>206.020386</td>\n",
       "      <td>-0.320449</td>\n",
       "      <td>48.886372</td>\n",
       "      <td>20.743645</td>\n",
       "      <td>16.572512</td>\n",
       "      <td>13.070706</td>\n",
       "      <td>11.269534</td>\n",
       "      <td>...</td>\n",
       "      <td>0</td>\n",
       "      <td>2L</td>\n",
       "      <td>HT250to500</td>\n",
       "      <td>bkg</td>\n",
       "      <td>1</td>\n",
       "      <td>Zjj</td>\n",
       "      <td>Zjj_HT250to500</td>\n",
       "      <td>val</td>\n",
       "      <td>0.000018</td>\n",
       "      <td>11.9635</td>\n",
       "    </tr>\n",
       "  </tbody>\n",
       "</table>\n",
       "<p>5 rows × 58 columns</p>\n",
       "</div>"
      ],
      "text/plain": [
       "   Electron_Multi  FatJet1_Eta  FatJet1_Mass  FatJet1_PT  FatJet1_Phi  \\\n",
       "0               2    -1.988600     52.710262  229.350952     0.728242   \n",
       "1               0     0.528382     61.115589  315.538910    -0.863614   \n",
       "2               0     1.479911     98.012802  251.109573    -3.133624   \n",
       "3               2     0.926899     -0.000007  240.909348     0.835656   \n",
       "4               0     0.781194     72.234299  206.020386    -0.320449   \n",
       "\n",
       "   FatJet1_Tau1  FatJet1_Tau2  FatJet1_Tau3  FatJet1_Tau4  FatJet1_Tau5  ...  \\\n",
       "0     36.148926     23.039709     16.949991     14.424411     12.000529  ...   \n",
       "1     32.592808     22.366640     16.285843     13.938633     11.180016  ...   \n",
       "2     90.252274     33.646885     30.612156     27.973904     23.729696  ...   \n",
       "3      0.000000      0.000000      0.000000      0.000000      0.000000  ...   \n",
       "4     48.886372     20.743645     16.572512     13.070706     11.269534  ...   \n",
       "\n",
       "   gen_decay2  gen_decay_filter  gen_filter  gen_label  gen_n_btags  \\\n",
       "0           0                2L  HT250to500        bkg            1   \n",
       "1           0                2L  HT250to500        bkg            1   \n",
       "2           0                2L  HT250to500        bkg            1   \n",
       "3           0                2L  HT250to500        bkg            1   \n",
       "4           0                2L  HT250to500        bkg            1   \n",
       "\n",
       "   gen_sample  gen_sample_filter  gen_split  gen_weights  gen_xsec  \n",
       "0         Zjj     Zjj_HT250to500      train     0.000018   11.9635  \n",
       "1         Zjj     Zjj_HT250to500       test     0.000018   11.9635  \n",
       "2         Zjj     Zjj_HT250to500        val     0.000018   11.9635  \n",
       "3         Zjj     Zjj_HT250to500        val     0.000018   11.9635  \n",
       "4         Zjj     Zjj_HT250to500        val     0.000018   11.9635  \n",
       "\n",
       "[5 rows x 58 columns]"
      ]
     },
     "execution_count": 7,
     "metadata": {},
     "output_type": "execute_result"
    }
   ],
   "source": [
    "# Read the HDF5 file using pandas\n",
    "data_frame_bkg = pd.read_hdf('bkg_pythia_sanitised_features.h5')\n",
    "\n",
    "# Get the number of rows\n",
    "num_rows = data_frame_bkg.shape[0]\n",
    "\n",
    "print('Number of rows: {}'.format(num_rows))\n",
    "\n",
    "# Explore the data\n",
    "data_frame_bkg.head()\n"
   ]
  },
  {
   "cell_type": "markdown",
   "metadata": {},
   "source": [
    "## PCA"
   ]
  },
  {
   "cell_type": "markdown",
   "metadata": {},
   "source": [
    "### 2 Features"
   ]
  },
  {
   "cell_type": "code",
   "execution_count": 9,
   "metadata": {},
   "outputs": [],
   "source": [
    "data_frame_fcnc_pca = data_frame_fcnc.copy()\n",
    "data_frame_bkg_pca = data_frame_bkg.copy()\n",
    "\n",
    "# Drop the categorical features except label, weights and gen_split\n",
    "data_frame_fcnc_pca.drop(['gen_decay_filter', 'gen_filter', 'gen_n_btags', 'gen_sample', 'gen_sample_filter','gen_decay2','gen_decay1'], axis=1, inplace=True)\n",
    "data_frame_bkg_pca.drop(['gen_decay_filter', 'gen_filter', 'gen_n_btags', 'gen_sample', 'gen_sample_filter','gen_decay2','gen_decay1'], axis=1, inplace=True)\n",
    "\n",
    "# Drop the features that are not in both dataframes\n",
    "for feature in data_frame_fcnc_pca.columns.values:\n",
    "    if feature not in data_frame_bkg_pca.columns.values:\n",
    "        data_frame_fcnc_pca.drop([feature], axis=1, inplace=True)\n",
    "\n",
    "for feature in data_frame_bkg_pca.columns.values:\n",
    "    if feature not in data_frame_fcnc_pca.columns.values:\n",
    "        data_frame_bkg_pca.drop([feature], axis=1, inplace=True)\n",
    "        \n",
    "# Join the dataframes\n",
    "data = pd.concat([data_frame_fcnc_pca, data_frame_bkg_pca])\n",
    "\n",
    "# Substitute the labels \"signal\" and \"bkg\" by 1 and 0\n",
    "data = data.replace(['signal'], 1)\n",
    "data= data.replace(['bkg'], 0)\n",
    "\n",
    "# train, test and validation sets\n",
    "train = data.loc[data['gen_split'] == 'train']\n",
    "test = data.loc[data['gen_split'] == 'test']\n",
    "val = data.loc[data['gen_split'] == 'val']\n"
   ]
  },
  {
   "cell_type": "code",
   "execution_count": 5,
   "metadata": {},
   "outputs": [
    {
     "name": "stdout",
     "output_type": "stream",
     "text": [
      "['Electron_Multi' 'FatJet1_Eta' 'FatJet1_Mass' 'FatJet1_PT' 'FatJet1_Phi'\n",
      " 'FatJet1_Tau1' 'FatJet1_Tau2' 'FatJet1_Tau3' 'FatJet1_Tau4'\n",
      " 'FatJet1_Tau5' 'FatJet_Multi' 'Jet1_BTag' 'Jet1_Eta' 'Jet1_Mass'\n",
      " 'Jet1_PT' 'Jet1_Phi' 'Jet2_BTag' 'Jet2_Eta' 'Jet2_Mass' 'Jet2_PT'\n",
      " 'Jet2_Phi' 'Jet3_BTag' 'Jet3_Eta' 'Jet3_Mass' 'Jet3_PT' 'Jet3_Phi'\n",
      " 'Jet4_BTag' 'Jet4_Eta' 'Jet4_Mass' 'Jet4_PT' 'Jet4_Phi' 'Jet5_BTag'\n",
      " 'Jet5_Eta' 'Jet5_Mass' 'Jet5_PT' 'Jet5_Phi' 'Jet_Multi' 'Lepton1_Eta'\n",
      " 'Lepton1_PT' 'Lepton1_Phi' 'Lepton2_Eta' 'Lepton2_PT' 'Lepton2_Phi'\n",
      " 'MissingET_MET' 'MissingET_Phi' 'Muon_Multi' 'ScalarHT_HT' 'gen_label'\n",
      " 'gen_split' 'gen_weights' 'gen_xsec']\n"
     ]
    }
   ],
   "source": [
    "print(data.columns.values)"
   ]
  },
  {
   "cell_type": "code",
   "execution_count": 11,
   "metadata": {},
   "outputs": [],
   "source": [
    "# which data will be used for fitting the PCA.\n",
    "# Everything except the weights, name and label\n",
    "DataFeatures = pd.Index(list(set(data.columns) - set([\"gen_label\", \"gen_xsec\", \"gen_split\"])))\n",
    "pca_n_features = 2\n",
    "\n",
    "def perform_PCA (DataFeatures, pca_n_features, train, data):\n",
    "\n",
    "    ## Fit PCA to train data & rank components by AUC\n",
    "    pca = PCA(n_components=len(DataFeatures))\n",
    "    pca.fit(train[DataFeatures])\n",
    "\n",
    "    ## Transform the desired dataset to get its principal components\n",
    "    # Get ranked components by AUC from the train data\n",
    "    principalComponents = pca.transform(train[DataFeatures])\n",
    "\n",
    "    # Book will be a dictiorary with the AUC (values) of each component (keys)\n",
    "    book = {}\n",
    "\n",
    "    # Get values for AUC computation\n",
    "    y_true = train['gen_label'].values\n",
    "    weights = train[\"gen_xsec\"].values\n",
    "\n",
    "    # Renormalise weights\n",
    "    weights[y_true == 1] = (weights[y_true == 1] / weights[y_true == 1].sum()) * weights.shape[0] / 2\n",
    "    weights[y_true == 0] = (weights[y_true == 0] / weights[y_true == 0].sum()) * weights.shape[0] / 2\n",
    "\n",
    "    for feature_idx in range(principalComponents.shape[1]):\n",
    "        book[f\"Component {feature_idx}\"] = roc_auc_score(y_true=y_true, y_score=principalComponents[:, feature_idx], sample_weight=weights)\n",
    "\n",
    "    # Give me the best features\n",
    "    book = pd.DataFrame.from_dict(book, orient=\"index\")\n",
    "    book.columns = [\"AUC\"]\n",
    "    book.sort_values(by=\"AUC\", ascending=False, inplace=True)\n",
    "    book.reset_index(inplace=True)\n",
    "    book.rename(columns={\"index\": \"Feature\"}, inplace=True)\n",
    "\n",
    "    ## Replace current data by its components ##\n",
    "    # Get components for the current set we want\n",
    "    principalComponents = pca.transform(data[DataFeatures])\n",
    "\n",
    "    # Create a new dataframe with PCA data\n",
    "    newdf = pd.DataFrame(principalComponents, columns=[f\"Component {i}\" for i in range(principalComponents.shape[1])])\n",
    "\n",
    "    # Select the best components given their AUC performance in training data\n",
    "    newdf = newdf[book[\"Feature\"][0 : pca_n_features]]\n",
    "\n",
    "    # Add the other relevant features\n",
    "    newdf[\"gen_xsec\"] = data[\"gen_xsec\"].values\n",
    "    newdf[\"gen_label\"] = data[\"gen_label\"].values\n",
    "    newdf[\"gen_split\"] = data[\"gen_split\"].values\n",
    "\n",
    "    # Finally, replace self.data with newdf\n",
    "    data = newdf\n",
    "\n",
    "    # Update DataFeatures\n",
    "    DataFeatures = pd.Index(list(set(data.columns) - set([\"gen_label\", \"gen_xsec\", \"gen_split\"])))\n",
    "    \n",
    "    return data, DataFeatures, book\n"
   ]
  },
  {
   "cell_type": "code",
   "execution_count": 7,
   "metadata": {},
   "outputs": [],
   "source": [
    "### perform PCA on the train data\n",
    "data, DataFeatures, book = perform_PCA (DataFeatures, pca_n_features, train, data)"
   ]
  },
  {
   "cell_type": "code",
   "execution_count": 8,
   "metadata": {},
   "outputs": [
    {
     "name": "stdout",
     "output_type": "stream",
     "text": [
      "         Feature       AUC\n",
      "0    Component 1  0.775146\n",
      "1    Component 3  0.715941\n",
      "2    Component 0  0.687727\n",
      "3   Component 14  0.630145\n",
      "4   Component 36  0.605685\n",
      "5   Component 41  0.596724\n",
      "6    Component 6  0.570540\n",
      "7    Component 4  0.556490\n",
      "8   Component 38  0.537973\n",
      "9   Component 45  0.534386\n",
      "10   Component 7  0.516444\n",
      "11  Component 20  0.507134\n",
      "12  Component 31  0.504426\n",
      "13  Component 24  0.504415\n",
      "14  Component 17  0.504408\n",
      "15  Component 32  0.503685\n",
      "16  Component 37  0.503436\n",
      "17  Component 23  0.503101\n",
      "18  Component 21  0.502556\n",
      "19  Component 22  0.502165\n",
      "20  Component 28  0.501944\n",
      "21  Component 19  0.501000\n",
      "22  Component 39  0.499701\n",
      "23   Component 8  0.499632\n",
      "24  Component 34  0.499389\n",
      "25  Component 26  0.499241\n",
      "26  Component 18  0.497846\n",
      "27  Component 16  0.497146\n",
      "28  Component 25  0.497129\n",
      "29  Component 35  0.495980\n",
      "30  Component 29  0.495669\n",
      "31  Component 33  0.492140\n",
      "32  Component 42  0.485668\n",
      "33  Component 15  0.484882\n",
      "34  Component 30  0.483164\n",
      "35  Component 44  0.480199\n",
      "36  Component 27  0.478394\n",
      "37  Component 13  0.461945\n",
      "38   Component 9  0.461461\n",
      "39  Component 40  0.450178\n",
      "40  Component 46  0.448464\n",
      "41  Component 43  0.446445\n",
      "42  Component 10  0.445621\n",
      "43  Component 12  0.445331\n",
      "44   Component 5  0.439167\n",
      "45  Component 11  0.414016\n",
      "46   Component 2  0.353481\n",
      "47  Component 47  0.072305\n"
     ]
    }
   ],
   "source": [
    "print (book)"
   ]
  },
  {
   "cell_type": "code",
   "execution_count": 9,
   "metadata": {},
   "outputs": [
    {
     "name": "stdout",
     "output_type": "stream",
     "text": [
      "         Component 1  Component 3  gen_xsec  gen_label gen_split\n",
      "0         223.756164    79.522846  0.001285          1      test\n",
      "1          59.754944   -85.367973  0.001285          1       val\n",
      "2          81.103303   -23.975222  0.001285          1     train\n",
      "3         135.995448   -19.004199  0.001285          1     train\n",
      "4         332.762183    96.144389  0.001285          1     train\n",
      "...              ...          ...       ...        ...       ...\n",
      "1093033   -85.532615   -23.609642  3.181214          0      test\n",
      "1093034   -11.067453   186.076860  3.181214          0     train\n",
      "1093035   107.619697   217.027728  3.181214          0     train\n",
      "1093036   177.072743   -23.538135  3.181214          0       val\n",
      "1093037    21.303249   238.575669  3.181214          0     train\n",
      "\n",
      "[1093038 rows x 5 columns]\n"
     ]
    }
   ],
   "source": [
    "print (data)"
   ]
  },
  {
   "cell_type": "markdown",
   "metadata": {},
   "source": [
    "#### SVMs"
   ]
  },
  {
   "cell_type": "code",
   "execution_count": 10,
   "metadata": {},
   "outputs": [],
   "source": [
    "#normalize the data except the categorical features and the weights\n",
    "data [DataFeatures] = (data [DataFeatures] - data [DataFeatures].mean()) / data [DataFeatures].std()\n",
    "\n",
    "# divide the new data into train, test and validation sets\n",
    "train = data.loc[data['gen_split'] == 'train']\n",
    "test = data.loc[data['gen_split'] == 'test']\n",
    "val = data.loc[data['gen_split'] == 'val']\n",
    "\n",
    "# divide the train data into signal and background and get 500 samples of each\n",
    "train_sgn = train.loc[train['gen_label'] == 1].sample(n=500, random_state=42)\n",
    "train_bkg = train.loc[train['gen_label'] == 0].sample(n=500,random_state=42)\n",
    "x_train = pd.concat([train_sgn, train_bkg])\n",
    "x_train = x_train.sample(frac=1, random_state=42)\n",
    "\n",
    "# divide the validation data into signal and background and get 500 samples of each\n",
    "val_sgn = val.loc[val['gen_label'] == 1].sample(n=500, random_state=42)\n",
    "val_bkg = val.loc[val['gen_label'] == 0].sample(n=500, random_state=42)\n",
    "x_val = pd.concat([val_sgn, val_bkg])\n",
    "x_val = x_val.sample(frac=1, random_state=42)\n",
    "\n",
    "# divide the test data into signal and background and get 500 samples of each\n",
    "test_sgn = test.loc[test['gen_label'] == 1].sample(n=500, random_state=42)\n",
    "test_bkg = test.loc[test['gen_label'] == 0].sample(n=500, random_state=42)\n",
    "x_test = pd.concat([test_sgn, test_bkg])\n",
    "x_test = x_test.sample(frac=1, random_state=42)\n",
    "\n",
    "# get an array with the labels for each set\n",
    "y_train = x_train['gen_label'].values\n",
    "y_val = x_val['gen_label'].values\n",
    "y_test = x_test['gen_label'].values\n",
    "\n",
    "# get an array with the weights for each set\n",
    "w_train = x_train[\"gen_xsec\"].values\n",
    "w_val = x_val[\"gen_xsec\"].values\n",
    "w_test = x_test[\"gen_xsec\"].values\n",
    "\n",
    "# get an array with the features for each set\n",
    "x_train = x_train[DataFeatures].values\n",
    "x_val = x_val[DataFeatures].values\n",
    "x_test = x_test[DataFeatures].values\n"
   ]
  },
  {
   "cell_type": "code",
   "execution_count": 11,
   "metadata": {},
   "outputs": [
    {
     "name": "stdout",
     "output_type": "stream",
     "text": [
      "       Component 1  Component 3  gen_xsec  gen_label gen_split\n",
      "66255     0.826078     1.309718  0.001285          1      test\n",
      "8525     -0.120551    -1.276881  0.001285          1      test\n",
      "40769     1.553261     0.007239  0.001285          1      test\n",
      "82779     1.076660     1.562491  0.001285          1      test\n",
      "1786      0.720303     0.886022  0.001285          1      test\n",
      "...            ...          ...       ...        ...       ...\n",
      "78767     0.706074     0.248458  0.001285          1      test\n",
      "30348     0.081264    -0.973303  0.001285          1      test\n",
      "27620    -0.269972    -0.006718  0.001285          1      test\n",
      "82368    -0.777682     0.455836  0.001285          1      test\n",
      "37585     1.200604     1.473057  0.001285          1      test\n",
      "\n",
      "[500 rows x 5 columns]\n"
     ]
    }
   ],
   "source": [
    "print(test_sgn)"
   ]
  },
  {
   "cell_type": "markdown",
   "metadata": {},
   "source": [
    "##### Train"
   ]
  },
  {
   "cell_type": "code",
   "execution_count": 12,
   "metadata": {},
   "outputs": [
    {
     "data": {
      "text/html": [
       "<style>#sk-container-id-1 {color: black;}#sk-container-id-1 pre{padding: 0;}#sk-container-id-1 div.sk-toggleable {background-color: white;}#sk-container-id-1 label.sk-toggleable__label {cursor: pointer;display: block;width: 100%;margin-bottom: 0;padding: 0.3em;box-sizing: border-box;text-align: center;}#sk-container-id-1 label.sk-toggleable__label-arrow:before {content: \"▸\";float: left;margin-right: 0.25em;color: #696969;}#sk-container-id-1 label.sk-toggleable__label-arrow:hover:before {color: black;}#sk-container-id-1 div.sk-estimator:hover label.sk-toggleable__label-arrow:before {color: black;}#sk-container-id-1 div.sk-toggleable__content {max-height: 0;max-width: 0;overflow: hidden;text-align: left;background-color: #f0f8ff;}#sk-container-id-1 div.sk-toggleable__content pre {margin: 0.2em;color: black;border-radius: 0.25em;background-color: #f0f8ff;}#sk-container-id-1 input.sk-toggleable__control:checked~div.sk-toggleable__content {max-height: 200px;max-width: 100%;overflow: auto;}#sk-container-id-1 input.sk-toggleable__control:checked~label.sk-toggleable__label-arrow:before {content: \"▾\";}#sk-container-id-1 div.sk-estimator input.sk-toggleable__control:checked~label.sk-toggleable__label {background-color: #d4ebff;}#sk-container-id-1 div.sk-label input.sk-toggleable__control:checked~label.sk-toggleable__label {background-color: #d4ebff;}#sk-container-id-1 input.sk-hidden--visually {border: 0;clip: rect(1px 1px 1px 1px);clip: rect(1px, 1px, 1px, 1px);height: 1px;margin: -1px;overflow: hidden;padding: 0;position: absolute;width: 1px;}#sk-container-id-1 div.sk-estimator {font-family: monospace;background-color: #f0f8ff;border: 1px dotted black;border-radius: 0.25em;box-sizing: border-box;margin-bottom: 0.5em;}#sk-container-id-1 div.sk-estimator:hover {background-color: #d4ebff;}#sk-container-id-1 div.sk-parallel-item::after {content: \"\";width: 100%;border-bottom: 1px solid gray;flex-grow: 1;}#sk-container-id-1 div.sk-label:hover label.sk-toggleable__label {background-color: #d4ebff;}#sk-container-id-1 div.sk-serial::before {content: \"\";position: absolute;border-left: 1px solid gray;box-sizing: border-box;top: 0;bottom: 0;left: 50%;z-index: 0;}#sk-container-id-1 div.sk-serial {display: flex;flex-direction: column;align-items: center;background-color: white;padding-right: 0.2em;padding-left: 0.2em;position: relative;}#sk-container-id-1 div.sk-item {position: relative;z-index: 1;}#sk-container-id-1 div.sk-parallel {display: flex;align-items: stretch;justify-content: center;background-color: white;position: relative;}#sk-container-id-1 div.sk-item::before, #sk-container-id-1 div.sk-parallel-item::before {content: \"\";position: absolute;border-left: 1px solid gray;box-sizing: border-box;top: 0;bottom: 0;left: 50%;z-index: -1;}#sk-container-id-1 div.sk-parallel-item {display: flex;flex-direction: column;z-index: 1;position: relative;background-color: white;}#sk-container-id-1 div.sk-parallel-item:first-child::after {align-self: flex-end;width: 50%;}#sk-container-id-1 div.sk-parallel-item:last-child::after {align-self: flex-start;width: 50%;}#sk-container-id-1 div.sk-parallel-item:only-child::after {width: 0;}#sk-container-id-1 div.sk-dashed-wrapped {border: 1px dashed gray;margin: 0 0.4em 0.5em 0.4em;box-sizing: border-box;padding-bottom: 0.4em;background-color: white;}#sk-container-id-1 div.sk-label label {font-family: monospace;font-weight: bold;display: inline-block;line-height: 1.2em;}#sk-container-id-1 div.sk-label-container {text-align: center;}#sk-container-id-1 div.sk-container {/* jupyter's `normalize.less` sets `[hidden] { display: none; }` but bootstrap.min.css set `[hidden] { display: none !important; }` so we also need the `!important` here to be able to override the default hidden behavior on the sphinx rendered scikit-learn.org. See: https://github.com/scikit-learn/scikit-learn/issues/21755 */display: inline-block !important;position: relative;}#sk-container-id-1 div.sk-text-repr-fallback {display: none;}</style><div id=\"sk-container-id-1\" class=\"sk-top-container\"><div class=\"sk-text-repr-fallback\"><pre>SVC(probability=True)</pre><b>In a Jupyter environment, please rerun this cell to show the HTML representation or trust the notebook. <br />On GitHub, the HTML representation is unable to render, please try loading this page with nbviewer.org.</b></div><div class=\"sk-container\" hidden><div class=\"sk-item\"><div class=\"sk-estimator sk-toggleable\"><input class=\"sk-toggleable__control sk-hidden--visually\" id=\"sk-estimator-id-1\" type=\"checkbox\" checked><label for=\"sk-estimator-id-1\" class=\"sk-toggleable__label sk-toggleable__label-arrow\">SVC</label><div class=\"sk-toggleable__content\"><pre>SVC(probability=True)</pre></div></div></div></div></div>"
      ],
      "text/plain": [
       "SVC(probability=True)"
      ]
     },
     "execution_count": 12,
     "metadata": {},
     "output_type": "execute_result"
    }
   ],
   "source": [
    "# Renormalize weights\n",
    "w_train[y_train == 1] = (w_train[y_train == 1] / w_train[y_train == 1].sum()) * w_train.shape[0] / 2\n",
    "w_train[y_train == 0] = (w_train[y_train == 0] / w_train[y_train == 0].sum()) * w_train.shape[0] / 2\n",
    "\n",
    "# Train SMV\n",
    "clf = svm.SVC(kernel=\"rbf\", probability=True)   \n",
    "clf.fit(x_train, y_train,sample_weight=w_train)\n"
   ]
  },
  {
   "cell_type": "markdown",
   "metadata": {},
   "source": [
    "##### Validation"
   ]
  },
  {
   "cell_type": "code",
   "execution_count": 13,
   "metadata": {},
   "outputs": [
    {
     "name": "stdout",
     "output_type": "stream",
     "text": [
      "Accuracy: 0.6952914738500099\n",
      "ROC AUC Score: 0.7614520557180167\n"
     ]
    }
   ],
   "source": [
    "# Renormalize weights\n",
    "w_val[y_val == 1] = (w_val[y_val == 1] / w_val[y_val == 1].sum()) * w_val.shape[0] / 2\n",
    "w_val[y_val == 0] = (w_val[y_val == 0] / w_val[y_val == 0].sum()) * w_val.shape[0] / 2\n",
    "\n",
    "# Predict\n",
    "y_val_scores = clf.predict_proba(x_val)\n",
    "y_val_scores = y_val_scores[:, 1]\n",
    "y_val_pred = clf.predict(x_val)\n",
    "\n",
    "# Compute metrics\n",
    "accuracy = accuracy_score(y_val, y_val_pred,sample_weight=w_val)\n",
    "auc_score = roc_auc_score(y_val, y_val_scores,sample_weight=w_val)\n",
    "\n",
    "print(\"Accuracy:\", accuracy)\n",
    "print(\"ROC AUC Score:\", auc_score)"
   ]
  },
  {
   "cell_type": "markdown",
   "metadata": {},
   "source": [
    "##### Test"
   ]
  },
  {
   "cell_type": "code",
   "execution_count": 14,
   "metadata": {},
   "outputs": [
    {
     "name": "stdout",
     "output_type": "stream",
     "text": [
      "Accuracy: 0.7744352718425372\n",
      "ROC AUC Score: 0.8383216655131983\n"
     ]
    }
   ],
   "source": [
    "\n",
    "# Renormalize weights\n",
    "w_test[y_test == 1] = (w_test[y_test == 1] / w_test[y_test == 1].sum()) * w_test.shape[0] / 2\n",
    "w_test[y_test == 0] = (w_test[y_test == 0] / w_test[y_test == 0].sum()) * w_test.shape[0] / 2\n",
    "\n",
    "# Predict\n",
    "y_test_scores = clf.predict_proba(x_test)\n",
    "y_test_scores = y_test_scores[:, 1]\n",
    "y_pred = clf.predict(x_test)\n",
    "\n",
    "# Compute metrics\n",
    "accuracy = accuracy_score(y_test, y_pred, sample_weight=w_test)\n",
    "auc_score = roc_auc_score(y_test, y_test_scores, sample_weight=w_test)\n",
    "print(\"Accuracy:\", accuracy)\n",
    "print(\"ROC AUC Score:\", auc_score)"
   ]
  },
  {
   "cell_type": "code",
   "execution_count": 15,
   "metadata": {},
   "outputs": [
    {
     "name": "stderr",
     "output_type": "stream",
     "text": [
      "/tmp/ipykernel_997022/1217247063.py:5: UserWarning: color is redundantly defined by the 'color' keyword argument and the fmt string \"k--\" (-> color='k'). The keyword argument will take precedence.\n",
      "  plt.plot([0, 1], [0, 1], 'k--', color='orange')\n"
     ]
    },
    {
     "data": {
      "image/png": "[encoded data removed]",
      "text/plain": [
       "<Figure size 640x480 with 1 Axes>"
      ]
     },
     "metadata": {},
     "output_type": "display_data"
    }
   ],
   "source": [
    "fpr, tpr, thresholds = roc_curve(y_test, y_test_scores, sample_weight=w_test)\n",
    "\n",
    "# Plot the ROC curve\n",
    "plt.plot(fpr, tpr)\n",
    "plt.plot([0, 1], [0, 1], 'k--', color='orange')  \n",
    "plt.xlabel('False Positive Rate')\n",
    "plt.ylabel('True Positive Rate')\n",
    "plt.title('Receiver Operating Characteristic (ROC) Curve')\n",
    "plt.show()"
   ]
  },
  {
   "cell_type": "code",
   "execution_count": 16,
   "metadata": {},
   "outputs": [
    {
     "name": "stdout",
     "output_type": "stream",
     "text": [
      "[1.00041576e+01 2.98562795e+01 2.45087305e+02 3.76913868e+01\n",
      " 2.73128415e+01 2.01834029e+01 2.87498583e+01 6.13858151e+00\n",
      " 1.32453768e+01 5.27501620e+00 1.17767781e+01 1.69704222e+01\n",
      " 3.14386545e+00 3.24032078e+00 2.17753709e+00 2.07359213e+00\n",
      " 9.56011853e+00 1.05162441e+01 1.14560208e-01 1.15742187e+00\n",
      " 1.39784946e-02 4.09788496e+00 9.72207439e-01 1.89314385e+00\n",
      " 1.32288391e+00 1.32856642e-01 2.07116229e+00 2.02348760e+00\n",
      " 2.07444249e+00 1.12288576e+00]\n",
      "[  0.608663    11.71823259   4.22793507 196.62213528  22.08561844\n",
      "  10.31051017   9.99626579   9.63353656   8.480678    16.47515248\n",
      "   5.10853933   2.29477521   4.78940744   1.19470648  10.60476982\n",
      "   8.7258933    9.79383779  23.53893257   9.87137648  11.36484537\n",
      "   9.85714948   2.73406535   3.49822425   0.74114295  11.82226834\n",
      "   4.54624672  22.16568231   5.42451467  46.51982532  15.24506946]\n"
     ]
    },
    {
     "data": {
      "image/png": "[encoded data removed]",
      "text/plain": [
       "<Figure size 640x480 with 1 Axes>"
      ]
     },
     "metadata": {},
     "output_type": "display_data"
    }
   ],
   "source": [
    "# Plot signal and background distributions for the predicted scores with normalized counts and log scale\n",
    "\n",
    "num_bins = 30  # Number of bins\n",
    "\n",
    "# Compute the range for the bins based on the minimum and maximum values of the data\n",
    "min_value = min(min(y_test_scores[y_test == 0]), min(y_test_scores[y_test == 1]))\n",
    "max_value = max(max(y_test_scores[y_test == 0]), max(y_test_scores[y_test == 1]))\n",
    "bin_range = (min_value, max_value)\n",
    "\n",
    "counts, bins, _ = plt.hist(y_test_scores[y_test == 0], bins=num_bins, range=bin_range,  weights=w_test[y_test==0], alpha=0.5, color='b', label='Background')\n",
    "counts2, bins2, _ = plt.hist(y_test_scores[y_test == 1], bins=num_bins, range=bin_range,weights=w_test[y_test==1], alpha=0.5, color='r', label='Signal')\n",
    "\n",
    "print(counts)\n",
    "print(counts2)\n",
    "\n",
    "plt.xlabel('y_score')\n",
    "plt.ylabel('counts')\n",
    "plt.title('y_scores_bkg distribution VS y_scores_signal distribution ')\n",
    "plt.legend()\n",
    "plt.show()"
   ]
  },
  {
   "cell_type": "code",
   "execution_count": 17,
   "metadata": {},
   "outputs": [
    {
     "data": {
      "image/png": "[encoded data removed]",
      "text/plain": [
       "<Figure size 640x480 with 1 Axes>"
      ]
     },
     "metadata": {},
     "output_type": "display_data"
    }
   ],
   "source": [
    "# Plot signal and background distributions for the predicted scores with normalized counts\n",
    "\n",
    "counts = counts / sum(counts)\n",
    "counts2 = counts2 / sum(counts2)\n",
    "\n",
    "plt.bar(bins[:-1], counts, width=np.diff(bins), alpha=0.5, color='b', label='Background')\n",
    "plt.bar(bins2[:-1], counts2, width=np.diff(bins2), alpha=0.5, color='r', label='Signal')\n",
    "\n",
    "plt.xlabel('y_score')\n",
    "plt.ylabel('normalized counts')\n",
    "plt.title('y_scores_bkg distribution VS y_scores_signal distribution ')\n",
    "plt.legend()\n",
    "plt.show()"
   ]
  },
  {
   "cell_type": "code",
   "execution_count": 18,
   "metadata": {},
   "outputs": [
    {
     "data": {
      "image/png": "[encoded data removed]",
      "text/plain": [
       "<Figure size 640x480 with 1 Axes>"
      ]
     },
     "metadata": {},
     "output_type": "display_data"
    }
   ],
   "source": [
    "# Normalize the counts\n",
    "counts = counts / sum(counts)\n",
    "counts2 = counts2 / sum(counts2)\n",
    "\n",
    "plt.bar(bins[:-1], counts, width=np.diff(bins), alpha=0.5, color='b', label='Background')\n",
    "plt.bar(bins2[:-1], counts2, width=np.diff(bins2), alpha=0.5, color='r', label='Signal')\n",
    "\n",
    "plt.xlabel('y_score')\n",
    "plt.ylabel('log(normalized counts)')\n",
    "plt.title('y_scores_bkg distribution VS y_scores_signal distribution ')\n",
    "plt.yscale('log')\n",
    "plt.legend()\n",
    "plt.show()"
   ]
  },
  {
   "cell_type": "markdown",
   "metadata": {},
   "source": [
    "#### 2 Features: Without PCA"
   ]
  },
  {
   "cell_type": "code",
   "execution_count": 19,
   "metadata": {},
   "outputs": [],
   "source": [
    "data_frame_fcnc_pca = data_frame_fcnc.copy()\n",
    "data_frame_bkg_pca = data_frame_bkg.copy()\n",
    "\n",
    "# Drop the categorical features except label, weights and gen_split\n",
    "data_frame_fcnc_pca.drop(['gen_decay_filter', 'gen_filter', 'gen_n_btags', 'gen_sample', 'gen_sample_filter','gen_decay2','gen_decay1'], axis=1, inplace=True)\n",
    "data_frame_bkg_pca.drop(['gen_decay_filter', 'gen_filter', 'gen_n_btags', 'gen_sample', 'gen_sample_filter','gen_decay2','gen_decay1'], axis=1, inplace=True)\n",
    "\n",
    "# Drop the features that are not in both dataframes\n",
    "for feature in data_frame_fcnc_pca.columns.values:\n",
    "    if feature not in data_frame_bkg_pca.columns.values:\n",
    "        data_frame_fcnc_pca.drop([feature], axis=1, inplace=True)\n",
    "\n",
    "for feature in data_frame_bkg_pca.columns.values:\n",
    "    if feature not in data_frame_fcnc_pca.columns.values:\n",
    "        data_frame_bkg_pca.drop([feature], axis=1, inplace=True)\n",
    "        \n",
    "# Join the dataframes\n",
    "data = pd.concat([data_frame_fcnc_pca, data_frame_bkg_pca])\n",
    "\n",
    "# Substitute the labels \"signal\" and \"bkg\" by 1 and 0\n",
    "data = data.replace(['signal'], 1)\n",
    "data= data.replace(['bkg'], 0)\n",
    "\n",
    "#normalize the data except the categorical features and the weights\n",
    "DataFeatures = pd.Index(list(set(data.columns) - set([\"gen_label\", \"gen_xsec\", \"gen_split\"])))\n",
    "data [DataFeatures] = (data [DataFeatures] - data [DataFeatures].mean()) / data [DataFeatures].std()\n",
    "\n",
    "# train, test and validation sets\n",
    "train = data.loc[data['gen_split'] == 'train']\n",
    "test = data.loc[data['gen_split'] == 'test']\n",
    "val = data.loc[data['gen_split'] == 'val']\n",
    "\n",
    "# divide the train data into signal and background and get 500 samples of each\n",
    "train_sgn = train.loc[train['gen_label'] == 1].sample(n=500, random_state=42)\n",
    "train_bkg = train.loc[train['gen_label'] == 0].sample(n=500, random_state=42)\n",
    "x_train = pd.concat([train_sgn, train_bkg])\n",
    "x_train = x_train.sample(frac=1, random_state=42)\n",
    "\n",
    "# divide the validation data into signal and background and get 500 samples of each\n",
    "val_sgn = val.loc[val['gen_label'] == 1].sample(n=500, random_state=42)\n",
    "val_bkg = val.loc[val['gen_label'] == 0].sample(n=500, random_state=42)\n",
    "x_val = pd.concat([val_sgn, val_bkg])\n",
    "x_val = x_val.sample(frac=1, random_state=42)\n",
    "\n",
    "# divide the test data into signal and background and get 500 samples of each\n",
    "test_sgn = test.loc[test['gen_label'] == 1].sample(n=500, random_state=42)\n",
    "test_bkg = test.loc[test['gen_label'] == 0].sample(n=500, random_state=42)\n",
    "x_test = pd.concat([test_sgn, test_bkg])\n",
    "x_test = x_test.sample(frac=1, random_state=42)\n",
    "\n",
    "# get an array with the labels for each set\n",
    "y_train = x_train['gen_label'].values\n",
    "y_val = x_val['gen_label'].values\n",
    "y_test = x_test['gen_label'].values\n",
    "\n",
    "# get an array with the weights for each set\n",
    "w_train = x_train[\"gen_xsec\"].values\n",
    "w_val = x_val[\"gen_xsec\"].values\n",
    "w_test = x_test[\"gen_xsec\"].values\n",
    "\n",
    "# get an array with the features for each set\n",
    "x_train = x_train[['MissingET_MET', 'Jet1_BTag']].values\n",
    "x_val = x_val[['MissingET_MET', 'Jet1_BTag']].values\n",
    "x_test = x_test[['MissingET_MET', 'Jet1_BTag']].values"
   ]
  },
  {
   "cell_type": "code",
   "execution_count": 20,
   "metadata": {},
   "outputs": [
    {
     "name": "stdout",
     "output_type": "stream",
     "text": [
      "       Electron_Multi  FatJet1_Eta  FatJet1_Mass  FatJet1_PT  FatJet1_Phi  \\\n",
      "66255        0.190846    -0.206387      0.729573   -0.506333    -0.938517   \n",
      "8525         1.252431    -0.099555      0.579566    0.053786    -0.089638   \n",
      "40769        1.252431    -0.787784      0.353797    0.867813     0.827167   \n",
      "82779       -0.870738    -2.001008      0.764936   -0.048181    -1.323773   \n",
      "1786        -0.870738     0.195689     -0.512045   -0.639714     1.216680   \n",
      "...               ...          ...           ...         ...          ...   \n",
      "78767       -0.870738    -0.023877     -0.638208    1.195555    -0.789228   \n",
      "30348       -0.870738     0.895927      1.693466    0.060342    -1.585507   \n",
      "27620       -0.870738     0.178134      0.859158   -0.821966    -0.776027   \n",
      "82368       -0.870738     1.026208     -0.988336   -0.929137    -0.686383   \n",
      "37585        1.252431     0.812625      0.494854    0.327273    -0.631532   \n",
      "\n",
      "       FatJet1_Tau1  FatJet1_Tau2  FatJet1_Tau3  FatJet1_Tau4  FatJet1_Tau5  \\\n",
      "66255      1.129414     -0.429548     -0.469908     -0.510254     -0.654789   \n",
      "8525      -0.251973     -0.870839     -0.950990     -0.968754     -0.934511   \n",
      "40769     -0.539326     -0.915665     -0.976918     -0.968754     -0.934511   \n",
      "82779      0.718679     -0.787539     -0.849961     -0.850962     -0.869169   \n",
      "1786      -0.441014     -0.115697     -0.030729      0.090100      0.089022   \n",
      "...             ...           ...           ...           ...           ...   \n",
      "78767     -0.385981     -0.001896      0.104915      0.067798      0.070108   \n",
      "30348      2.135173      0.035153      0.029949      0.088422      0.089199   \n",
      "27620      1.436389      1.812133      2.058117      2.071242      2.216924   \n",
      "82368     -0.952210     -0.264545     -0.162370     -0.102733     -0.174214   \n",
      "37585      1.029895     -0.898331     -0.972069     -0.962610     -0.934511   \n",
      "\n",
      "       ...  Lepton2_PT  Lepton2_Phi  MissingET_MET  MissingET_Phi  Muon_Multi  \\\n",
      "66255  ...   -0.001453     0.390598       1.174176       0.778591   -0.229029   \n",
      "8525   ...   -0.455147     0.190120       0.021161       0.017832   -1.288288   \n",
      "40769  ...   -0.560512     0.534287       0.689146      -0.739051   -1.288288   \n",
      "82779  ...    0.686751    -1.463077       1.527500       0.041021    0.830229   \n",
      "1786   ...   -0.360126    -0.837858       1.432901      -1.259585    0.830229   \n",
      "...    ...         ...          ...            ...            ...         ...   \n",
      "78767  ...    0.227422     0.481061       0.455206       0.376551    1.889487   \n",
      "30348  ...    1.177023    -1.384902       0.170313      -1.582889    0.830229   \n",
      "27620  ...    0.390234     0.393066       0.457585       1.039254    0.830229   \n",
      "82368  ...   -0.201933     0.856204       0.564974      -0.536929    0.830229   \n",
      "37585  ...    1.584961    -0.577125       1.336687       1.105211   -1.288288   \n",
      "\n",
      "       ScalarHT_HT  gen_label  gen_split  gen_weights  gen_xsec  \n",
      "66255    -1.099723          1       test    -0.196698  0.001285  \n",
      "8525      1.176504          1       test    -0.196698  0.001285  \n",
      "40769     0.454511          1       test    -0.196698  0.001285  \n",
      "82779    -0.704134          1       test    -0.196698  0.001285  \n",
      "1786     -0.710959          1       test    -0.196698  0.001285  \n",
      "...            ...        ...        ...          ...       ...  \n",
      "78767     0.936383          1       test    -0.196698  0.001285  \n",
      "30348     1.337684          1       test    -0.196698  0.001285  \n",
      "27620    -0.161635          1       test    -0.196698  0.001285  \n",
      "82368    -0.521623          1       test    -0.196698  0.001285  \n",
      "37585    -0.518387          1       test    -0.196698  0.001285  \n",
      "\n",
      "[500 rows x 51 columns]\n",
      "[[-0.66478791  0.71614911]\n",
      " [ 3.76532589 -1.39635596]\n",
      " [-0.49504755 -1.39635596]\n",
      " ...\n",
      " [-0.53877532  0.71614911]\n",
      " [ 1.0047294   0.71614911]\n",
      " [ 1.49790873 -1.39635596]]\n"
     ]
    }
   ],
   "source": [
    "print (test_sgn)\n",
    "print (x_train)"
   ]
  },
  {
   "cell_type": "markdown",
   "metadata": {},
   "source": [
    "##### Train"
   ]
  },
  {
   "cell_type": "code",
   "execution_count": 21,
   "metadata": {},
   "outputs": [
    {
     "data": {
      "text/html": [
       "<style>#sk-container-id-2 {color: black;}#sk-container-id-2 pre{padding: 0;}#sk-container-id-2 div.sk-toggleable {background-color: white;}#sk-container-id-2 label.sk-toggleable__label {cursor: pointer;display: block;width: 100%;margin-bottom: 0;padding: 0.3em;box-sizing: border-box;text-align: center;}#sk-container-id-2 label.sk-toggleable__label-arrow:before {content: \"▸\";float: left;margin-right: 0.25em;color: #696969;}#sk-container-id-2 label.sk-toggleable__label-arrow:hover:before {color: black;}#sk-container-id-2 div.sk-estimator:hover label.sk-toggleable__label-arrow:before {color: black;}#sk-container-id-2 div.sk-toggleable__content {max-height: 0;max-width: 0;overflow: hidden;text-align: left;background-color: #f0f8ff;}#sk-container-id-2 div.sk-toggleable__content pre {margin: 0.2em;color: black;border-radius: 0.25em;background-color: #f0f8ff;}#sk-container-id-2 input.sk-toggleable__control:checked~div.sk-toggleable__content {max-height: 200px;max-width: 100%;overflow: auto;}#sk-container-id-2 input.sk-toggleable__control:checked~label.sk-toggleable__label-arrow:before {content: \"▾\";}#sk-container-id-2 div.sk-estimator input.sk-toggleable__control:checked~label.sk-toggleable__label {background-color: #d4ebff;}#sk-container-id-2 div.sk-label input.sk-toggleable__control:checked~label.sk-toggleable__label {background-color: #d4ebff;}#sk-container-id-2 input.sk-hidden--visually {border: 0;clip: rect(1px 1px 1px 1px);clip: rect(1px, 1px, 1px, 1px);height: 1px;margin: -1px;overflow: hidden;padding: 0;position: absolute;width: 1px;}#sk-container-id-2 div.sk-estimator {font-family: monospace;background-color: #f0f8ff;border: 1px dotted black;border-radius: 0.25em;box-sizing: border-box;margin-bottom: 0.5em;}#sk-container-id-2 div.sk-estimator:hover {background-color: #d4ebff;}#sk-container-id-2 div.sk-parallel-item::after {content: \"\";width: 100%;border-bottom: 1px solid gray;flex-grow: 1;}#sk-container-id-2 div.sk-label:hover label.sk-toggleable__label {background-color: #d4ebff;}#sk-container-id-2 div.sk-serial::before {content: \"\";position: absolute;border-left: 1px solid gray;box-sizing: border-box;top: 0;bottom: 0;left: 50%;z-index: 0;}#sk-container-id-2 div.sk-serial {display: flex;flex-direction: column;align-items: center;background-color: white;padding-right: 0.2em;padding-left: 0.2em;position: relative;}#sk-container-id-2 div.sk-item {position: relative;z-index: 1;}#sk-container-id-2 div.sk-parallel {display: flex;align-items: stretch;justify-content: center;background-color: white;position: relative;}#sk-container-id-2 div.sk-item::before, #sk-container-id-2 div.sk-parallel-item::before {content: \"\";position: absolute;border-left: 1px solid gray;box-sizing: border-box;top: 0;bottom: 0;left: 50%;z-index: -1;}#sk-container-id-2 div.sk-parallel-item {display: flex;flex-direction: column;z-index: 1;position: relative;background-color: white;}#sk-container-id-2 div.sk-parallel-item:first-child::after {align-self: flex-end;width: 50%;}#sk-container-id-2 div.sk-parallel-item:last-child::after {align-self: flex-start;width: 50%;}#sk-container-id-2 div.sk-parallel-item:only-child::after {width: 0;}#sk-container-id-2 div.sk-dashed-wrapped {border: 1px dashed gray;margin: 0 0.4em 0.5em 0.4em;box-sizing: border-box;padding-bottom: 0.4em;background-color: white;}#sk-container-id-2 div.sk-label label {font-family: monospace;font-weight: bold;display: inline-block;line-height: 1.2em;}#sk-container-id-2 div.sk-label-container {text-align: center;}#sk-container-id-2 div.sk-container {/* jupyter's `normalize.less` sets `[hidden] { display: none; }` but bootstrap.min.css set `[hidden] { display: none !important; }` so we also need the `!important` here to be able to override the default hidden behavior on the sphinx rendered scikit-learn.org. See: https://github.com/scikit-learn/scikit-learn/issues/21755 */display: inline-block !important;position: relative;}#sk-container-id-2 div.sk-text-repr-fallback {display: none;}</style><div id=\"sk-container-id-2\" class=\"sk-top-container\"><div class=\"sk-text-repr-fallback\"><pre>SVC(probability=True)</pre><b>In a Jupyter environment, please rerun this cell to show the HTML representation or trust the notebook. <br />On GitHub, the HTML representation is unable to render, please try loading this page with nbviewer.org.</b></div><div class=\"sk-container\" hidden><div class=\"sk-item\"><div class=\"sk-estimator sk-toggleable\"><input class=\"sk-toggleable__control sk-hidden--visually\" id=\"sk-estimator-id-2\" type=\"checkbox\" checked><label for=\"sk-estimator-id-2\" class=\"sk-toggleable__label sk-toggleable__label-arrow\">SVC</label><div class=\"sk-toggleable__content\"><pre>SVC(probability=True)</pre></div></div></div></div></div>"
      ],
      "text/plain": [
       "SVC(probability=True)"
      ]
     },
     "execution_count": 21,
     "metadata": {},
     "output_type": "execute_result"
    }
   ],
   "source": [
    "# Renormalize weights\n",
    "w_train[y_train == 1] = (w_train[y_train == 1] / w_train[y_train == 1].sum()) * w_train.shape[0] / 2\n",
    "w_train[y_train == 0] = (w_train[y_train == 0] / w_train[y_train == 0].sum()) * w_train.shape[0] / 2\n",
    "\n",
    "# Train SMV\n",
    "clf = svm.SVC(kernel=\"rbf\", probability=True)   \n",
    "clf.fit(x_train, y_train,sample_weight=w_train)"
   ]
  },
  {
   "cell_type": "markdown",
   "metadata": {},
   "source": [
    "##### Validation"
   ]
  },
  {
   "cell_type": "code",
   "execution_count": 22,
   "metadata": {},
   "outputs": [
    {
     "name": "stdout",
     "output_type": "stream",
     "text": [
      "Accuracy: 0.6674142180085237\n",
      "ROC AUC Score: 0.7026801426556585\n"
     ]
    }
   ],
   "source": [
    "# Renormalize weights\n",
    "w_val[y_val == 1] = (w_val[y_val == 1] / w_val[y_val == 1].sum()) * w_val.shape[0] / 2\n",
    "w_val[y_val == 0] = (w_val[y_val == 0] / w_val[y_val == 0].sum()) * w_val.shape[0] / 2\n",
    "\n",
    "# Predict\n",
    "y_val_scores = clf.predict_proba(x_val)\n",
    "y_val_scores = y_val_scores[:, 1]\n",
    "y_val_pred = clf.predict(x_val)\n",
    "\n",
    "# Compute metrics\n",
    "accuracy = accuracy_score(y_val, y_val_pred,sample_weight=w_val)\n",
    "auc_score = roc_auc_score(y_val, y_val_scores,sample_weight=w_val)\n",
    "\n",
    "print(\"Accuracy:\", accuracy)\n",
    "print(\"ROC AUC Score:\", auc_score)"
   ]
  },
  {
   "cell_type": "markdown",
   "metadata": {},
   "source": [
    "##### Test"
   ]
  },
  {
   "cell_type": "code",
   "execution_count": 23,
   "metadata": {},
   "outputs": [
    {
     "name": "stdout",
     "output_type": "stream",
     "text": [
      "Accuracy: 0.7581194365001341\n",
      "ROC AUC Score: 0.8181075841608533\n"
     ]
    }
   ],
   "source": [
    "# Renormalize weights\n",
    "w_test[y_test == 1] = (w_test[y_test == 1] / w_test[y_test == 1].sum()) * w_test.shape[0] / 2\n",
    "w_test[y_test == 0] = (w_test[y_test == 0] / w_test[y_test == 0].sum()) * w_test.shape[0] / 2\n",
    "\n",
    "# Predict\n",
    "y_test_scores = clf.predict_proba(x_test)\n",
    "y_test_scores = y_test_scores[:, 1]\n",
    "y_pred = clf.predict(x_test)\n",
    "\n",
    "# Compute metrics\n",
    "accuracy = accuracy_score(y_test, y_pred, sample_weight=w_test)\n",
    "auc_score = roc_auc_score(y_test, y_test_scores, sample_weight=w_test)\n",
    "print(\"Accuracy:\", accuracy)\n",
    "print(\"ROC AUC Score:\", auc_score)"
   ]
  },
  {
   "cell_type": "code",
   "execution_count": 24,
   "metadata": {},
   "outputs": [
    {
     "name": "stderr",
     "output_type": "stream",
     "text": [
      "/tmp/ipykernel_997022/1217247063.py:5: UserWarning: color is redundantly defined by the 'color' keyword argument and the fmt string \"k--\" (-> color='k'). The keyword argument will take precedence.\n",
      "  plt.plot([0, 1], [0, 1], 'k--', color='orange')\n"
     ]
    },
    {
     "data": {
      "image/png": "[encoded data removed]",
      "text/plain": [
       "<Figure size 640x480 with 1 Axes>"
      ]
     },
     "metadata": {},
     "output_type": "display_data"
    }
   ],
   "source": [
    "fpr, tpr, thresholds = roc_curve(y_test, y_test_scores, sample_weight=w_test)\n",
    "\n",
    "# Plot the ROC curve\n",
    "plt.plot(fpr, tpr)\n",
    "plt.plot([0, 1], [0, 1], 'k--', color='orange')  \n",
    "plt.xlabel('False Positive Rate')\n",
    "plt.ylabel('True Positive Rate')\n",
    "plt.title('Receiver Operating Characteristic (ROC) Curve')\n",
    "plt.show()"
   ]
  },
  {
   "cell_type": "code",
   "execution_count": 25,
   "metadata": {},
   "outputs": [
    {
     "name": "stdout",
     "output_type": "stream",
     "text": [
      "[1.80537761e+01 1.84602492e+01 2.61478156e+01 1.80024127e+01\n",
      " 2.20270477e+02 3.85611921e+00 2.51463445e+01 9.29509745e+00\n",
      " 2.22488772e+00 2.36510536e+00 1.65809298e+00 1.08721039e+01\n",
      " 1.34382825e+00 1.40672849e-01 1.28771256e+00 1.76026440e+01\n",
      " 8.30036878e+00 2.07110174e+00 3.00178759e+00 3.08518286e+00\n",
      " 1.91650302e+00 1.76186005e+01 2.37260753e+00 1.96205653e+00\n",
      " 3.09082231e+00 1.12292728e+01 1.97595946e+00 1.96745791e+00\n",
      " 2.39451890e+01 4.07357502e+01]\n",
      "[1.10467238e+00 2.12379834e-02 1.60442267e+01 1.40672849e-01\n",
      " 1.10467238e+00 2.15565890e+00 8.51068854e+00 3.97815645e+00\n",
      " 8.79827118e+00 4.18522614e+00 2.49778615e-01 1.95227706e+02\n",
      " 8.57677153e+00 1.32288391e+00 1.22218893e-01 1.12045592e+00\n",
      " 2.86471901e+00 3.08019957e+00 1.38002434e-01 3.02477966e+00\n",
      " 2.31264107e-01 1.61910832e-01 2.49720320e+00 8.92316049e+00\n",
      " 1.14777832e+01 9.60376660e+00 2.50526932e+01 6.46268919e+00\n",
      " 6.85351184e+01 1.05283412e+02]\n"
     ]
    },
    {
     "data": {
      "image/png": "[encoded data removed]",
      "text/plain": [
       "<Figure size 640x480 with 1 Axes>"
      ]
     },
     "metadata": {},
     "output_type": "display_data"
    }
   ],
   "source": [
    "# Plot signal and background distributions for the predicted scores with normalized counts and log scale\n",
    "\n",
    "num_bins = 30  # Number of bins\n",
    "\n",
    "# Compute the range for the bins based on the minimum and maximum values of the data\n",
    "min_value = min(min(y_test_scores[y_test == 0]), min(y_test_scores[y_test == 1]))\n",
    "max_value = max(max(y_test_scores[y_test == 0]), max(y_test_scores[y_test == 1]))\n",
    "bin_range = (min_value, max_value)\n",
    "\n",
    "counts, bins, _ = plt.hist(y_test_scores[y_test == 0], bins=num_bins, range=bin_range,  weights=w_test[y_test==0], alpha=0.5, color='b', label='Background')\n",
    "counts2, bins2, _ = plt.hist(y_test_scores[y_test == 1], bins=num_bins, range=bin_range,weights=w_test[y_test==1], alpha=0.5, color='r', label='Signal')\n",
    "\n",
    "print(counts)\n",
    "print(counts2)\n",
    "\n",
    "plt.xlabel('y_score')\n",
    "plt.ylabel('counts')\n",
    "plt.title('y_scores_bkg distribution VS y_scores_signal distribution ')\n",
    "plt.legend()\n",
    "plt.show()"
   ]
  },
  {
   "cell_type": "markdown",
   "metadata": {},
   "source": [
    "### All features"
   ]
  },
  {
   "cell_type": "code",
   "execution_count": 26,
   "metadata": {},
   "outputs": [],
   "source": [
    "data_frame_fcnc_pca = data_frame_fcnc.copy()\n",
    "data_frame_bkg_pca = data_frame_bkg.copy()\n",
    "\n",
    "# Drop the categorical features except label, weights and gen_split\n",
    "data_frame_fcnc_pca.drop(['gen_decay_filter', 'gen_filter', 'gen_n_btags', 'gen_sample', 'gen_sample_filter','gen_decay2','gen_decay1'], axis=1, inplace=True)\n",
    "data_frame_bkg_pca.drop(['gen_decay_filter', 'gen_filter', 'gen_n_btags', 'gen_sample', 'gen_sample_filter','gen_decay2','gen_decay1'], axis=1, inplace=True)\n",
    "\n",
    "# Drop the features that are not in both dataframes\n",
    "for feature in data_frame_fcnc_pca.columns.values:\n",
    "    if feature not in data_frame_bkg_pca.columns.values:\n",
    "        data_frame_fcnc_pca.drop([feature], axis=1, inplace=True)\n",
    "\n",
    "for feature in data_frame_bkg_pca.columns.values:\n",
    "    if feature not in data_frame_fcnc_pca.columns.values:\n",
    "        data_frame_bkg_pca.drop([feature], axis=1, inplace=True)\n",
    "        \n",
    "# Join the dataframes\n",
    "data = pd.concat([data_frame_fcnc_pca, data_frame_bkg_pca])\n",
    "\n",
    "# Substitute the labels \"signal\" and \"bkg\" by 1 and 0\n",
    "data = data.replace(['signal'], 1)\n",
    "data= data.replace(['bkg'], 0)\n",
    "\n",
    "# train, test and validation sets\n",
    "train = data.loc[data['gen_split'] == 'train']\n",
    "test = data.loc[data['gen_split'] == 'test']\n",
    "val = data.loc[data['gen_split'] == 'val']"
   ]
  },
  {
   "cell_type": "code",
   "execution_count": 27,
   "metadata": {},
   "outputs": [],
   "source": [
    "### perform PCA on the train data\n",
    "DataFeatures = pd.Index(list(set(data.columns) - set([\"gen_label\", \"gen_xsec\", \"gen_split\"])))\n",
    "pca_n_features = len(DataFeatures)\n",
    "data, DataFeatures, book = perform_PCA (DataFeatures, pca_n_features, train, data)"
   ]
  },
  {
   "cell_type": "markdown",
   "metadata": {},
   "source": [
    "#### SVM: PCA"
   ]
  },
  {
   "cell_type": "code",
   "execution_count": 28,
   "metadata": {},
   "outputs": [],
   "source": [
    "#normalize the data except the categorical features and the weights\n",
    "data [DataFeatures] = (data [DataFeatures] - data [DataFeatures].mean()) / data [DataFeatures].std()\n",
    "\n",
    "# divide the new data into train, test and validation sets\n",
    "train = data.loc[data['gen_split'] == 'train']\n",
    "test = data.loc[data['gen_split'] == 'test']\n",
    "val = data.loc[data['gen_split'] == 'val']\n",
    "\n",
    "# divide the train data into signal and background and get 500 samples of each\n",
    "train_sgn = train.loc[train['gen_label'] == 1].sample(n=500,random_state=42)\n",
    "train_bkg = train.loc[train['gen_label'] == 0].sample(n=500,random_state=42)\n",
    "x_train = pd.concat([train_sgn, train_bkg])\n",
    "x_train = x_train.sample(frac=1,random_state=42)\n",
    "\n",
    "# divide the validation data into signal and background and get 500 samples of each\n",
    "val_sgn = val.loc[val['gen_label'] == 1].sample(n=500,random_state=42)\n",
    "val_bkg = val.loc[val['gen_label'] == 0].sample(n=500, random_state=42)\n",
    "x_val = pd.concat([val_sgn, val_bkg])\n",
    "x_val = x_val.sample(frac=1, random_state=42)\n",
    "\n",
    "# divide the test data into signal and background and get 500 samples of each\n",
    "test_sgn = test.loc[test['gen_label'] == 1].sample(n=500, random_state=42)\n",
    "test_bkg = test.loc[test['gen_label'] == 0].sample(n=500, random_state=42)\n",
    "x_test = pd.concat([test_sgn, test_bkg])\n",
    "x_test = x_test.sample(frac=1, random_state=42)\n",
    "\n",
    "# get an array with the labels for each set\n",
    "y_train = x_train['gen_label'].values\n",
    "y_val = x_val['gen_label'].values\n",
    "y_test = x_test['gen_label'].values\n",
    "\n",
    "# get an array with the weights for each set\n",
    "w_train = x_train[\"gen_xsec\"].values\n",
    "w_val = x_val[\"gen_xsec\"].values\n",
    "w_test = x_test[\"gen_xsec\"].values\n",
    "\n",
    "# get an array with the features for each set\n",
    "x_train = x_train[DataFeatures].values\n",
    "x_val = x_val[DataFeatures].values\n",
    "x_test = x_test[DataFeatures].values"
   ]
  },
  {
   "cell_type": "code",
   "execution_count": 29,
   "metadata": {},
   "outputs": [
    {
     "name": "stdout",
     "output_type": "stream",
     "text": [
      "       Component 1  Component 3  Component 0  Component 14  Component 36  \\\n",
      "66255     0.826078     1.309718    -1.076582      2.894919      0.254444   \n",
      "8525     -0.120551    -1.276881     0.958675      0.804814     -1.906699   \n",
      "40769     1.553261     0.007239     0.643861     -0.199368     -0.246911   \n",
      "82779     1.076660     1.562491    -0.601509     -0.322264     -0.529110   \n",
      "1786      0.720303     0.886022    -0.646121      0.191515     -0.778542   \n",
      "...            ...          ...          ...           ...           ...   \n",
      "78767     0.706074     0.248458     1.108802      1.338054      0.737141   \n",
      "30348     0.081264    -0.973303     1.137886     -1.038397     -0.989767   \n",
      "27620    -0.269972    -0.006718    -0.305430     -0.792646      0.227933   \n",
      "82368    -0.777682     0.455836    -0.642360      1.343430      0.457187   \n",
      "37585     1.200604     1.473057    -0.440259      0.463439     -0.913350   \n",
      "\n",
      "       Component 41  Component 6  Component 4  Component 38  Component 45  \\\n",
      "66255      0.045624    -0.711709    -0.402326     -1.757264     -0.074109   \n",
      "8525       0.542369    -0.269200     0.876591      1.256873     -1.076161   \n",
      "40769      0.155279    -0.762144     1.461842      0.729685     -0.135563   \n",
      "82779      0.055446    -0.026201    -0.200575     -1.690092     -0.214748   \n",
      "1786      -1.450761     0.198756     0.415340     -0.121379     -0.074902   \n",
      "...             ...          ...          ...           ...           ...   \n",
      "78767     -0.212095     0.582951     0.484835     -1.965189     -0.157544   \n",
      "30348      0.156504    -0.150608    -0.268774     -1.412550     -0.791518   \n",
      "27620      0.040915    -0.484687    -0.895819      1.431737     -0.686931   \n",
      "82368      0.206385     1.189783     0.211637      1.323933     -0.210270   \n",
      "37585      0.446919     0.359223    -1.366404      0.955657     -0.229038   \n",
      "\n",
      "       ...  Component 43  Component 10  Component 12  Component 5  \\\n",
      "66255  ...      0.607978     -1.236661     -0.327759    -0.346740   \n",
      "8525   ...      0.081236     -0.749803      0.988492     0.496324   \n",
      "40769  ...      0.287981     -0.180924      0.252202     0.462098   \n",
      "82779  ...      0.530321     -0.024373      0.705725    -0.609272   \n",
      "1786   ...      2.683541      0.977432     -0.158825     1.779147   \n",
      "...    ...           ...           ...           ...          ...   \n",
      "78767  ...      0.273331     -0.380189      1.251161     0.884955   \n",
      "30348  ...      0.541453     -0.247083     -0.466411    -0.957042   \n",
      "27620  ...      0.627122     -0.626286     -0.163314     0.647068   \n",
      "82368  ...      0.496467      1.133102      1.171336     0.607164   \n",
      "37585  ...      0.391536      1.402739     -0.092808    -0.325320   \n",
      "\n",
      "       Component 11  Component 2  Component 47  gen_xsec  gen_label  gen_split  \n",
      "66255     -0.550022    -1.059528     -0.431190  0.001285          1       test  \n",
      "8525      -2.744142    -1.245657     -0.082777  0.001285          1       test  \n",
      "40769     -0.496339     0.597699     -0.031226  0.001285          1       test  \n",
      "82779     -0.597439    -0.763557     -0.379635  0.001285          1       test  \n",
      "1786      -0.179697     0.265030     -0.515337  0.001285          1       test  \n",
      "...             ...          ...           ...       ...        ...        ...  \n",
      "78767      0.879322     1.703489      0.049563  0.001285          1       test  \n",
      "30348     -1.123979    -1.469825     -0.147314  0.001285          1       test  \n",
      "27620      2.283804    -0.987744     -0.187884  0.001285          1       test  \n",
      "82368      0.256906    -0.516740     -0.232032  0.001285          1       test  \n",
      "37585     -0.458183    -1.017541     -0.276833  0.001285          1       test  \n",
      "\n",
      "[500 rows x 51 columns]\n"
     ]
    }
   ],
   "source": [
    "print (test_sgn)"
   ]
  },
  {
   "cell_type": "markdown",
   "metadata": {},
   "source": [
    "##### Train"
   ]
  },
  {
   "cell_type": "code",
   "execution_count": 30,
   "metadata": {},
   "outputs": [
    {
     "data": {
      "text/html": [
       "<style>#sk-container-id-3 {color: black;}#sk-container-id-3 pre{padding: 0;}#sk-container-id-3 div.sk-toggleable {background-color: white;}#sk-container-id-3 label.sk-toggleable__label {cursor: pointer;display: block;width: 100%;margin-bottom: 0;padding: 0.3em;box-sizing: border-box;text-align: center;}#sk-container-id-3 label.sk-toggleable__label-arrow:before {content: \"▸\";float: left;margin-right: 0.25em;color: #696969;}#sk-container-id-3 label.sk-toggleable__label-arrow:hover:before {color: black;}#sk-container-id-3 div.sk-estimator:hover label.sk-toggleable__label-arrow:before {color: black;}#sk-container-id-3 div.sk-toggleable__content {max-height: 0;max-width: 0;overflow: hidden;text-align: left;background-color: #f0f8ff;}#sk-container-id-3 div.sk-toggleable__content pre {margin: 0.2em;color: black;border-radius: 0.25em;background-color: #f0f8ff;}#sk-container-id-3 input.sk-toggleable__control:checked~div.sk-toggleable__content {max-height: 200px;max-width: 100%;overflow: auto;}#sk-container-id-3 input.sk-toggleable__control:checked~label.sk-toggleable__label-arrow:before {content: \"▾\";}#sk-container-id-3 div.sk-estimator input.sk-toggleable__control:checked~label.sk-toggleable__label {background-color: #d4ebff;}#sk-container-id-3 div.sk-label input.sk-toggleable__control:checked~label.sk-toggleable__label {background-color: #d4ebff;}#sk-container-id-3 input.sk-hidden--visually {border: 0;clip: rect(1px 1px 1px 1px);clip: rect(1px, 1px, 1px, 1px);height: 1px;margin: -1px;overflow: hidden;padding: 0;position: absolute;width: 1px;}#sk-container-id-3 div.sk-estimator {font-family: monospace;background-color: #f0f8ff;border: 1px dotted black;border-radius: 0.25em;box-sizing: border-box;margin-bottom: 0.5em;}#sk-container-id-3 div.sk-estimator:hover {background-color: #d4ebff;}#sk-container-id-3 div.sk-parallel-item::after {content: \"\";width: 100%;border-bottom: 1px solid gray;flex-grow: 1;}#sk-container-id-3 div.sk-label:hover label.sk-toggleable__label {background-color: #d4ebff;}#sk-container-id-3 div.sk-serial::before {content: \"\";position: absolute;border-left: 1px solid gray;box-sizing: border-box;top: 0;bottom: 0;left: 50%;z-index: 0;}#sk-container-id-3 div.sk-serial {display: flex;flex-direction: column;align-items: center;background-color: white;padding-right: 0.2em;padding-left: 0.2em;position: relative;}#sk-container-id-3 div.sk-item {position: relative;z-index: 1;}#sk-container-id-3 div.sk-parallel {display: flex;align-items: stretch;justify-content: center;background-color: white;position: relative;}#sk-container-id-3 div.sk-item::before, #sk-container-id-3 div.sk-parallel-item::before {content: \"\";position: absolute;border-left: 1px solid gray;box-sizing: border-box;top: 0;bottom: 0;left: 50%;z-index: -1;}#sk-container-id-3 div.sk-parallel-item {display: flex;flex-direction: column;z-index: 1;position: relative;background-color: white;}#sk-container-id-3 div.sk-parallel-item:first-child::after {align-self: flex-end;width: 50%;}#sk-container-id-3 div.sk-parallel-item:last-child::after {align-self: flex-start;width: 50%;}#sk-container-id-3 div.sk-parallel-item:only-child::after {width: 0;}#sk-container-id-3 div.sk-dashed-wrapped {border: 1px dashed gray;margin: 0 0.4em 0.5em 0.4em;box-sizing: border-box;padding-bottom: 0.4em;background-color: white;}#sk-container-id-3 div.sk-label label {font-family: monospace;font-weight: bold;display: inline-block;line-height: 1.2em;}#sk-container-id-3 div.sk-label-container {text-align: center;}#sk-container-id-3 div.sk-container {/* jupyter's `normalize.less` sets `[hidden] { display: none; }` but bootstrap.min.css set `[hidden] { display: none !important; }` so we also need the `!important` here to be able to override the default hidden behavior on the sphinx rendered scikit-learn.org. See: https://github.com/scikit-learn/scikit-learn/issues/21755 */display: inline-block !important;position: relative;}#sk-container-id-3 div.sk-text-repr-fallback {display: none;}</style><div id=\"sk-container-id-3\" class=\"sk-top-container\"><div class=\"sk-text-repr-fallback\"><pre>SVC(probability=True)</pre><b>In a Jupyter environment, please rerun this cell to show the HTML representation or trust the notebook. <br />On GitHub, the HTML representation is unable to render, please try loading this page with nbviewer.org.</b></div><div class=\"sk-container\" hidden><div class=\"sk-item\"><div class=\"sk-estimator sk-toggleable\"><input class=\"sk-toggleable__control sk-hidden--visually\" id=\"sk-estimator-id-3\" type=\"checkbox\" checked><label for=\"sk-estimator-id-3\" class=\"sk-toggleable__label sk-toggleable__label-arrow\">SVC</label><div class=\"sk-toggleable__content\"><pre>SVC(probability=True)</pre></div></div></div></div></div>"
      ],
      "text/plain": [
       "SVC(probability=True)"
      ]
     },
     "execution_count": 30,
     "metadata": {},
     "output_type": "execute_result"
    }
   ],
   "source": [
    "# Renormalize weights\n",
    "w_train[y_train == 1] = (w_train[y_train == 1] / w_train[y_train == 1].sum()) * w_train.shape[0] / 2\n",
    "w_train[y_train == 0] = (w_train[y_train == 0] / w_train[y_train == 0].sum()) * w_train.shape[0] / 2\n",
    "\n",
    "# Train SMV\n",
    "clf = svm.SVC(kernel=\"rbf\", probability=True)   \n",
    "clf.fit(x_train, y_train,sample_weight=w_train)"
   ]
  },
  {
   "cell_type": "markdown",
   "metadata": {},
   "source": [
    "##### Validation"
   ]
  },
  {
   "cell_type": "code",
   "execution_count": 31,
   "metadata": {},
   "outputs": [
    {
     "name": "stdout",
     "output_type": "stream",
     "text": [
      "Accuracy: 0.8814342508428229\n",
      "ROC AUC Score: 0.9618602090197053\n"
     ]
    }
   ],
   "source": [
    "# Renormalize weights\n",
    "w_val[y_val == 1] = (w_val[y_val == 1] / w_val[y_val == 1].sum()) * w_val.shape[0] / 2\n",
    "w_val[y_val == 0] = (w_val[y_val == 0] / w_val[y_val == 0].sum()) * w_val.shape[0] / 2\n",
    "\n",
    "# Predict\n",
    "y_val_scores = clf.predict_proba(x_val)\n",
    "y_val_scores = y_val_scores[:, 1]\n",
    "y_val_pred = clf.predict(x_val)\n",
    "\n",
    "# Compute metrics\n",
    "accuracy = accuracy_score(y_val, y_val_pred,sample_weight=w_val)\n",
    "auc_score = roc_auc_score(y_val, y_val_scores,sample_weight=w_val)\n",
    "\n",
    "print(\"Accuracy:\", accuracy)\n",
    "print(\"ROC AUC Score:\", auc_score)"
   ]
  },
  {
   "cell_type": "markdown",
   "metadata": {},
   "source": [
    "##### Test"
   ]
  },
  {
   "cell_type": "code",
   "execution_count": 32,
   "metadata": {},
   "outputs": [
    {
     "name": "stdout",
     "output_type": "stream",
     "text": [
      "Accuracy: 0.7160577575061181\n",
      "ROC AUC Score: 0.8822498229629032\n"
     ]
    }
   ],
   "source": [
    "# Renormalize weights\n",
    "w_test[y_test == 1] = (w_test[y_test == 1] / w_test[y_test == 1].sum()) * w_test.shape[0] / 2\n",
    "w_test[y_test == 0] = (w_test[y_test == 0] / w_test[y_test == 0].sum()) * w_test.shape[0] / 2\n",
    "\n",
    "# Predict\n",
    "y_test_scores = clf.predict_proba(x_test)\n",
    "y_test_scores = y_test_scores[:, 1]\n",
    "y_pred = clf.predict(x_test)\n",
    "\n",
    "# Compute metrics\n",
    "accuracy = accuracy_score(y_test, y_pred, sample_weight=w_test)\n",
    "auc_score = roc_auc_score(y_test, y_test_scores, sample_weight=w_test)\n",
    "print(\"Accuracy:\", accuracy)\n",
    "print(\"ROC AUC Score:\", auc_score)"
   ]
  },
  {
   "cell_type": "code",
   "execution_count": 33,
   "metadata": {},
   "outputs": [
    {
     "name": "stderr",
     "output_type": "stream",
     "text": [
      "/tmp/ipykernel_997022/1217247063.py:5: UserWarning: color is redundantly defined by the 'color' keyword argument and the fmt string \"k--\" (-> color='k'). The keyword argument will take precedence.\n",
      "  plt.plot([0, 1], [0, 1], 'k--', color='orange')\n"
     ]
    },
    {
     "data": {
      "image/png": "[encoded data removed]",
      "text/plain": [
       "<Figure size 640x480 with 1 Axes>"
      ]
     },
     "metadata": {},
     "output_type": "display_data"
    }
   ],
   "source": [
    "fpr, tpr, thresholds = roc_curve(y_test, y_test_scores, sample_weight=w_test)\n",
    "\n",
    "# Plot the ROC curve\n",
    "plt.plot(fpr, tpr)\n",
    "plt.plot([0, 1], [0, 1], 'k--', color='orange')  \n",
    "plt.xlabel('False Positive Rate')\n",
    "plt.ylabel('True Positive Rate')\n",
    "plt.title('Receiver Operating Characteristic (ROC) Curve')\n",
    "plt.show()"
   ]
  },
  {
   "cell_type": "code",
   "execution_count": 34,
   "metadata": {},
   "outputs": [
    {
     "name": "stdout",
     "output_type": "stream",
     "text": [
      "[1.04100242e+02 6.97711982e+01 2.96371945e+01 2.84731380e+01\n",
      " 5.67210402e+00 4.55710254e+00 3.53433941e+00 7.16658850e+00\n",
      " 1.18539221e+01 4.21886887e+00 3.21571162e+00 1.65840912e+00\n",
      " 1.95715131e+00 4.41370622e+00 3.44970669e+00 9.57967319e+00\n",
      " 1.97139282e+02 2.16988590e+00 3.11176666e+00 1.08645151e+00\n",
      " 2.18702653e-02 1.32288391e+00 3.48261644e-01 9.90541922e-01\n",
      " 1.24889307e-01 3.58583253e-01 2.91522571e-02 1.37004022e-02\n",
      " 2.36753119e-02 0.00000000e+00]\n",
      "[1.60771791e-02 2.26103303e-01 2.36753119e-02 3.15670825e-02\n",
      " 1.09436578e+00 3.14177720e+00 2.47341286e-01 2.00224962e+00\n",
      " 2.98687735e+00 8.26090993e+00 1.20350693e+01 1.06250562e+01\n",
      " 1.14096073e+01 1.44510280e+00 2.14115371e+02 9.67137832e+00\n",
      " 1.04623629e+01 7.66341075e+00 3.64045185e-01 1.08633388e+01\n",
      " 1.53215035e+00 4.53313359e+00 1.27619573e+01 3.65689511e+01\n",
      " 1.72338509e+01 1.86819729e+01 4.23247953e+01 1.89172146e+01\n",
      " 3.26100740e+01 8.15021305e+00]\n"
     ]
    },
    {
     "data": {
      "image/png": "[encoded data removed]",
      "text/plain": [
       "<Figure size 640x480 with 1 Axes>"
      ]
     },
     "metadata": {},
     "output_type": "display_data"
    }
   ],
   "source": [
    "# Plot signal and background distributions for the predicted scores with normalized counts and log scale\n",
    "\n",
    "num_bins = 30  # Number of bins\n",
    "\n",
    "# Compute the range for the bins based on the minimum and maximum values of the data\n",
    "min_value = min(min(y_test_scores[y_test == 0]), min(y_test_scores[y_test == 1]))\n",
    "max_value = max(max(y_test_scores[y_test == 0]), max(y_test_scores[y_test == 1]))\n",
    "bin_range = (min_value, max_value)\n",
    "\n",
    "counts, bins, _ = plt.hist(y_test_scores[y_test == 0], bins=num_bins, range=bin_range,  weights=w_test[y_test==0], alpha=0.5, color='b', label='Background')\n",
    "counts2, bins2, _ = plt.hist(y_test_scores[y_test == 1], bins=num_bins, range=bin_range,weights=w_test[y_test==1], alpha=0.5, color='r', label='Signal')\n",
    "\n",
    "print(counts)\n",
    "print(counts2)\n",
    "\n",
    "plt.xlabel('y_score')\n",
    "plt.ylabel('counts')\n",
    "plt.title('y_scores_bkg distribution VS y_scores_signal distribution ')\n",
    "plt.legend()\n",
    "plt.show()"
   ]
  },
  {
   "cell_type": "code",
   "execution_count": 35,
   "metadata": {},
   "outputs": [
    {
     "data": {
      "image/png": "[encoded data removed]",
      "text/plain": [
       "<Figure size 640x480 with 1 Axes>"
      ]
     },
     "metadata": {},
     "output_type": "display_data"
    }
   ],
   "source": [
    "# Plot signal and background distributions for the predicted scores with normalized counts\n",
    "\n",
    "counts = counts / sum(counts)\n",
    "counts2 = counts2 / sum(counts2)\n",
    "\n",
    "plt.bar(bins[:-1], counts, width=np.diff(bins), alpha=0.5, color='b', label='Background')\n",
    "plt.bar(bins2[:-1], counts2, width=np.diff(bins2), alpha=0.5, color='r', label='Signal')\n",
    "\n",
    "plt.xlabel('y_score')\n",
    "plt.ylabel('normalized counts')\n",
    "plt.title('y_scores_bkg distribution VS y_scores_signal distribution ')\n",
    "plt.legend()\n",
    "plt.show()"
   ]
  },
  {
   "cell_type": "code",
   "execution_count": 36,
   "metadata": {},
   "outputs": [
    {
     "data": {
      "image/png": "[encoded data removed]",
      "text/plain": [
       "<Figure size 640x480 with 1 Axes>"
      ]
     },
     "metadata": {},
     "output_type": "display_data"
    }
   ],
   "source": [
    "# Normalize the counts\n",
    "counts = counts / sum(counts)\n",
    "counts2 = counts2 / sum(counts2)\n",
    "\n",
    "plt.bar(bins[:-1], counts, width=np.diff(bins), alpha=0.5, color='b', label='Background')\n",
    "plt.bar(bins2[:-1], counts2, width=np.diff(bins2), alpha=0.5, color='r', label='Signal')\n",
    "\n",
    "plt.xlabel('y_score')\n",
    "plt.ylabel('log(normalized counts)')\n",
    "plt.title('y_scores_bkg distribution VS y_scores_signal distribution ')\n",
    "plt.yscale('log')\n",
    "plt.legend()\n",
    "plt.show()"
   ]
  },
  {
   "cell_type": "markdown",
   "metadata": {},
   "source": [
    "#### SVM: Sem PCA"
   ]
  },
  {
   "cell_type": "code",
   "execution_count": 37,
   "metadata": {},
   "outputs": [],
   "source": [
    "data_frame_fcnc_pca = data_frame_fcnc.copy()\n",
    "data_frame_bkg_pca = data_frame_bkg.copy()\n",
    "\n",
    "# Drop the categorical features except label, weights and gen_split\n",
    "data_frame_fcnc_pca.drop(['gen_decay_filter', 'gen_filter', 'gen_n_btags', 'gen_sample', 'gen_sample_filter','gen_decay2','gen_decay1'], axis=1, inplace=True)\n",
    "data_frame_bkg_pca.drop(['gen_decay_filter', 'gen_filter', 'gen_n_btags', 'gen_sample', 'gen_sample_filter','gen_decay2','gen_decay1'], axis=1, inplace=True)\n",
    "\n",
    "# Drop the features that are not in both dataframes\n",
    "for feature in data_frame_fcnc_pca.columns.values:\n",
    "    if feature not in data_frame_bkg_pca.columns.values:\n",
    "        data_frame_fcnc_pca.drop([feature], axis=1, inplace=True)\n",
    "\n",
    "for feature in data_frame_bkg_pca.columns.values:\n",
    "    if feature not in data_frame_fcnc_pca.columns.values:\n",
    "        data_frame_bkg_pca.drop([feature], axis=1, inplace=True)\n",
    "        \n",
    "# Join the dataframes\n",
    "data = pd.concat([data_frame_fcnc_pca, data_frame_bkg_pca])\n",
    "\n",
    "# Substitute the labels \"signal\" and \"bkg\" by 1 and 0\n",
    "data = data.replace(['signal'], 1)\n",
    "data= data.replace(['bkg'], 0)\n",
    "\n",
    "#normalize the data except the categorical features and the weights\n",
    "DataFeatures = pd.Index(list(set(data.columns) - set([\"gen_label\", \"gen_xsec\", \"gen_split\"])))\n",
    "data [DataFeatures] = (data [DataFeatures] - data [DataFeatures].mean()) / data [DataFeatures].std()\n",
    "\n",
    "# train, test and validation sets\n",
    "train = data.loc[data['gen_split'] == 'train']\n",
    "test = data.loc[data['gen_split'] == 'test']\n",
    "val = data.loc[data['gen_split'] == 'val']\n",
    "\n",
    "# divide the train data into signal and background and get 500 samples of each\n",
    "train_sgn = train.loc[train['gen_label'] == 1].sample(n=500, random_state=42)\n",
    "train_bkg = train.loc[train['gen_label'] == 0].sample(n=500, random_state=42)\n",
    "x_train = pd.concat([train_sgn, train_bkg])\n",
    "x_train = x_train.sample(frac=1, random_state=42)\n",
    "\n",
    "# divide the validation data into signal and background and get 500 samples of each\n",
    "val_sgn = val.loc[val['gen_label'] == 1].sample(n=500, random_state=42)\n",
    "val_bkg = val.loc[val['gen_label'] == 0].sample(n=500, random_state=42)\n",
    "x_val = pd.concat([val_sgn, val_bkg])\n",
    "x_val = x_val.sample(frac=1, random_state=42)\n",
    "\n",
    "# divide the test data into signal and background and get 500 samples of each\n",
    "test_sgn = test.loc[test['gen_label'] == 1].sample(n=500, random_state=42)\n",
    "test_bkg = test.loc[test['gen_label'] == 0].sample(n=500, random_state=42)\n",
    "x_test = pd.concat([test_sgn, test_bkg])\n",
    "x_test = x_test.sample(frac=1, random_state=42)\n",
    "\n",
    "# get an array with the labels for each set\n",
    "y_train = x_train['gen_label'].values\n",
    "y_val = x_val['gen_label'].values\n",
    "y_test = x_test['gen_label'].values\n",
    "\n",
    "# get an array with the weights for each set\n",
    "w_train = x_train[\"gen_xsec\"].values\n",
    "w_val = x_val[\"gen_xsec\"].values\n",
    "w_test = x_test[\"gen_xsec\"].values\n",
    "\n",
    "# get an array with the features for each set\n",
    "x_train = x_train[DataFeatures].values\n",
    "x_val = x_val[DataFeatures].values\n",
    "x_test = x_test[DataFeatures].values"
   ]
  },
  {
   "cell_type": "code",
   "execution_count": 38,
   "metadata": {},
   "outputs": [
    {
     "name": "stdout",
     "output_type": "stream",
     "text": [
      "       Electron_Multi  FatJet1_Eta  FatJet1_Mass  FatJet1_PT  FatJet1_Phi  \\\n",
      "66255        0.190846    -0.206387      0.729573   -0.506333    -0.938517   \n",
      "8525         1.252431    -0.099555      0.579566    0.053786    -0.089638   \n",
      "40769        1.252431    -0.787784      0.353797    0.867813     0.827167   \n",
      "82779       -0.870738    -2.001008      0.764936   -0.048181    -1.323773   \n",
      "1786        -0.870738     0.195689     -0.512045   -0.639714     1.216680   \n",
      "...               ...          ...           ...         ...          ...   \n",
      "78767       -0.870738    -0.023877     -0.638208    1.195555    -0.789228   \n",
      "30348       -0.870738     0.895927      1.693466    0.060342    -1.585507   \n",
      "27620       -0.870738     0.178134      0.859158   -0.821966    -0.776027   \n",
      "82368       -0.870738     1.026208     -0.988336   -0.929137    -0.686383   \n",
      "37585        1.252431     0.812625      0.494854    0.327273    -0.631532   \n",
      "\n",
      "       FatJet1_Tau1  FatJet1_Tau2  FatJet1_Tau3  FatJet1_Tau4  FatJet1_Tau5  \\\n",
      "66255      1.129414     -0.429548     -0.469908     -0.510254     -0.654789   \n",
      "8525      -0.251973     -0.870839     -0.950990     -0.968754     -0.934511   \n",
      "40769     -0.539326     -0.915665     -0.976918     -0.968754     -0.934511   \n",
      "82779      0.718679     -0.787539     -0.849961     -0.850962     -0.869169   \n",
      "1786      -0.441014     -0.115697     -0.030729      0.090100      0.089022   \n",
      "...             ...           ...           ...           ...           ...   \n",
      "78767     -0.385981     -0.001896      0.104915      0.067798      0.070108   \n",
      "30348      2.135173      0.035153      0.029949      0.088422      0.089199   \n",
      "27620      1.436389      1.812133      2.058117      2.071242      2.216924   \n",
      "82368     -0.952210     -0.264545     -0.162370     -0.102733     -0.174214   \n",
      "37585      1.029895     -0.898331     -0.972069     -0.962610     -0.934511   \n",
      "\n",
      "       ...  Lepton2_PT  Lepton2_Phi  MissingET_MET  MissingET_Phi  Muon_Multi  \\\n",
      "66255  ...   -0.001453     0.390598       1.174176       0.778591   -0.229029   \n",
      "8525   ...   -0.455147     0.190120       0.021161       0.017832   -1.288288   \n",
      "40769  ...   -0.560512     0.534287       0.689146      -0.739051   -1.288288   \n",
      "82779  ...    0.686751    -1.463077       1.527500       0.041021    0.830229   \n",
      "1786   ...   -0.360126    -0.837858       1.432901      -1.259585    0.830229   \n",
      "...    ...         ...          ...            ...            ...         ...   \n",
      "78767  ...    0.227422     0.481061       0.455206       0.376551    1.889487   \n",
      "30348  ...    1.177023    -1.384902       0.170313      -1.582889    0.830229   \n",
      "27620  ...    0.390234     0.393066       0.457585       1.039254    0.830229   \n",
      "82368  ...   -0.201933     0.856204       0.564974      -0.536929    0.830229   \n",
      "37585  ...    1.584961    -0.577125       1.336687       1.105211   -1.288288   \n",
      "\n",
      "       ScalarHT_HT  gen_label  gen_split  gen_weights  gen_xsec  \n",
      "66255    -1.099723          1       test    -0.196698  0.001285  \n",
      "8525      1.176504          1       test    -0.196698  0.001285  \n",
      "40769     0.454511          1       test    -0.196698  0.001285  \n",
      "82779    -0.704134          1       test    -0.196698  0.001285  \n",
      "1786     -0.710959          1       test    -0.196698  0.001285  \n",
      "...            ...        ...        ...          ...       ...  \n",
      "78767     0.936383          1       test    -0.196698  0.001285  \n",
      "30348     1.337684          1       test    -0.196698  0.001285  \n",
      "27620    -0.161635          1       test    -0.196698  0.001285  \n",
      "82368    -0.521623          1       test    -0.196698  0.001285  \n",
      "37585    -0.518387          1       test    -0.196698  0.001285  \n",
      "\n",
      "[500 rows x 51 columns]\n"
     ]
    }
   ],
   "source": [
    "print (test_sgn)"
   ]
  },
  {
   "cell_type": "markdown",
   "metadata": {},
   "source": [
    "##### Train"
   ]
  },
  {
   "cell_type": "code",
   "execution_count": 39,
   "metadata": {},
   "outputs": [
    {
     "data": {
      "text/html": [
       "<style>#sk-container-id-4 {color: black;}#sk-container-id-4 pre{padding: 0;}#sk-container-id-4 div.sk-toggleable {background-color: white;}#sk-container-id-4 label.sk-toggleable__label {cursor: pointer;display: block;width: 100%;margin-bottom: 0;padding: 0.3em;box-sizing: border-box;text-align: center;}#sk-container-id-4 label.sk-toggleable__label-arrow:before {content: \"▸\";float: left;margin-right: 0.25em;color: #696969;}#sk-container-id-4 label.sk-toggleable__label-arrow:hover:before {color: black;}#sk-container-id-4 div.sk-estimator:hover label.sk-toggleable__label-arrow:before {color: black;}#sk-container-id-4 div.sk-toggleable__content {max-height: 0;max-width: 0;overflow: hidden;text-align: left;background-color: #f0f8ff;}#sk-container-id-4 div.sk-toggleable__content pre {margin: 0.2em;color: black;border-radius: 0.25em;background-color: #f0f8ff;}#sk-container-id-4 input.sk-toggleable__control:checked~div.sk-toggleable__content {max-height: 200px;max-width: 100%;overflow: auto;}#sk-container-id-4 input.sk-toggleable__control:checked~label.sk-toggleable__label-arrow:before {content: \"▾\";}#sk-container-id-4 div.sk-estimator input.sk-toggleable__control:checked~label.sk-toggleable__label {background-color: #d4ebff;}#sk-container-id-4 div.sk-label input.sk-toggleable__control:checked~label.sk-toggleable__label {background-color: #d4ebff;}#sk-container-id-4 input.sk-hidden--visually {border: 0;clip: rect(1px 1px 1px 1px);clip: rect(1px, 1px, 1px, 1px);height: 1px;margin: -1px;overflow: hidden;padding: 0;position: absolute;width: 1px;}#sk-container-id-4 div.sk-estimator {font-family: monospace;background-color: #f0f8ff;border: 1px dotted black;border-radius: 0.25em;box-sizing: border-box;margin-bottom: 0.5em;}#sk-container-id-4 div.sk-estimator:hover {background-color: #d4ebff;}#sk-container-id-4 div.sk-parallel-item::after {content: \"\";width: 100%;border-bottom: 1px solid gray;flex-grow: 1;}#sk-container-id-4 div.sk-label:hover label.sk-toggleable__label {background-color: #d4ebff;}#sk-container-id-4 div.sk-serial::before {content: \"\";position: absolute;border-left: 1px solid gray;box-sizing: border-box;top: 0;bottom: 0;left: 50%;z-index: 0;}#sk-container-id-4 div.sk-serial {display: flex;flex-direction: column;align-items: center;background-color: white;padding-right: 0.2em;padding-left: 0.2em;position: relative;}#sk-container-id-4 div.sk-item {position: relative;z-index: 1;}#sk-container-id-4 div.sk-parallel {display: flex;align-items: stretch;justify-content: center;background-color: white;position: relative;}#sk-container-id-4 div.sk-item::before, #sk-container-id-4 div.sk-parallel-item::before {content: \"\";position: absolute;border-left: 1px solid gray;box-sizing: border-box;top: 0;bottom: 0;left: 50%;z-index: -1;}#sk-container-id-4 div.sk-parallel-item {display: flex;flex-direction: column;z-index: 1;position: relative;background-color: white;}#sk-container-id-4 div.sk-parallel-item:first-child::after {align-self: flex-end;width: 50%;}#sk-container-id-4 div.sk-parallel-item:last-child::after {align-self: flex-start;width: 50%;}#sk-container-id-4 div.sk-parallel-item:only-child::after {width: 0;}#sk-container-id-4 div.sk-dashed-wrapped {border: 1px dashed gray;margin: 0 0.4em 0.5em 0.4em;box-sizing: border-box;padding-bottom: 0.4em;background-color: white;}#sk-container-id-4 div.sk-label label {font-family: monospace;font-weight: bold;display: inline-block;line-height: 1.2em;}#sk-container-id-4 div.sk-label-container {text-align: center;}#sk-container-id-4 div.sk-container {/* jupyter's `normalize.less` sets `[hidden] { display: none; }` but bootstrap.min.css set `[hidden] { display: none !important; }` so we also need the `!important` here to be able to override the default hidden behavior on the sphinx rendered scikit-learn.org. See: https://github.com/scikit-learn/scikit-learn/issues/21755 */display: inline-block !important;position: relative;}#sk-container-id-4 div.sk-text-repr-fallback {display: none;}</style><div id=\"sk-container-id-4\" class=\"sk-top-container\"><div class=\"sk-text-repr-fallback\"><pre>SVC(probability=True)</pre><b>In a Jupyter environment, please rerun this cell to show the HTML representation or trust the notebook. <br />On GitHub, the HTML representation is unable to render, please try loading this page with nbviewer.org.</b></div><div class=\"sk-container\" hidden><div class=\"sk-item\"><div class=\"sk-estimator sk-toggleable\"><input class=\"sk-toggleable__control sk-hidden--visually\" id=\"sk-estimator-id-4\" type=\"checkbox\" checked><label for=\"sk-estimator-id-4\" class=\"sk-toggleable__label sk-toggleable__label-arrow\">SVC</label><div class=\"sk-toggleable__content\"><pre>SVC(probability=True)</pre></div></div></div></div></div>"
      ],
      "text/plain": [
       "SVC(probability=True)"
      ]
     },
     "execution_count": 39,
     "metadata": {},
     "output_type": "execute_result"
    }
   ],
   "source": [
    "# Renormalize weights\n",
    "w_train[y_train == 1] = (w_train[y_train == 1] / w_train[y_train == 1].sum()) * w_train.shape[0] / 2\n",
    "w_train[y_train == 0] = (w_train[y_train == 0] / w_train[y_train == 0].sum()) * w_train.shape[0] / 2\n",
    "\n",
    "# Train SMV\n",
    "clf = svm.SVC(kernel=\"rbf\", probability=True)   \n",
    "clf.fit(x_train, y_train,sample_weight=w_train)\n"
   ]
  },
  {
   "cell_type": "markdown",
   "metadata": {},
   "source": [
    "##### Validation"
   ]
  },
  {
   "cell_type": "code",
   "execution_count": 40,
   "metadata": {},
   "outputs": [
    {
     "name": "stdout",
     "output_type": "stream",
     "text": [
      "Accuracy: 0.8526760213682151\n",
      "ROC AUC Score: 0.9625335679002053\n"
     ]
    }
   ],
   "source": [
    "# Renormalize weights\n",
    "w_val[y_val == 1] = (w_val[y_val == 1] / w_val[y_val == 1].sum()) * w_val.shape[0] / 2\n",
    "w_val[y_val == 0] = (w_val[y_val == 0] / w_val[y_val == 0].sum()) * w_val.shape[0] / 2\n",
    "\n",
    "# Predict\n",
    "y_val_scores = clf.predict_proba(x_val)\n",
    "y_val_scores = y_val_scores[:, 1]\n",
    "y_val_pred = clf.predict(x_val)\n",
    "\n",
    "# Compute metrics\n",
    "accuracy = accuracy_score(y_val, y_val_pred,sample_weight=w_val)\n",
    "auc_score = roc_auc_score(y_val, y_val_scores,sample_weight=w_val)\n",
    "\n",
    "print(\"Accuracy:\", accuracy)\n",
    "print(\"ROC AUC Score:\", auc_score)"
   ]
  },
  {
   "cell_type": "markdown",
   "metadata": {},
   "source": [
    "##### Test"
   ]
  },
  {
   "cell_type": "code",
   "execution_count": 41,
   "metadata": {},
   "outputs": [
    {
     "name": "stdout",
     "output_type": "stream",
     "text": [
      "Accuracy: 0.7067920539596853\n",
      "ROC AUC Score: 0.9054016860544803\n"
     ]
    }
   ],
   "source": [
    "\n",
    "# Renormalize weights\n",
    "w_test[y_test == 1] = (w_test[y_test == 1] / w_test[y_test == 1].sum()) * w_test.shape[0] / 2\n",
    "w_test[y_test == 0] = (w_test[y_test == 0] / w_test[y_test == 0].sum()) * w_test.shape[0] / 2\n",
    "\n",
    "# Predict\n",
    "y_test_scores = clf.predict_proba(x_test)\n",
    "y_test_scores = y_test_scores[:, 1]\n",
    "y_pred = clf.predict(x_test)\n",
    "\n",
    "# Compute metrics\n",
    "accuracy = accuracy_score(y_test, y_pred, sample_weight=w_test)\n",
    "auc_score = roc_auc_score(y_test, y_test_scores, sample_weight=w_test)\n",
    "print(\"Accuracy:\", accuracy)\n",
    "print(\"ROC AUC Score:\", auc_score)"
   ]
  },
  {
   "cell_type": "code",
   "execution_count": 42,
   "metadata": {},
   "outputs": [
    {
     "name": "stderr",
     "output_type": "stream",
     "text": [
      "/tmp/ipykernel_997022/1217247063.py:5: UserWarning: color is redundantly defined by the 'color' keyword argument and the fmt string \"k--\" (-> color='k'). The keyword argument will take precedence.\n",
      "  plt.plot([0, 1], [0, 1], 'k--', color='orange')\n"
     ]
    },
    {
     "data": {
      "image/png": "[encoded data removed]",
      "text/plain": [
       "<Figure size 640x480 with 1 Axes>"
      ]
     },
     "metadata": {},
     "output_type": "display_data"
    }
   ],
   "source": [
    "fpr, tpr, thresholds = roc_curve(y_test, y_test_scores, sample_weight=w_test)\n",
    "\n",
    "# Plot the ROC curve\n",
    "plt.plot(fpr, tpr)\n",
    "plt.plot([0, 1], [0, 1], 'k--', color='orange')  \n",
    "plt.xlabel('False Positive Rate')\n",
    "plt.ylabel('True Positive Rate')\n",
    "plt.title('Receiver Operating Characteristic (ROC) Curve')\n",
    "plt.show()"
   ]
  },
  {
   "cell_type": "code",
   "execution_count": 43,
   "metadata": {},
   "outputs": [
    {
     "data": {
      "image/png": "[encoded data removed]",
      "text/plain": [
       "<Figure size 640x480 with 1 Axes>"
      ]
     },
     "metadata": {},
     "output_type": "display_data"
    }
   ],
   "source": [
    "# Plot signal and background distributions for the predicted scores with normalized counts and log scale\n",
    "\n",
    "num_bins = 30  # Number of bins\n",
    "\n",
    "# Compute the range for the bins based on the minimum and maximum values of the data\n",
    "min_value = min(min(y_test_scores[y_test == 0]), min(y_test_scores[y_test == 1]))\n",
    "max_value = max(max(y_test_scores[y_test == 0]), max(y_test_scores[y_test == 1]))\n",
    "bin_range = (min_value, max_value)\n",
    "\n",
    "counts, bins, _ = plt.hist(y_test_scores[y_test == 0], bins=num_bins, range=bin_range,  weights=w_test[y_test==0], alpha=0.5, color='b', label='Background')\n",
    "counts2, bins2, _ = plt.hist(y_test_scores[y_test == 1], bins=num_bins, range=bin_range,weights=w_test[y_test==1], alpha=0.5, color='r', label='Signal')\n",
    "\n",
    "print(counts)\n",
    "print(counts2)\n",
    "\n",
    "plt.xlabel('y_score')\n",
    "plt.ylabel('counts')\n",
    "plt.title('y_scores_bkg distribution VS y_scores_signal distribution ')\n",
    "plt.legend()\n",
    "plt.show()"
   ]
  },
  {
   "cell_type": "code",
   "execution_count": 44,
   "metadata": {},
   "outputs": [
    {
     "data": {
      "image/png": "[encoded data removed]",
      "text/plain": [
       "<Figure size 640x480 with 1 Axes>"
      ]
     },
     "metadata": {},
     "output_type": "display_data"
    }
   ],
   "source": [
    "# Plot signal and background distributions for the predicted scores with normalized counts\n",
    "\n",
    "counts = counts / sum(counts)\n",
    "counts2 = counts2 / sum(counts2)\n",
    "\n",
    "plt.bar(bins[:-1], counts, width=np.diff(bins), alpha=0.5, color='b', label='Background')\n",
    "plt.bar(bins2[:-1], counts2, width=np.diff(bins2), alpha=0.5, color='r', label='Signal')\n",
    "\n",
    "plt.xlabel('y_score')\n",
    "plt.ylabel('normalized counts')\n",
    "plt.title('y_scores_bkg distribution VS y_scores_signal distribution ')\n",
    "plt.yscale('log')\n",
    "plt.legend()\n",
    "plt.show()"
   ]
  },
  {
   "cell_type": "markdown",
   "metadata": {},
   "source": [
    "### VQE"
   ]
  },
  {
   "cell_type": "markdown",
   "metadata": {},
   "source": [
    "#### PCA (2 Features)"
   ]
  },
  {
   "cell_type": "code",
   "execution_count": 45,
   "metadata": {},
   "outputs": [],
   "source": [
    "data_frame_fcnc_pca = data_frame_fcnc.copy()\n",
    "data_frame_bkg_pca = data_frame_bkg.copy()\n",
    "\n",
    "# Drop the categorical features except label, weights and gen_split\n",
    "data_frame_fcnc_pca.drop(['gen_decay_filter', 'gen_filter', 'gen_n_btags', 'gen_sample', 'gen_sample_filter','gen_decay2','gen_decay1'], axis=1, inplace=True)\n",
    "data_frame_bkg_pca.drop(['gen_decay_filter', 'gen_filter', 'gen_n_btags', 'gen_sample', 'gen_sample_filter','gen_decay2','gen_decay1'], axis=1, inplace=True)\n",
    "\n",
    "# Drop the features that are not in both dataframes\n",
    "for feature in data_frame_fcnc_pca.columns.values:\n",
    "    if feature not in data_frame_bkg_pca.columns.values:\n",
    "        data_frame_fcnc_pca.drop([feature], axis=1, inplace=True)\n",
    "\n",
    "for feature in data_frame_bkg_pca.columns.values:\n",
    "    if feature not in data_frame_fcnc_pca.columns.values:\n",
    "        data_frame_bkg_pca.drop([feature], axis=1, inplace=True)\n",
    "        \n",
    "# Join the dataframes\n",
    "data = pd.concat([data_frame_fcnc_pca, data_frame_bkg_pca])\n",
    "\n",
    "# Substitute the labels \"signal\" and \"bkg\" by 1 and 0\n",
    "data = data.replace(['signal'], 1)\n",
    "data= data.replace(['bkg'], 0)\n",
    "\n",
    "\n",
    "# train, test and validation sets\n",
    "train = data.loc[data['gen_split'] == 'train']\n",
    "test = data.loc[data['gen_split'] == 'test']\n",
    "val = data.loc[data['gen_split'] == 'val']"
   ]
  },
  {
   "cell_type": "code",
   "execution_count": 46,
   "metadata": {},
   "outputs": [],
   "source": [
    "### perform PCA on the train data\n",
    "# Normalize the data for angle embeding  (Put the data between -pi and pi)\n",
    "DataFeatures_vqe = pd.Index(list(set(data.columns) - set([\"gen_label\", \"gen_xsec\", \"gen_split\"])))\n",
    "pca_n_features = 2\n",
    "data_vqe, DataFeatures_vqe, book = perform_PCA (DataFeatures_vqe, pca_n_features, train, data)"
   ]
  },
  {
   "cell_type": "code",
   "execution_count": 47,
   "metadata": {},
   "outputs": [],
   "source": [
    "# Split the features array into train, validation and test sets\n",
    "data_vqe [DataFeatures_vqe] = (((data_vqe [DataFeatures_vqe] - data_vqe [DataFeatures_vqe].min()) / (data_vqe [DataFeatures_vqe].max() - data_vqe [DataFeatures_vqe].min())) * 2 - 1) * (np.pi)\n",
    "\n",
    "# divide the new data into train, test and validation sets\n",
    "train = data_vqe.loc[data_vqe['gen_split'] == 'train']\n",
    "test = data_vqe.loc[data_vqe['gen_split'] == 'test']\n",
    "val = data_vqe.loc[data_vqe['gen_split'] == 'val']\n",
    "\n",
    "# divide the train data into signal and background and get 500 samples of each\n",
    "train_sgn = train.loc[train['gen_label'] == 1].sample(n=500)\n",
    "train_bkg = train.loc[train['gen_label'] == 0].sample(n=500)\n",
    "x_train = pd.concat([train_sgn, train_bkg])\n",
    "x_train = x_train.sample(frac=1)\n",
    "\n",
    "# divide the validation data into signal and background and get 500 samples of each\n",
    "val_sgn = val.loc[val['gen_label'] == 1].sample(n=500)\n",
    "val_bkg = val.loc[val['gen_label'] == 0].sample(n=500)\n",
    "x_val = pd.concat([val_sgn, val_bkg])\n",
    "x_val = x_val.sample(frac=1)\n",
    "\n",
    "# divide the test data into signal and background and get 500 samples of each\n",
    "test_sgn = test.loc[test['gen_label'] == 1].sample(n=500)\n",
    "test_bkg = test.loc[test['gen_label'] == 0].sample(n=500)\n",
    "x_test = pd.concat([test_sgn, test_bkg])\n",
    "x_test = x_test.sample(frac=1)\n",
    "\n",
    "# get an array with the labels for each set\n",
    "y_train = x_train['gen_label'].values\n",
    "y_val = x_val['gen_label'].values\n",
    "y_test = x_test['gen_label'].values\n",
    "\n",
    "# get an array with the weights for each set\n",
    "w_train = x_train[\"gen_xsec\"].values\n",
    "w_val = x_val[\"gen_xsec\"].values\n",
    "w_test = x_test[\"gen_xsec\"].values\n",
    "\n",
    "# get an array with the features for each set\n",
    "x_train = x_train[DataFeatures_vqe].values\n",
    "x_val = x_val[DataFeatures_vqe].values\n",
    "x_test = x_test[DataFeatures_vqe].values"
   ]
  },
  {
   "cell_type": "code",
   "execution_count": 14,
   "metadata": {},
   "outputs": [],
   "source": [
    "# loss function\n",
    "def square_loss(labels, predictions):\n",
    "    loss = 0\n",
    "    for l, p in zip(labels, predictions):\n",
    "        loss = loss + (l - p) ** 2\n",
    "\n",
    "    loss = loss / len(labels)\n",
    "    return loss\n",
    "\n",
    "# quantum circuit function\n",
    "def circuit(n_features, n_layers, weights, x):\n",
    "        # Embedding\n",
    "        \n",
    "        qml.AngleEmbedding(x,range (0, n_features),rotation=\"X\" )\n",
    "\n",
    "        # For every layer\n",
    "        for layer in range(n_layers):\n",
    "            W1 = weights[layer]\n",
    "\n",
    "            # Define Rotations\n",
    "            for i in range(0,n_features):\n",
    "                qml.Rot(W1[i, 0], W1[i, 1], W1[i, 2], wires=i)\n",
    "\n",
    "            # Entanglement\n",
    "            if n_features != 1:\n",
    "                if n_features > 2:\n",
    "                    for i in range(n_features):\n",
    "                        if i == n_features - 1:\n",
    "                            qml.CNOT(wires=[i, 0])\n",
    "                        else:\n",
    "                            qml.CNOT(wires=[i, i + 1])\n",
    "                else:\n",
    "                    qml.CNOT(wires=[1, 0])\n",
    "\n",
    "        return qml.expval(qml.PauliZ(0))\n",
    "\n",
    "# classifier function    \n",
    "def classifier(n_features, n_layers, weights, x):\n",
    "        #c = circuit(n_features, n_layers, weights, x)\n",
    "        dev=qml.device(\"default.qubit\", wires=n_features)\n",
    "        return qml.QNode(circuit, dev)(n_features, n_layers, weights, x)\n",
    "    \n",
    "# cost function    \n",
    "def cost(n_features, n_layers,weights,X,Y,W):  \n",
    "        # Compute predictions\n",
    "        y_scores = [(classifier(n_features, n_layers,weights, x) + 1) / 2 for x in X]\n",
    "\n",
    "        loss = square_loss(Y, y_scores)\n",
    "        loss = loss * W\n",
    "        loss = loss.sum()\n",
    "        \n",
    "        return loss\n",
    "    \n",
    "# train step function    \n",
    "def train_step(n_features, n_layers,x_train,y_train, w_train, weights, opt,desc='Training'):\n",
    "        \n",
    "        # Only require grad if necessary\n",
    "        x_train = np.array(x_train, requires_grad=False)\n",
    "        y_train = np.array(y_train, requires_grad=True)\n",
    "        w_train = np.array(w_train, requires_grad=False)\n",
    "\n",
    "        # Compute cost and update weights\n",
    "        weights, loss = opt.step_and_cost(cost, n_features, n_layers,weights, X=x_train, Y=y_train, W=w_train)\n",
    "\n",
    "        return loss, weights\n",
    "    \n",
    "# validation step function\n",
    "def validation_step(n_features, n_layers, x_val, y_val, w_val, weights, best_score, epoch_number, best_score_epoch,best_weights,desc='Validation'):\n",
    "    X_val = np.array(x_val, requires_grad=False)\n",
    "    Y_val = np.array(y_val, requires_grad=False)\n",
    "    W_val = np.array(w_val, requires_grad=False)\n",
    "\n",
    "    y_scores = np.array([classifier(n_features, n_layers, weights, x) for x in X_val])\n",
    "    y_scores = (y_scores + 1) / 2\n",
    "\n",
    "    W_val[Y_val == 1] = (W_val[Y_val == 1] / W_val[Y_val == 1].sum()) * W_val.shape[0] / 2\n",
    "    W_val[Y_val == 0] = (W_val[Y_val == 0] / W_val[Y_val == 0].sum()) * W_val.shape[0] / 2\n",
    "\n",
    "    auc_score = roc_auc_score(y_true=Y_val, y_score=y_scores, sample_weight=W_val)\n",
    "    loss = cost(n_features, n_layers, weights, X_val, Y_val, W_val)\n",
    "\n",
    "\n",
    "    if best_score is None or auc_score > best_score:\n",
    "        best_score = auc_score\n",
    "        best_score_epoch = epoch_number\n",
    "        best_weights = weights\n",
    "\n",
    "    tqdm.write(f\"Epoch: {epoch_number}, Validation Loss: {loss:.4f}, AUC Score: {auc_score:.4f}\")\n",
    "\n",
    "    return best_score, best_score_epoch, best_weights\n",
    "     \n",
    "# train function\n",
    "def train(n_features, n_layers, x_train, y_train, learning_rate, weights, max_epochs):\n",
    "    opt = AdamOptimizer(learning_rate)\n",
    "    best_score = None\n",
    "    best_weights = None\n",
    "    best_score_epoch = None\n",
    "    epoch_number = 0\n",
    "\n",
    "    with tqdm(total=max_epochs, desc='Epoch', unit='epoch') as pbar:\n",
    "        for epoch in range(epoch_number, max_epochs):\n",
    "            epoch_number = epoch\n",
    "\n",
    "            loss, nf_nl_weights = train_step(n_features, n_layers, x_train, y_train, w_train, weights, opt, desc='Training')\n",
    "            \n",
    "            # Log variable values using tqdm.write\n",
    "            tqdm.write(f\"Epoch: {epoch_number:}, Loss: {loss:.4f}\")\n",
    "            \n",
    "            \n",
    "            weights = nf_nl_weights[2:]\n",
    "            weights = weights[0]\n",
    "\n",
    "            if epoch_number == max_epochs - 1 or (epoch_number+1)%5==0:\n",
    "                best_score, best_score_epoch, best_weights = validation_step(n_features, n_layers, x_val, y_val, w_val, weights, best_score, epoch_number, best_score_epoch, best_weights,desc='Validation')\n",
    "                # early stopping\n",
    "                if epoch_number - best_score_epoch > 30 and epoch_number > 80:\n",
    "                    tqdm.write(f\"Early stopping at epoch {epoch_number}\")\n",
    "                    break\n",
    "\n",
    "            pbar.update(1)  # Update progress bar\n",
    "        tqdm.write(f\"Best Score: {best_score:.4f}\")            \n",
    "        \n",
    "    return best_score, best_weights\n",
    "\n",
    "\n",
    "def test(n_features, n_layers,x_test,y_test,w_test, weights):\n",
    "        # Remove grad\n",
    "        X_test = np.array(x_test, requires_grad=False)\n",
    "        Y_test = np.array(y_test, requires_grad=False)\n",
    "        W_test = np.array(w_test, requires_grad=False)\n",
    "\n",
    "        # This will be between -1 and 1, we need to convert to between 0 and 1\n",
    "        y_scores = np.array([classifier(n_features, n_layers,weights, x) for x in X_test])\n",
    "        y_scores = (y_scores + 1) / 2\n",
    "\n",
    "        # Renormalize weights\n",
    "        W_test[Y_test == 1] = (W_test[Y_test == 1] / W_test[Y_test == 1].sum()) * W_test.shape[0] / 2\n",
    "        W_test[Y_test == 0] = (W_test[Y_test == 0] / W_test[Y_test == 0].sum()) * W_test.shape[0] / 2\n",
    "\n",
    "        # Calculate ROC\n",
    "        auc_score = roc_auc_score(y_true=Y_test, y_score=y_scores, sample_weight=W_test)\n",
    "        \n",
    "        return auc_score"
   ]
  },
  {
   "cell_type": "code",
   "execution_count": 49,
   "metadata": {},
   "outputs": [
    {
     "data": {
      "application/vnd.jupyter.widget-view+json": {
       "model_id": "4404c28551cb4e2287d245351eab0294",
       "version_major": 2,
       "version_minor": 0
      },
      "text/plain": [
       "Epoch:   0%|          | 0/1000 [00:00<?, ?epoch/s]"
      ]
     },
     "metadata": {},
     "output_type": "display_data"
    },
    {
     "name": "stdout",
     "output_type": "stream",
     "text": [
      "Epoch: 0, Loss: 315.1319\n",
      "Epoch: 1, Loss: 314.7122\n",
      "Epoch: 2, Loss: 313.9579\n",
      "Epoch: 3, Loss: 312.8213\n",
      "Epoch: 4, Loss: 311.3036\n",
      "Epoch: 4, Validation Loss: 251.9104, AUC Score: 0.7606\n",
      "Epoch: 5, Loss: 309.4184\n",
      "Epoch: 6, Loss: 307.1909\n",
      "Epoch: 7, Loss: 304.6582\n",
      "Epoch: 8, Loss: 301.8698\n",
      "Epoch: 9, Loss: 298.8870\n",
      "Epoch: 9, Validation Loss: 240.9989, AUC Score: 0.7671\n",
      "Epoch: 10, Loss: 295.7819\n",
      "Epoch: 11, Loss: 292.6351\n",
      "Epoch: 12, Loss: 289.5329\n",
      "Epoch: 13, Loss: 286.5623\n",
      "Epoch: 14, Loss: 283.8054\n",
      "Epoch: 14, Validation Loss: 229.4954, AUC Score: 0.7775\n",
      "Epoch: 15, Loss: 281.3336\n",
      "Epoch: 16, Loss: 279.2021\n",
      "Epoch: 17, Loss: 277.4440\n",
      "Epoch: 18, Loss: 276.0643\n",
      "Epoch: 19, Loss: 275.0342\n",
      "Epoch: 19, Validation Loss: 224.0280, AUC Score: 0.7932\n",
      "Epoch: 20, Loss: 274.2912\n",
      "Epoch: 21, Loss: 273.7486\n",
      "Epoch: 22, Loss: 273.3143\n",
      "Epoch: 23, Loss: 272.9064\n",
      "Epoch: 24, Loss: 272.4615\n",
      "Epoch: 24, Validation Loss: 222.4761, AUC Score: 0.8073\n",
      "Epoch: 25, Loss: 271.9382\n",
      "Epoch: 26, Loss: 271.3162\n",
      "Epoch: 27, Loss: 270.5936\n",
      "Epoch: 28, Loss: 269.7821\n",
      "Epoch: 29, Loss: 268.9029\n",
      "Epoch: 29, Validation Loss: 219.7091, AUC Score: 0.8175\n",
      "Epoch: 30, Loss: 267.9820\n",
      "Epoch: 31, Loss: 267.0464\n",
      "Epoch: 32, Loss: 266.1213\n",
      "Epoch: 33, Loss: 265.2281\n",
      "Epoch: 34, Loss: 264.3823\n",
      "Epoch: 34, Validation Loss: 216.5460, AUC Score: 0.8259\n",
      "Epoch: 35, Loss: 263.5936\n",
      "Epoch: 36, Loss: 262.8653\n",
      "Epoch: 37, Loss: 262.1952\n",
      "Epoch: 38, Loss: 261.5769\n",
      "Epoch: 39, Loss: 261.0008\n",
      "Epoch: 39, Validation Loss: 214.3042, AUC Score: 0.8306\n",
      "Epoch: 40, Loss: 260.4563\n",
      "Epoch: 41, Loss: 259.9327\n",
      "Epoch: 42, Loss: 259.4212\n",
      "Epoch: 43, Loss: 258.9150\n",
      "Epoch: 44, Loss: 258.4106\n",
      "Epoch: 44, Validation Loss: 212.4804, AUC Score: 0.8374\n",
      "Epoch: 45, Loss: 257.9074\n",
      "Epoch: 46, Loss: 257.4072\n",
      "Epoch: 47, Loss: 256.9142\n",
      "Epoch: 48, Loss: 256.4334\n",
      "Epoch: 49, Loss: 255.9704\n",
      "Epoch: 49, Validation Loss: 210.7680, AUC Score: 0.8384\n",
      "Epoch: 50, Loss: 255.5302\n",
      "Epoch: 51, Loss: 255.1166\n",
      "Epoch: 52, Loss: 254.7318\n",
      "Epoch: 53, Loss: 254.3764\n",
      "Epoch: 54, Loss: 254.0491\n",
      "Epoch: 54, Validation Loss: 209.4988, AUC Score: 0.8359\n",
      "Epoch: 55, Loss: 253.7476\n",
      "Epoch: 56, Loss: 253.4684\n",
      "Epoch: 57, Loss: 253.2079\n",
      "Epoch: 58, Loss: 252.9629\n",
      "Epoch: 59, Loss: 252.7308\n",
      "Epoch: 59, Validation Loss: 208.6036, AUC Score: 0.8364\n",
      "Epoch: 60, Loss: 252.5099\n",
      "Epoch: 61, Loss: 252.2996\n",
      "Epoch: 62, Loss: 252.1003\n",
      "Epoch: 63, Loss: 251.9128\n",
      "Epoch: 64, Loss: 251.7384\n",
      "Epoch: 64, Validation Loss: 207.8795, AUC Score: 0.8354\n",
      "Epoch: 65, Loss: 251.5781\n",
      "Epoch: 66, Loss: 251.4329\n",
      "Epoch: 67, Loss: 251.3030\n",
      "Epoch: 68, Loss: 251.1881\n",
      "Epoch: 69, Loss: 251.0875\n",
      "Epoch: 69, Validation Loss: 207.3903, AUC Score: 0.8339\n",
      "Epoch: 70, Loss: 250.9997\n",
      "Epoch: 71, Loss: 250.9232\n",
      "Epoch: 72, Loss: 250.8562\n",
      "Epoch: 73, Loss: 250.7972\n",
      "Epoch: 74, Loss: 250.7448\n",
      "Epoch: 74, Validation Loss: 207.1147, AUC Score: 0.8313\n",
      "Epoch: 75, Loss: 250.6979\n",
      "Epoch: 76, Loss: 250.6558\n",
      "Epoch: 77, Loss: 250.6181\n",
      "Epoch: 78, Loss: 250.5846\n",
      "Epoch: 79, Loss: 250.5554\n",
      "Epoch: 79, Validation Loss: 206.9598, AUC Score: 0.8297\n",
      "Epoch: 80, Loss: 250.5303\n",
      "Epoch: 81, Loss: 250.5093\n",
      "Epoch: 82, Loss: 250.4921\n",
      "Epoch: 83, Loss: 250.4784\n",
      "Epoch: 84, Loss: 250.4676\n",
      "Epoch: 84, Validation Loss: 206.8886, AUC Score: 0.8284\n",
      "Early stopping at epoch 84\n",
      "Best Score: 0.8384\n"
     ]
    }
   ],
   "source": [
    "# number of features and layers\n",
    "n_features = 2\n",
    "n_layers = 3\n",
    "\n",
    "# Random weight initialization\n",
    "weights = 0.01 * np.random.randn(n_layers, n_features, 3, requires_grad=True)\n",
    "\n",
    "# We create a quantum device with n_features \"wires\" (or qubits)\n",
    "dev = qml.device('default.qubit', wires=n_features)\n",
    "\n",
    "# train the model\n",
    "best_score, best_weights = train (n_features, n_layers,x_train,y_train,0.01, weights, 1000)"
   ]
  },
  {
   "cell_type": "code",
   "execution_count": 50,
   "metadata": {},
   "outputs": [
    {
     "name": "stdout",
     "output_type": "stream",
     "text": [
      "0.8084683958075503\n"
     ]
    }
   ],
   "source": [
    "# test the model\n",
    "    \n",
    "auc_score = test(n_features, n_layers,x_test,y_test,w_test, best_weights)\n",
    "print (auc_score)"
   ]
  },
  {
   "cell_type": "markdown",
   "metadata": {},
   "source": [
    "#### Without PCA (2 Features)"
   ]
  },
  {
   "cell_type": "code",
   "execution_count": 12,
   "metadata": {},
   "outputs": [],
   "source": [
    "data_frame_fcnc_pca = data_frame_fcnc.copy()\n",
    "data_frame_bkg_pca = data_frame_bkg.copy()\n",
    "\n",
    "# Drop the categorical features except label, weights and gen_split\n",
    "data_frame_fcnc_pca.drop(['gen_decay_filter', 'gen_filter', 'gen_n_btags', 'gen_sample', 'gen_sample_filter','gen_decay2','gen_decay1'], axis=1, inplace=True)\n",
    "data_frame_bkg_pca.drop(['gen_decay_filter', 'gen_filter', 'gen_n_btags', 'gen_sample', 'gen_sample_filter','gen_decay2','gen_decay1'], axis=1, inplace=True)\n",
    "\n",
    "# Drop the features that are not in both dataframes\n",
    "for feature in data_frame_fcnc_pca.columns.values:\n",
    "    if feature not in data_frame_bkg_pca.columns.values:\n",
    "        data_frame_fcnc_pca.drop([feature], axis=1, inplace=True)\n",
    "\n",
    "for feature in data_frame_bkg_pca.columns.values:\n",
    "    if feature not in data_frame_fcnc_pca.columns.values:\n",
    "        data_frame_bkg_pca.drop([feature], axis=1, inplace=True)\n",
    "        \n",
    "# Join the dataframes\n",
    "data_vqe = pd.concat([data_frame_fcnc_pca, data_frame_bkg_pca])\n",
    "\n",
    "# Substitute the labels \"signal\" and \"bkg\" by 1 and 0\n",
    "data_vqe = data_vqe.replace(['signal'], 1)\n",
    "data_vqe= data_vqe.replace(['bkg'], 0)\n",
    "\n",
    "#normalize the data except the categorical features and the weights\n",
    "DataFeatures_vqe = pd.Index(list(set(data_vqe.columns) - set([\"gen_label\", \"gen_xsec\", \"gen_split\"])))\n",
    "data_vqe [DataFeatures_vqe] = (((data_vqe [DataFeatures_vqe] - data_vqe [DataFeatures_vqe].min()) / (data_vqe [DataFeatures_vqe].max() - data_vqe [DataFeatures_vqe].min())) * 2 - 1) * (np.pi)\n",
    "\n",
    "# train, test and validation sets\n",
    "train_vqe = data_vqe.loc[data['gen_split'] == 'train']\n",
    "test_vqe = data_vqe.loc[data['gen_split'] == 'test']\n",
    "val_vqe = data_vqe.loc[data['gen_split'] == 'val']\n",
    "\n",
    "# divide the train data into signal and background and get 500 samples of each\n",
    "train_sgn = train_vqe.loc[train_vqe['gen_label'] == 1].sample(n=500, random_state=42)\n",
    "train_bkg = train_vqe.loc[train_vqe['gen_label'] == 0].sample(n=500, random_state=42)\n",
    "x_train = pd.concat([train_sgn, train_bkg])\n",
    "x_train = x_train.sample(frac=1, random_state=42)\n",
    "\n",
    "# divide the validation data into signal and background and get 500 samples of each\n",
    "val_sgn = val_vqe.loc[val_vqe['gen_label'] == 1].sample(n=500, random_state=42)\n",
    "val_bkg = val_vqe.loc[val_vqe['gen_label'] == 0].sample(n=500, random_state=42)\n",
    "x_val = pd.concat([val_sgn, val_bkg])\n",
    "x_val = x_val.sample(frac=1, random_state=42)\n",
    "\n",
    "# divide the test data into signal and background and get 500 samples of each\n",
    "test_sgn = test_vqe.loc[test_vqe['gen_label'] == 1].sample(n=500, random_state=42)\n",
    "test_bkg = test_vqe.loc[test_vqe['gen_label'] == 0].sample(n=500, random_state=42)\n",
    "x_test = pd.concat([test_sgn, test_bkg])\n",
    "x_test = x_test.sample(frac=1, random_state=42)\n",
    "\n",
    "# get an array with the labels for each set\n",
    "y_train = x_train['gen_label'].values\n",
    "y_val = x_val['gen_label'].values\n",
    "y_test = x_test['gen_label'].values\n",
    "\n",
    "# get an array with the weights for each set\n",
    "w_train = x_train[\"gen_xsec\"].values\n",
    "w_val = x_val[\"gen_xsec\"].values\n",
    "w_test = x_test[\"gen_xsec\"].values\n",
    "\n",
    "# get an array with the features for each set\n",
    "x_train = x_train[['MissingET_MET', 'Jet1_BTag']].values\n",
    "x_val = x_val[['MissingET_MET', 'Jet1_BTag']].values\n",
    "x_test = x_test[['MissingET_MET', 'Jet1_BTag']].values"
   ]
  },
  {
   "cell_type": "code",
   "execution_count": 15,
   "metadata": {},
   "outputs": [
    {
     "data": {
      "application/vnd.jupyter.widget-view+json": {
       "model_id": "9d88a363005a4dfe90f49ab6d199b9ec",
       "version_major": 2,
       "version_minor": 0
      },
      "text/plain": [
       "Epoch:   0%|          | 0/1000 [00:00<?, ?epoch/s]"
      ]
     },
     "metadata": {},
     "output_type": "display_data"
    },
    {
     "name": "stdout",
     "output_type": "stream",
     "text": [
      "Epoch: 0, Loss: 306.9340\n",
      "Epoch: 1, Loss: 306.6482\n",
      "Epoch: 2, Loss: 306.0870\n",
      "Epoch: 3, Loss: 305.1746\n",
      "Epoch: 4, Loss: 303.8973\n",
      "Epoch: 4, Validation Loss: 485.8400, AUC Score: 0.2770\n",
      "Epoch: 5, Loss: 302.2466\n",
      "Epoch: 6, Loss: 300.2191\n",
      "Epoch: 7, Loss: 297.8155\n",
      "Epoch: 8, Loss: 295.0425\n",
      "Epoch: 9, Loss: 291.9121\n",
      "Epoch: 9, Validation Loss: 463.5100, AUC Score: 0.2770\n",
      "Epoch: 10, Loss: 288.4422\n",
      "Epoch: 11, Loss: 284.6567\n",
      "Epoch: 12, Loss: 280.5844\n",
      "Epoch: 13, Loss: 276.2569\n",
      "Epoch: 14, Loss: 271.7047\n",
      "Epoch: 14, Validation Loss: 428.7989, AUC Score: 0.2770\n",
      "Epoch: 15, Loss: 266.9522\n",
      "Epoch: 16, Loss: 262.0192\n",
      "Epoch: 17, Loss: 256.9248\n",
      "Epoch: 18, Loss: 251.6898\n",
      "Epoch: 19, Loss: 246.3372\n",
      "Epoch: 19, Validation Loss: 386.8767, AUC Score: 0.2770\n",
      "Epoch: 20, Loss: 240.8943\n",
      "Epoch: 21, Loss: 235.3936\n",
      "Epoch: 22, Loss: 229.8709\n",
      "Epoch: 23, Loss: 224.3651\n",
      "Epoch: 24, Loss: 218.9169\n",
      "Epoch: 24, Validation Loss: 343.1258, AUC Score: 0.2770\n",
      "Epoch: 25, Loss: 213.5663\n",
      "Epoch: 26, Loss: 208.3501\n",
      "Epoch: 27, Loss: 203.3001\n",
      "Epoch: 28, Loss: 198.4430\n",
      "Epoch: 29, Loss: 193.8005\n",
      "Epoch: 29, Validation Loss: 304.6068, AUC Score: 0.2770\n",
      "Epoch: 30, Loss: 189.3896\n",
      "Epoch: 31, Loss: 185.2224\n",
      "Epoch: 32, Loss: 181.3062\n",
      "Epoch: 33, Loss: 177.6435\n",
      "Epoch: 34, Loss: 174.2330\n",
      "Epoch: 34, Validation Loss: 275.5728, AUC Score: 0.2770\n",
      "Epoch: 35, Loss: 171.0686\n",
      "Epoch: 36, Loss: 168.1408\n",
      "Epoch: 37, Loss: 165.4365\n",
      "Epoch: 38, Loss: 162.9409\n",
      "Epoch: 39, Loss: 160.6381\n",
      "Epoch: 39, Validation Loss: 255.7964, AUC Score: 0.3120\n",
      "Epoch: 40, Loss: 158.5121\n",
      "Epoch: 41, Loss: 156.5484\n",
      "Epoch: 42, Loss: 154.7340\n",
      "Epoch: 43, Loss: 153.0587\n",
      "Epoch: 44, Loss: 151.5149\n",
      "Epoch: 44, Validation Loss: 242.6521, AUC Score: 0.7103\n",
      "Epoch: 45, Loss: 150.0975\n",
      "Epoch: 46, Loss: 148.8029\n",
      "Epoch: 47, Loss: 147.6269\n",
      "Epoch: 48, Loss: 146.5634\n",
      "Epoch: 49, Loss: 145.6050\n",
      "Epoch: 49, Validation Loss: 234.3825, AUC Score: 0.7188\n",
      "Epoch: 50, Loss: 144.7436\n",
      "Epoch: 51, Loss: 143.9705\n",
      "Epoch: 52, Loss: 143.2767\n",
      "Epoch: 53, Loss: 142.6531\n",
      "Epoch: 54, Loss: 142.0912\n",
      "Epoch: 54, Validation Loss: 229.5292, AUC Score: 0.7197\n",
      "Epoch: 55, Loss: 141.5830\n",
      "Epoch: 56, Loss: 141.1220\n",
      "Epoch: 57, Loss: 140.7024\n",
      "Epoch: 58, Loss: 140.3198\n",
      "Epoch: 59, Loss: 139.9700\n",
      "Epoch: 59, Validation Loss: 226.5448, AUC Score: 0.7202\n",
      "Epoch: 60, Loss: 139.6496\n",
      "Epoch: 61, Loss: 139.3553\n",
      "Epoch: 62, Loss: 139.0840\n",
      "Epoch: 63, Loss: 138.8328\n",
      "Epoch: 64, Loss: 138.5993\n",
      "Epoch: 64, Validation Loss: 224.5802, AUC Score: 0.7204\n",
      "Epoch: 65, Loss: 138.3810\n",
      "Epoch: 66, Loss: 138.1761\n",
      "Epoch: 67, Loss: 137.9827\n",
      "Epoch: 68, Loss: 137.7995\n",
      "Epoch: 69, Loss: 137.6250\n",
      "Epoch: 69, Validation Loss: 223.1600, AUC Score: 0.7206\n",
      "Epoch: 70, Loss: 137.4584\n",
      "Epoch: 71, Loss: 137.2985\n",
      "Epoch: 72, Loss: 137.1447\n",
      "Epoch: 73, Loss: 136.9962\n",
      "Epoch: 74, Loss: 136.8524\n",
      "Epoch: 74, Validation Loss: 222.0217, AUC Score: 0.7207\n",
      "Epoch: 75, Loss: 136.7127\n",
      "Epoch: 76, Loss: 136.5766\n",
      "Epoch: 77, Loss: 136.4436\n",
      "Epoch: 78, Loss: 136.3132\n",
      "Epoch: 79, Loss: 136.1850\n",
      "Epoch: 79, Validation Loss: 221.0265, AUC Score: 0.7207\n",
      "Epoch: 80, Loss: 136.0586\n",
      "Epoch: 81, Loss: 135.9337\n",
      "Epoch: 82, Loss: 135.8100\n",
      "Epoch: 83, Loss: 135.6871\n",
      "Epoch: 84, Loss: 135.5648\n",
      "Epoch: 84, Validation Loss: 220.0901, AUC Score: 0.7207\n",
      "Epoch: 85, Loss: 135.4428\n",
      "Epoch: 86, Loss: 135.3207\n",
      "Epoch: 87, Loss: 135.1982\n",
      "Epoch: 88, Loss: 135.0749\n",
      "Epoch: 89, Loss: 134.9506\n",
      "Epoch: 89, Validation Loss: 219.1566, AUC Score: 0.7210\n",
      "Epoch: 90, Loss: 134.8249\n",
      "Epoch: 91, Loss: 134.6976\n",
      "Epoch: 92, Loss: 134.5686\n",
      "Epoch: 93, Loss: 134.4381\n",
      "Epoch: 94, Loss: 134.3061\n",
      "Epoch: 94, Validation Loss: 218.1864, AUC Score: 0.7213\n",
      "Epoch: 95, Loss: 134.1730\n",
      "Epoch: 96, Loss: 134.0392\n",
      "Epoch: 97, Loss: 133.9051\n",
      "Epoch: 98, Loss: 133.7711\n",
      "Epoch: 99, Loss: 133.6374\n",
      "Epoch: 99, Validation Loss: 217.2080, AUC Score: 0.7217\n",
      "Epoch: 100, Loss: 133.5044\n",
      "Epoch: 101, Loss: 133.3719\n",
      "Epoch: 102, Loss: 133.2400\n",
      "Epoch: 103, Loss: 133.1086\n",
      "Epoch: 104, Loss: 132.9774\n",
      "Epoch: 104, Validation Loss: 216.2498, AUC Score: 0.7221\n",
      "Epoch: 105, Loss: 132.8464\n",
      "Epoch: 106, Loss: 132.7155\n",
      "Epoch: 107, Loss: 132.5848\n",
      "Epoch: 108, Loss: 132.4545\n",
      "Epoch: 109, Loss: 132.3249\n",
      "Epoch: 109, Validation Loss: 215.2908, AUC Score: 0.7223\n",
      "Epoch: 110, Loss: 132.1962\n",
      "Epoch: 111, Loss: 132.0689\n",
      "Epoch: 112, Loss: 131.9431\n",
      "Epoch: 113, Loss: 131.8189\n",
      "Epoch: 114, Loss: 131.6964\n",
      "Epoch: 114, Validation Loss: 214.3736, AUC Score: 0.7225\n",
      "Epoch: 115, Loss: 131.5755\n",
      "Epoch: 116, Loss: 131.4563\n",
      "Epoch: 117, Loss: 131.3387\n",
      "Epoch: 118, Loss: 131.2228\n",
      "Epoch: 119, Loss: 131.1086\n",
      "Epoch: 119, Validation Loss: 213.5344, AUC Score: 0.7226\n",
      "Epoch: 120, Loss: 130.9964\n",
      "Epoch: 121, Loss: 130.8863\n",
      "Epoch: 122, Loss: 130.7785\n",
      "Epoch: 123, Loss: 130.6731\n",
      "Epoch: 124, Loss: 130.5703\n",
      "Epoch: 124, Validation Loss: 212.7850, AUC Score: 0.7227\n",
      "Epoch: 125, Loss: 130.4701\n",
      "Epoch: 126, Loss: 130.3725\n",
      "Epoch: 127, Loss: 130.2776\n",
      "Epoch: 128, Loss: 130.1855\n",
      "Epoch: 129, Loss: 130.0961\n",
      "Epoch: 129, Validation Loss: 212.1283, AUC Score: 0.7227\n",
      "Epoch: 130, Loss: 130.0096\n",
      "Epoch: 131, Loss: 129.9260\n",
      "Epoch: 132, Loss: 129.8454\n",
      "Epoch: 133, Loss: 129.7677\n",
      "Epoch: 134, Loss: 129.6930\n",
      "Epoch: 134, Validation Loss: 211.5734, AUC Score: 0.7228\n",
      "Epoch: 135, Loss: 129.6212\n",
      "Epoch: 136, Loss: 129.5523\n",
      "Epoch: 137, Loss: 129.4863\n",
      "Epoch: 138, Loss: 129.4231\n",
      "Epoch: 139, Loss: 129.3626\n",
      "Epoch: 139, Validation Loss: 211.1280, AUC Score: 0.7228\n",
      "Epoch: 140, Loss: 129.3048\n",
      "Epoch: 141, Loss: 129.2496\n",
      "Epoch: 142, Loss: 129.1971\n",
      "Epoch: 143, Loss: 129.1470\n",
      "Epoch: 144, Loss: 129.0995\n",
      "Epoch: 144, Validation Loss: 210.7804, AUC Score: 0.7228\n",
      "Epoch: 145, Loss: 129.0543\n",
      "Epoch: 146, Loss: 129.0114\n",
      "Epoch: 147, Loss: 128.9706\n",
      "Epoch: 148, Loss: 128.9320\n",
      "Epoch: 149, Loss: 128.8954\n",
      "Epoch: 149, Validation Loss: 210.5113, AUC Score: 0.7228\n",
      "Epoch: 150, Loss: 128.8607\n",
      "Epoch: 151, Loss: 128.8279\n",
      "Epoch: 152, Loss: 128.7968\n",
      "Epoch: 153, Loss: 128.7673\n",
      "Epoch: 154, Loss: 128.7394\n",
      "Epoch: 154, Validation Loss: 210.3045, AUC Score: 0.7228\n",
      "Epoch: 155, Loss: 128.7129\n",
      "Epoch: 156, Loss: 128.6878\n",
      "Epoch: 157, Loss: 128.6639\n",
      "Epoch: 158, Loss: 128.6413\n",
      "Epoch: 159, Loss: 128.6198\n",
      "Epoch: 159, Validation Loss: 210.1460, AUC Score: 0.7228\n",
      "Epoch: 160, Loss: 128.5993\n",
      "Epoch: 161, Loss: 128.5798\n",
      "Epoch: 162, Loss: 128.5612\n",
      "Epoch: 163, Loss: 128.5435\n",
      "Epoch: 164, Loss: 128.5266\n",
      "Epoch: 164, Validation Loss: 210.0220, AUC Score: 0.7228\n",
      "Epoch: 165, Loss: 128.5104\n",
      "Epoch: 166, Loss: 128.4950\n",
      "Epoch: 167, Loss: 128.4802\n",
      "Epoch: 168, Loss: 128.4660\n",
      "Epoch: 169, Loss: 128.4525\n",
      "Epoch: 169, Validation Loss: 209.9216, AUC Score: 0.7228\n",
      "Epoch: 170, Loss: 128.4394\n",
      "Epoch: 171, Loss: 128.4270\n",
      "Epoch: 172, Loss: 128.4150\n",
      "Epoch: 173, Loss: 128.4035\n",
      "Epoch: 174, Loss: 128.3924\n",
      "Epoch: 174, Validation Loss: 209.8393, AUC Score: 0.7228\n",
      "Epoch: 175, Loss: 128.3818\n",
      "Epoch: 176, Loss: 128.3716\n",
      "Epoch: 177, Loss: 128.3618\n",
      "Epoch: 178, Loss: 128.3524\n",
      "Epoch: 179, Loss: 128.3434\n",
      "Epoch: 179, Validation Loss: 209.7724, AUC Score: 0.7228\n",
      "Epoch: 180, Loss: 128.3347\n",
      "Epoch: 181, Loss: 128.3263\n",
      "Epoch: 182, Loss: 128.3183\n",
      "Epoch: 183, Loss: 128.3106\n",
      "Epoch: 184, Loss: 128.3032\n",
      "Epoch: 184, Validation Loss: 209.7181, AUC Score: 0.7228\n",
      "Epoch: 185, Loss: 128.2961\n",
      "Epoch: 186, Loss: 128.2892\n",
      "Epoch: 187, Loss: 128.2827\n",
      "Epoch: 188, Loss: 128.2764\n",
      "Epoch: 189, Loss: 128.2704\n",
      "Epoch: 189, Validation Loss: 209.6740, AUC Score: 0.7228\n",
      "Epoch: 190, Loss: 128.2646\n",
      "Epoch: 191, Loss: 128.2591\n",
      "Epoch: 192, Loss: 128.2538\n",
      "Epoch: 193, Loss: 128.2487\n",
      "Epoch: 194, Loss: 128.2438\n",
      "Epoch: 194, Validation Loss: 209.6386, AUC Score: 0.7228\n",
      "Early stopping at epoch 194\n",
      "Best Score: 0.7228\n"
     ]
    }
   ],
   "source": [
    "# number of features and layers\n",
    "n_features = 2\n",
    "n_layers = 3\n",
    "\n",
    "# Random weight initialization\n",
    "weights = 0.01 * np.random.randn(n_layers, n_features, 3, requires_grad=True)\n",
    "\n",
    "# We create a quantum device with n_features \"wires\" (or qubits)\n",
    "dev = qml.device('default.qubit', wires=n_features)\n",
    "\n",
    "# train the model\n",
    "best_score, best_weights = train(n_features,n_layers,x_train,y_train,0.01, weights, 1000)"
   ]
  },
  {
   "cell_type": "code",
   "execution_count": 16,
   "metadata": {},
   "outputs": [
    {
     "name": "stdout",
     "output_type": "stream",
     "text": [
      "0.8025338672557663\n"
     ]
    }
   ],
   "source": [
    "# test the model\n",
    "auc_score = test(n_features, n_layers,x_test,y_test,w_test, best_weights)\n",
    "print (auc_score)"
   ]
  }
 ],
 "metadata": {
  "kernelspec": {
   "display_name": "base",
   "language": "python",
   "name": "python3"
  },
  "language_info": {
   "codemirror_mode": {
    "name": "ipython",
    "version": 3
   },
   "file_extension": ".py",
   "mimetype": "text/x-python",
   "name": "python",
   "nbconvert_exporter": "python",
   "pygments_lexer": "ipython3",
   "version": "3.9.17"
  },
  "orig_nbformat": 4
 },
 "nbformat": 4,
 "nbformat_minor": 2
}
