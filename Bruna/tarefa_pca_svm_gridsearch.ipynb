{
 "cells": [
  {
   "attachments": {},
   "cell_type": "markdown",
   "metadata": {},
   "source": [
    "# Projeto"
   ]
  },
  {
   "cell_type": "code",
   "execution_count": 1,
   "metadata": {},
   "outputs": [],
   "source": [
    "#imports\n",
    "import pandas as pd\n",
    "import numpy as np\n",
    "import matplotlib.pyplot as plt\n",
    "import math\n",
    "from sklearn import svm\n",
    "from sklearn.metrics import accuracy_score\n",
    "from sklearn.metrics import roc_auc_score\n",
    "from sklearn.metrics import roc_curve\n",
    "import pennylane as qml\n",
    "from pennylane import numpy as np\n",
    "from pennylane.optimize import NesterovMomentumOptimizer\n",
    "from pennylane.optimize import AdamOptimizer\n",
    "import pennylane as qml\n",
    "from pennylane import numpy as np\n",
    "from pennylane.templates.embeddings import AngleEmbedding\n",
    "from tqdm.notebook import tqdm, trange\n",
    "from sklearn.model_selection import GridSearchCV\n",
    "from sklearn.decomposition import PCA"
   ]
  },
  {
   "cell_type": "code",
   "execution_count": 2,
   "metadata": {},
   "outputs": [
    {
     "name": "stdout",
     "output_type": "stream",
     "text": [
      "Number of rows: 90548\n"
     ]
    },
    {
     "data": {
      "text/html": [
       "<div>\n",
       "<style scoped>\n",
       "    .dataframe tbody tr th:only-of-type {\n",
       "        vertical-align: middle;\n",
       "    }\n",
       "\n",
       "    .dataframe tbody tr th {\n",
       "        vertical-align: top;\n",
       "    }\n",
       "\n",
       "    .dataframe thead th {\n",
       "        text-align: right;\n",
       "    }\n",
       "</style>\n",
       "<table border=\"1\" class=\"dataframe\">\n",
       "  <thead>\n",
       "    <tr style=\"text-align: right;\">\n",
       "      <th></th>\n",
       "      <th>Electron_Multi</th>\n",
       "      <th>FatJet1_Eta</th>\n",
       "      <th>FatJet1_Mass</th>\n",
       "      <th>FatJet1_PT</th>\n",
       "      <th>FatJet1_Phi</th>\n",
       "      <th>FatJet1_Tau1</th>\n",
       "      <th>FatJet1_Tau2</th>\n",
       "      <th>FatJet1_Tau3</th>\n",
       "      <th>FatJet1_Tau4</th>\n",
       "      <th>FatJet1_Tau5</th>\n",
       "      <th>...</th>\n",
       "      <th>gen_decay2</th>\n",
       "      <th>gen_decay_filter</th>\n",
       "      <th>gen_filter</th>\n",
       "      <th>gen_label</th>\n",
       "      <th>gen_n_btags</th>\n",
       "      <th>gen_sample</th>\n",
       "      <th>gen_sample_filter</th>\n",
       "      <th>gen_split</th>\n",
       "      <th>gen_weights</th>\n",
       "      <th>gen_xsec</th>\n",
       "    </tr>\n",
       "  </thead>\n",
       "  <tbody>\n",
       "    <tr>\n",
       "      <th>0</th>\n",
       "      <td>2</td>\n",
       "      <td>1.408853</td>\n",
       "      <td>15.150869</td>\n",
       "      <td>339.182312</td>\n",
       "      <td>2.350262</td>\n",
       "      <td>1.396943</td>\n",
       "      <td>0.710451</td>\n",
       "      <td>0.109013</td>\n",
       "      <td>0.000000</td>\n",
       "      <td>0.000000</td>\n",
       "      <td>...</td>\n",
       "      <td>0</td>\n",
       "      <td>None</td>\n",
       "      <td>PyDelphes</td>\n",
       "      <td>signal</td>\n",
       "      <td>1</td>\n",
       "      <td>tZFCNC</td>\n",
       "      <td>tZFCNC_PyDelphes</td>\n",
       "      <td>test</td>\n",
       "      <td>7.762202e-09</td>\n",
       "      <td>0.001285</td>\n",
       "    </tr>\n",
       "    <tr>\n",
       "      <th>1</th>\n",
       "      <td>1</td>\n",
       "      <td>-2.481838</td>\n",
       "      <td>7.208333</td>\n",
       "      <td>247.036240</td>\n",
       "      <td>-2.280740</td>\n",
       "      <td>0.428710</td>\n",
       "      <td>0.205213</td>\n",
       "      <td>0.000000</td>\n",
       "      <td>0.000000</td>\n",
       "      <td>0.000000</td>\n",
       "      <td>...</td>\n",
       "      <td>0</td>\n",
       "      <td>None</td>\n",
       "      <td>PyDelphes</td>\n",
       "      <td>signal</td>\n",
       "      <td>1</td>\n",
       "      <td>tZFCNC</td>\n",
       "      <td>tZFCNC_PyDelphes</td>\n",
       "      <td>val</td>\n",
       "      <td>7.762202e-09</td>\n",
       "      <td>0.001285</td>\n",
       "    </tr>\n",
       "    <tr>\n",
       "      <th>2</th>\n",
       "      <td>0</td>\n",
       "      <td>1.476267</td>\n",
       "      <td>94.220718</td>\n",
       "      <td>238.014694</td>\n",
       "      <td>-1.788097</td>\n",
       "      <td>94.256210</td>\n",
       "      <td>2.418446</td>\n",
       "      <td>1.585315</td>\n",
       "      <td>1.127324</td>\n",
       "      <td>0.431098</td>\n",
       "      <td>...</td>\n",
       "      <td>0</td>\n",
       "      <td>None</td>\n",
       "      <td>PyDelphes</td>\n",
       "      <td>signal</td>\n",
       "      <td>1</td>\n",
       "      <td>tZFCNC</td>\n",
       "      <td>tZFCNC_PyDelphes</td>\n",
       "      <td>train</td>\n",
       "      <td>7.762249e-09</td>\n",
       "      <td>0.001285</td>\n",
       "    </tr>\n",
       "    <tr>\n",
       "      <th>3</th>\n",
       "      <td>1</td>\n",
       "      <td>0.647480</td>\n",
       "      <td>13.459283</td>\n",
       "      <td>230.971832</td>\n",
       "      <td>-1.032663</td>\n",
       "      <td>1.227122</td>\n",
       "      <td>0.467150</td>\n",
       "      <td>0.164008</td>\n",
       "      <td>0.000000</td>\n",
       "      <td>0.000000</td>\n",
       "      <td>...</td>\n",
       "      <td>0</td>\n",
       "      <td>None</td>\n",
       "      <td>PyDelphes</td>\n",
       "      <td>signal</td>\n",
       "      <td>1</td>\n",
       "      <td>tZFCNC</td>\n",
       "      <td>tZFCNC_PyDelphes</td>\n",
       "      <td>train</td>\n",
       "      <td>7.762249e-09</td>\n",
       "      <td>0.001285</td>\n",
       "    </tr>\n",
       "    <tr>\n",
       "      <th>4</th>\n",
       "      <td>0</td>\n",
       "      <td>2.106436</td>\n",
       "      <td>97.490242</td>\n",
       "      <td>698.399902</td>\n",
       "      <td>-3.059983</td>\n",
       "      <td>36.555862</td>\n",
       "      <td>2.937936</td>\n",
       "      <td>1.799140</td>\n",
       "      <td>1.093004</td>\n",
       "      <td>0.589724</td>\n",
       "      <td>...</td>\n",
       "      <td>0</td>\n",
       "      <td>None</td>\n",
       "      <td>PyDelphes</td>\n",
       "      <td>signal</td>\n",
       "      <td>1</td>\n",
       "      <td>tZFCNC</td>\n",
       "      <td>tZFCNC_PyDelphes</td>\n",
       "      <td>train</td>\n",
       "      <td>7.762249e-09</td>\n",
       "      <td>0.001285</td>\n",
       "    </tr>\n",
       "  </tbody>\n",
       "</table>\n",
       "<p>5 rows × 83 columns</p>\n",
       "</div>"
      ],
      "text/plain": [
       "   Electron_Multi  FatJet1_Eta  FatJet1_Mass  FatJet1_PT  FatJet1_Phi  \\\n",
       "0               2     1.408853     15.150869  339.182312     2.350262   \n",
       "1               1    -2.481838      7.208333  247.036240    -2.280740   \n",
       "2               0     1.476267     94.220718  238.014694    -1.788097   \n",
       "3               1     0.647480     13.459283  230.971832    -1.032663   \n",
       "4               0     2.106436     97.490242  698.399902    -3.059983   \n",
       "\n",
       "   FatJet1_Tau1  FatJet1_Tau2  FatJet1_Tau3  FatJet1_Tau4  FatJet1_Tau5  ...  \\\n",
       "0      1.396943      0.710451      0.109013      0.000000      0.000000  ...   \n",
       "1      0.428710      0.205213      0.000000      0.000000      0.000000  ...   \n",
       "2     94.256210      2.418446      1.585315      1.127324      0.431098  ...   \n",
       "3      1.227122      0.467150      0.164008      0.000000      0.000000  ...   \n",
       "4     36.555862      2.937936      1.799140      1.093004      0.589724  ...   \n",
       "\n",
       "   gen_decay2  gen_decay_filter  gen_filter  gen_label  gen_n_btags  \\\n",
       "0           0              None   PyDelphes     signal            1   \n",
       "1           0              None   PyDelphes     signal            1   \n",
       "2           0              None   PyDelphes     signal            1   \n",
       "3           0              None   PyDelphes     signal            1   \n",
       "4           0              None   PyDelphes     signal            1   \n",
       "\n",
       "   gen_sample  gen_sample_filter  gen_split   gen_weights  gen_xsec  \n",
       "0      tZFCNC   tZFCNC_PyDelphes       test  7.762202e-09  0.001285  \n",
       "1      tZFCNC   tZFCNC_PyDelphes        val  7.762202e-09  0.001285  \n",
       "2      tZFCNC   tZFCNC_PyDelphes      train  7.762249e-09  0.001285  \n",
       "3      tZFCNC   tZFCNC_PyDelphes      train  7.762249e-09  0.001285  \n",
       "4      tZFCNC   tZFCNC_PyDelphes      train  7.762249e-09  0.001285  \n",
       "\n",
       "[5 rows x 83 columns]"
      ]
     },
     "execution_count": 2,
     "metadata": {},
     "output_type": "execute_result"
    }
   ],
   "source": [
    "\n",
    "# Read the HDF5 file using pandas\n",
    "data_frame_fcnc = pd.read_hdf('fcnc_pythia_sanitised_features.h5')\n",
    "\n",
    "# Get the number of rows\n",
    "num_rows = data_frame_fcnc.shape[0]\n",
    "\n",
    "print('Number of rows: {}'.format(num_rows))\n",
    "\n",
    "# Explore the data\n",
    "data_frame_fcnc.head()\n"
   ]
  },
  {
   "cell_type": "code",
   "execution_count": 3,
   "metadata": {},
   "outputs": [
    {
     "name": "stdout",
     "output_type": "stream",
     "text": [
      "Number of rows: 1002490\n"
     ]
    },
    {
     "data": {
      "text/html": [
       "<div>\n",
       "<style scoped>\n",
       "    .dataframe tbody tr th:only-of-type {\n",
       "        vertical-align: middle;\n",
       "    }\n",
       "\n",
       "    .dataframe tbody tr th {\n",
       "        vertical-align: top;\n",
       "    }\n",
       "\n",
       "    .dataframe thead th {\n",
       "        text-align: right;\n",
       "    }\n",
       "</style>\n",
       "<table border=\"1\" class=\"dataframe\">\n",
       "  <thead>\n",
       "    <tr style=\"text-align: right;\">\n",
       "      <th></th>\n",
       "      <th>Electron_Multi</th>\n",
       "      <th>FatJet1_Eta</th>\n",
       "      <th>FatJet1_Mass</th>\n",
       "      <th>FatJet1_PT</th>\n",
       "      <th>FatJet1_Phi</th>\n",
       "      <th>FatJet1_Tau1</th>\n",
       "      <th>FatJet1_Tau2</th>\n",
       "      <th>FatJet1_Tau3</th>\n",
       "      <th>FatJet1_Tau4</th>\n",
       "      <th>FatJet1_Tau5</th>\n",
       "      <th>...</th>\n",
       "      <th>gen_decay2</th>\n",
       "      <th>gen_decay_filter</th>\n",
       "      <th>gen_filter</th>\n",
       "      <th>gen_label</th>\n",
       "      <th>gen_n_btags</th>\n",
       "      <th>gen_sample</th>\n",
       "      <th>gen_sample_filter</th>\n",
       "      <th>gen_split</th>\n",
       "      <th>gen_weights</th>\n",
       "      <th>gen_xsec</th>\n",
       "    </tr>\n",
       "  </thead>\n",
       "  <tbody>\n",
       "    <tr>\n",
       "      <th>0</th>\n",
       "      <td>2</td>\n",
       "      <td>-1.988600</td>\n",
       "      <td>52.710262</td>\n",
       "      <td>229.350952</td>\n",
       "      <td>0.728242</td>\n",
       "      <td>36.148926</td>\n",
       "      <td>23.039709</td>\n",
       "      <td>16.949991</td>\n",
       "      <td>14.424411</td>\n",
       "      <td>12.000529</td>\n",
       "      <td>...</td>\n",
       "      <td>0</td>\n",
       "      <td>2L</td>\n",
       "      <td>HT250to500</td>\n",
       "      <td>bkg</td>\n",
       "      <td>1</td>\n",
       "      <td>Zjj</td>\n",
       "      <td>Zjj_HT250to500</td>\n",
       "      <td>train</td>\n",
       "      <td>0.000018</td>\n",
       "      <td>11.9635</td>\n",
       "    </tr>\n",
       "    <tr>\n",
       "      <th>1</th>\n",
       "      <td>0</td>\n",
       "      <td>0.528382</td>\n",
       "      <td>61.115589</td>\n",
       "      <td>315.538910</td>\n",
       "      <td>-0.863614</td>\n",
       "      <td>32.592808</td>\n",
       "      <td>22.366640</td>\n",
       "      <td>16.285843</td>\n",
       "      <td>13.938633</td>\n",
       "      <td>11.180016</td>\n",
       "      <td>...</td>\n",
       "      <td>0</td>\n",
       "      <td>2L</td>\n",
       "      <td>HT250to500</td>\n",
       "      <td>bkg</td>\n",
       "      <td>1</td>\n",
       "      <td>Zjj</td>\n",
       "      <td>Zjj_HT250to500</td>\n",
       "      <td>test</td>\n",
       "      <td>0.000018</td>\n",
       "      <td>11.9635</td>\n",
       "    </tr>\n",
       "    <tr>\n",
       "      <th>2</th>\n",
       "      <td>0</td>\n",
       "      <td>1.479911</td>\n",
       "      <td>98.012802</td>\n",
       "      <td>251.109573</td>\n",
       "      <td>-3.133624</td>\n",
       "      <td>90.252274</td>\n",
       "      <td>33.646885</td>\n",
       "      <td>30.612156</td>\n",
       "      <td>27.973904</td>\n",
       "      <td>23.729696</td>\n",
       "      <td>...</td>\n",
       "      <td>0</td>\n",
       "      <td>2L</td>\n",
       "      <td>HT250to500</td>\n",
       "      <td>bkg</td>\n",
       "      <td>1</td>\n",
       "      <td>Zjj</td>\n",
       "      <td>Zjj_HT250to500</td>\n",
       "      <td>val</td>\n",
       "      <td>0.000018</td>\n",
       "      <td>11.9635</td>\n",
       "    </tr>\n",
       "    <tr>\n",
       "      <th>3</th>\n",
       "      <td>2</td>\n",
       "      <td>0.926899</td>\n",
       "      <td>-0.000007</td>\n",
       "      <td>240.909348</td>\n",
       "      <td>0.835656</td>\n",
       "      <td>0.000000</td>\n",
       "      <td>0.000000</td>\n",
       "      <td>0.000000</td>\n",
       "      <td>0.000000</td>\n",
       "      <td>0.000000</td>\n",
       "      <td>...</td>\n",
       "      <td>0</td>\n",
       "      <td>2L</td>\n",
       "      <td>HT250to500</td>\n",
       "      <td>bkg</td>\n",
       "      <td>1</td>\n",
       "      <td>Zjj</td>\n",
       "      <td>Zjj_HT250to500</td>\n",
       "      <td>val</td>\n",
       "      <td>0.000018</td>\n",
       "      <td>11.9635</td>\n",
       "    </tr>\n",
       "    <tr>\n",
       "      <th>4</th>\n",
       "      <td>0</td>\n",
       "      <td>0.781194</td>\n",
       "      <td>72.234299</td>\n",
       "      <td>206.020386</td>\n",
       "      <td>-0.320449</td>\n",
       "      <td>48.886372</td>\n",
       "      <td>20.743645</td>\n",
       "      <td>16.572512</td>\n",
       "      <td>13.070706</td>\n",
       "      <td>11.269534</td>\n",
       "      <td>...</td>\n",
       "      <td>0</td>\n",
       "      <td>2L</td>\n",
       "      <td>HT250to500</td>\n",
       "      <td>bkg</td>\n",
       "      <td>1</td>\n",
       "      <td>Zjj</td>\n",
       "      <td>Zjj_HT250to500</td>\n",
       "      <td>val</td>\n",
       "      <td>0.000018</td>\n",
       "      <td>11.9635</td>\n",
       "    </tr>\n",
       "  </tbody>\n",
       "</table>\n",
       "<p>5 rows × 58 columns</p>\n",
       "</div>"
      ],
      "text/plain": [
       "   Electron_Multi  FatJet1_Eta  FatJet1_Mass  FatJet1_PT  FatJet1_Phi  \\\n",
       "0               2    -1.988600     52.710262  229.350952     0.728242   \n",
       "1               0     0.528382     61.115589  315.538910    -0.863614   \n",
       "2               0     1.479911     98.012802  251.109573    -3.133624   \n",
       "3               2     0.926899     -0.000007  240.909348     0.835656   \n",
       "4               0     0.781194     72.234299  206.020386    -0.320449   \n",
       "\n",
       "   FatJet1_Tau1  FatJet1_Tau2  FatJet1_Tau3  FatJet1_Tau4  FatJet1_Tau5  ...  \\\n",
       "0     36.148926     23.039709     16.949991     14.424411     12.000529  ...   \n",
       "1     32.592808     22.366640     16.285843     13.938633     11.180016  ...   \n",
       "2     90.252274     33.646885     30.612156     27.973904     23.729696  ...   \n",
       "3      0.000000      0.000000      0.000000      0.000000      0.000000  ...   \n",
       "4     48.886372     20.743645     16.572512     13.070706     11.269534  ...   \n",
       "\n",
       "   gen_decay2  gen_decay_filter  gen_filter  gen_label  gen_n_btags  \\\n",
       "0           0                2L  HT250to500        bkg            1   \n",
       "1           0                2L  HT250to500        bkg            1   \n",
       "2           0                2L  HT250to500        bkg            1   \n",
       "3           0                2L  HT250to500        bkg            1   \n",
       "4           0                2L  HT250to500        bkg            1   \n",
       "\n",
       "   gen_sample  gen_sample_filter  gen_split  gen_weights  gen_xsec  \n",
       "0         Zjj     Zjj_HT250to500      train     0.000018   11.9635  \n",
       "1         Zjj     Zjj_HT250to500       test     0.000018   11.9635  \n",
       "2         Zjj     Zjj_HT250to500        val     0.000018   11.9635  \n",
       "3         Zjj     Zjj_HT250to500        val     0.000018   11.9635  \n",
       "4         Zjj     Zjj_HT250to500        val     0.000018   11.9635  \n",
       "\n",
       "[5 rows x 58 columns]"
      ]
     },
     "execution_count": 3,
     "metadata": {},
     "output_type": "execute_result"
    }
   ],
   "source": [
    "# Read the HDF5 file using pandas\n",
    "data_frame_bkg = pd.read_hdf('bkg_pythia_sanitised_features.h5')\n",
    "\n",
    "# Get the number of rows\n",
    "num_rows = data_frame_bkg.shape[0]\n",
    "\n",
    "print('Number of rows: {}'.format(num_rows))\n",
    "\n",
    "# Explore the data\n",
    "data_frame_bkg.head()\n"
   ]
  },
  {
   "cell_type": "markdown",
   "metadata": {},
   "source": [
    "## PCA"
   ]
  },
  {
   "cell_type": "markdown",
   "metadata": {},
   "source": [
    "### 2 Features"
   ]
  },
  {
   "cell_type": "code",
   "execution_count": 4,
   "metadata": {},
   "outputs": [],
   "source": [
    "data_frame_fcnc_pca = data_frame_fcnc.copy()\n",
    "data_frame_bkg_pca = data_frame_bkg.copy()\n",
    "\n",
    "# Drop the categorical features except label, weights and gen_split\n",
    "data_frame_fcnc_pca.drop(['gen_decay_filter', 'gen_filter', 'gen_n_btags', 'gen_sample', 'gen_sample_filter','gen_decay2','gen_decay1'], axis=1, inplace=True)\n",
    "data_frame_bkg_pca.drop(['gen_decay_filter', 'gen_filter', 'gen_n_btags', 'gen_sample', 'gen_sample_filter','gen_decay2','gen_decay1'], axis=1, inplace=True)\n",
    "\n",
    "# Drop the features that are not in both dataframes\n",
    "for feature in data_frame_fcnc_pca.columns.values:\n",
    "    if feature not in data_frame_bkg_pca.columns.values:\n",
    "        data_frame_fcnc_pca.drop([feature], axis=1, inplace=True)\n",
    "\n",
    "for feature in data_frame_bkg_pca.columns.values:\n",
    "    if feature not in data_frame_fcnc_pca.columns.values:\n",
    "        data_frame_bkg_pca.drop([feature], axis=1, inplace=True)\n",
    "        \n",
    "# Join the dataframes\n",
    "data = pd.concat([data_frame_fcnc_pca, data_frame_bkg_pca])\n",
    "\n",
    "# Substitute the labels \"signal\" and \"bkg\" by 1 and 0\n",
    "data = data.replace(['signal'], 1)\n",
    "data= data.replace(['bkg'], 0)\n",
    "\n",
    "# train, test and validation sets\n",
    "train = data.loc[data['gen_split'] == 'train']\n",
    "test = data.loc[data['gen_split'] == 'test']\n",
    "val = data.loc[data['gen_split'] == 'val']\n"
   ]
  },
  {
   "cell_type": "code",
   "execution_count": 5,
   "metadata": {},
   "outputs": [
    {
     "name": "stdout",
     "output_type": "stream",
     "text": [
      "['Electron_Multi' 'FatJet1_Eta' 'FatJet1_Mass' 'FatJet1_PT' 'FatJet1_Phi'\n",
      " 'FatJet1_Tau1' 'FatJet1_Tau2' 'FatJet1_Tau3' 'FatJet1_Tau4'\n",
      " 'FatJet1_Tau5' 'FatJet_Multi' 'Jet1_BTag' 'Jet1_Eta' 'Jet1_Mass'\n",
      " 'Jet1_PT' 'Jet1_Phi' 'Jet2_BTag' 'Jet2_Eta' 'Jet2_Mass' 'Jet2_PT'\n",
      " 'Jet2_Phi' 'Jet3_BTag' 'Jet3_Eta' 'Jet3_Mass' 'Jet3_PT' 'Jet3_Phi'\n",
      " 'Jet4_BTag' 'Jet4_Eta' 'Jet4_Mass' 'Jet4_PT' 'Jet4_Phi' 'Jet5_BTag'\n",
      " 'Jet5_Eta' 'Jet5_Mass' 'Jet5_PT' 'Jet5_Phi' 'Jet_Multi' 'Lepton1_Eta'\n",
      " 'Lepton1_PT' 'Lepton1_Phi' 'Lepton2_Eta' 'Lepton2_PT' 'Lepton2_Phi'\n",
      " 'MissingET_MET' 'MissingET_Phi' 'Muon_Multi' 'ScalarHT_HT' 'gen_label'\n",
      " 'gen_split' 'gen_weights' 'gen_xsec']\n"
     ]
    }
   ],
   "source": [
    "print(data.columns.values)"
   ]
  },
  {
   "cell_type": "code",
   "execution_count": 6,
   "metadata": {},
   "outputs": [],
   "source": [
    "# which data will be used for fitting the PCA.\n",
    "# Everything except the weights, name and label\n",
    "DataFeatures = pd.Index(list(set(data.columns) - set([\"gen_label\", \"gen_xsec\", \"gen_split\"])))\n",
    "pca_n_features = 2\n",
    "\n",
    "def perform_PCA (DataFeatures, pca_n_features, train, data):\n",
    "\n",
    "    ## Fit PCA to train data & rank components by AUC\n",
    "    pca = PCA(n_components=len(DataFeatures))\n",
    "    pca.fit(train[DataFeatures])\n",
    "\n",
    "    ## Transform the desired dataset to get its principal components\n",
    "    # Get ranked components by AUC from the train data\n",
    "    principalComponents = pca.transform(train[DataFeatures])\n",
    "\n",
    "    # Book will be a dictiorary with the AUC (values) of each component (keys)\n",
    "    book = {}\n",
    "\n",
    "    # Get values for AUC computation\n",
    "    y_true = train['gen_label'].values\n",
    "    weights = train[\"gen_xsec\"].values\n",
    "\n",
    "    # Renormalise weights\n",
    "    weights[y_true == 1] = (weights[y_true == 1] / weights[y_true == 1].sum()) * weights.shape[0] / 2\n",
    "    weights[y_true == 0] = (weights[y_true == 0] / weights[y_true == 0].sum()) * weights.shape[0] / 2\n",
    "\n",
    "    for feature_idx in range(principalComponents.shape[1]):\n",
    "        book[f\"Component {feature_idx}\"] = roc_auc_score(y_true=y_true, y_score=principalComponents[:, feature_idx], sample_weight=weights)\n",
    "\n",
    "    # Give me the best features\n",
    "    book = pd.DataFrame.from_dict(book, orient=\"index\")\n",
    "    book.columns = [\"AUC\"]\n",
    "    book.sort_values(by=\"AUC\", ascending=False, inplace=True)\n",
    "    book.reset_index(inplace=True)\n",
    "    book.rename(columns={\"index\": \"Feature\"}, inplace=True)\n",
    "\n",
    "    ## Replace current data by its components ##\n",
    "    # Get components for the current set we want\n",
    "    principalComponents = pca.transform(data[DataFeatures])\n",
    "\n",
    "    # Create a new dataframe with PCA data\n",
    "    newdf = pd.DataFrame(principalComponents, columns=[f\"Component {i}\" for i in range(principalComponents.shape[1])])\n",
    "\n",
    "    # Select the best components given their AUC performance in training data\n",
    "    newdf = newdf[book[\"Feature\"][0 : pca_n_features]]\n",
    "\n",
    "    # Add the other relevant features\n",
    "    newdf[\"gen_xsec\"] = data[\"gen_xsec\"].values\n",
    "    newdf[\"gen_label\"] = data[\"gen_label\"].values\n",
    "    newdf[\"gen_split\"] = data[\"gen_split\"].values\n",
    "\n",
    "    # Finally, replace self.data with newdf\n",
    "    data = newdf\n",
    "\n",
    "    # Update DataFeatures\n",
    "    DataFeatures = pd.Index(list(set(data.columns) - set([\"gen_label\", \"gen_xsec\", \"gen_split\"])))\n",
    "    \n",
    "    return data, DataFeatures, book\n"
   ]
  },
  {
   "cell_type": "code",
   "execution_count": 7,
   "metadata": {},
   "outputs": [],
   "source": [
    "### perform PCA on the train data\n",
    "data, DataFeatures, book = perform_PCA (DataFeatures, pca_n_features, train, data)"
   ]
  },
  {
   "cell_type": "code",
   "execution_count": 8,
   "metadata": {},
   "outputs": [
    {
     "name": "stdout",
     "output_type": "stream",
     "text": [
      "         Feature       AUC\n",
      "0    Component 1  0.775146\n",
      "1    Component 3  0.715941\n",
      "2    Component 0  0.687727\n",
      "3   Component 14  0.630145\n",
      "4   Component 36  0.605685\n",
      "5   Component 41  0.596724\n",
      "6    Component 6  0.570540\n",
      "7    Component 4  0.556490\n",
      "8   Component 38  0.537973\n",
      "9   Component 45  0.534386\n",
      "10   Component 7  0.516444\n",
      "11  Component 20  0.507134\n",
      "12  Component 31  0.504426\n",
      "13  Component 24  0.504415\n",
      "14  Component 17  0.504408\n",
      "15  Component 32  0.503685\n",
      "16  Component 37  0.503436\n",
      "17  Component 23  0.503101\n",
      "18  Component 21  0.502556\n",
      "19  Component 22  0.502165\n",
      "20  Component 28  0.501944\n",
      "21  Component 19  0.501000\n",
      "22  Component 39  0.499701\n",
      "23   Component 8  0.499632\n",
      "24  Component 34  0.499389\n",
      "25  Component 26  0.499241\n",
      "26  Component 18  0.497846\n",
      "27  Component 16  0.497146\n",
      "28  Component 25  0.497129\n",
      "29  Component 35  0.495980\n",
      "30  Component 29  0.495669\n",
      "31  Component 33  0.492140\n",
      "32  Component 42  0.485668\n",
      "33  Component 15  0.484882\n",
      "34  Component 30  0.483164\n",
      "35  Component 44  0.480199\n",
      "36  Component 27  0.478394\n",
      "37  Component 13  0.461945\n",
      "38   Component 9  0.461461\n",
      "39  Component 40  0.450178\n",
      "40  Component 46  0.448464\n",
      "41  Component 43  0.446445\n",
      "42  Component 10  0.445621\n",
      "43  Component 12  0.445331\n",
      "44   Component 5  0.439167\n",
      "45  Component 11  0.414016\n",
      "46   Component 2  0.353481\n",
      "47  Component 47  0.072305\n"
     ]
    }
   ],
   "source": [
    "print (book)"
   ]
  },
  {
   "cell_type": "code",
   "execution_count": 9,
   "metadata": {},
   "outputs": [
    {
     "name": "stdout",
     "output_type": "stream",
     "text": [
      "         Component 1  Component 3  gen_xsec  gen_label gen_split\n",
      "0         223.756164    79.522846  0.001285          1      test\n",
      "1          59.754944   -85.367973  0.001285          1       val\n",
      "2          81.103303   -23.975222  0.001285          1     train\n",
      "3         135.995448   -19.004199  0.001285          1     train\n",
      "4         332.762183    96.144389  0.001285          1     train\n",
      "...              ...          ...       ...        ...       ...\n",
      "1093033   -85.532615   -23.609642  3.181214          0      test\n",
      "1093034   -11.067453   186.076860  3.181214          0     train\n",
      "1093035   107.619697   217.027728  3.181214          0     train\n",
      "1093036   177.072743   -23.538135  3.181214          0       val\n",
      "1093037    21.303249   238.575669  3.181214          0     train\n",
      "\n",
      "[1093038 rows x 5 columns]\n"
     ]
    }
   ],
   "source": [
    "print (data)"
   ]
  },
  {
   "cell_type": "markdown",
   "metadata": {},
   "source": [
    "#### SVMs"
   ]
  },
  {
   "cell_type": "code",
   "execution_count": 10,
   "metadata": {},
   "outputs": [],
   "source": [
    "#normalize the data except the categorical features and the weights\n",
    "data [DataFeatures] = (data [DataFeatures] - data [DataFeatures].mean()) / data [DataFeatures].std()\n",
    "\n",
    "# divide the new data into train, test and validation sets\n",
    "train = data.loc[data['gen_split'] == 'train']\n",
    "test = data.loc[data['gen_split'] == 'test']\n",
    "val = data.loc[data['gen_split'] == 'val']\n",
    "\n",
    "# divide the train data into signal and background and get 500 samples of each\n",
    "train_sgn = train.loc[train['gen_label'] == 1].sample(n=500, random_state=42)\n",
    "train_bkg = train.loc[train['gen_label'] == 0].sample(n=500,random_state=42)\n",
    "x_train = pd.concat([train_sgn, train_bkg])\n",
    "x_train = x_train.sample(frac=1, random_state=42)\n",
    "\n",
    "# divide the validation data into signal and background and get 500 samples of each\n",
    "val_sgn = val.loc[val['gen_label'] == 1].sample(n=500, random_state=42)\n",
    "val_bkg = val.loc[val['gen_label'] == 0].sample(n=500, random_state=42)\n",
    "x_val = pd.concat([val_sgn, val_bkg])\n",
    "x_val = x_val.sample(frac=1, random_state=42)\n",
    "\n",
    "# divide the test data into signal and background and get 500 samples of each\n",
    "test_sgn = test.loc[test['gen_label'] == 1].sample(n=500, random_state=42)\n",
    "test_bkg = test.loc[test['gen_label'] == 0].sample(n=500, random_state=42)\n",
    "x_test = pd.concat([test_sgn, test_bkg])\n",
    "x_test = x_test.sample(frac=1, random_state=42)\n",
    "\n",
    "# get an array with the labels for each set\n",
    "y_train = x_train['gen_label'].values\n",
    "y_val = x_val['gen_label'].values\n",
    "y_test = x_test['gen_label'].values\n",
    "\n",
    "# get an array with the weights for each set\n",
    "w_train = x_train[\"gen_xsec\"].values\n",
    "w_val = x_val[\"gen_xsec\"].values\n",
    "w_test = x_test[\"gen_xsec\"].values\n",
    "\n",
    "# get an array with the features for each set\n",
    "x_train = x_train[DataFeatures].values\n",
    "x_val = x_val[DataFeatures].values\n",
    "x_test = x_test[DataFeatures].values\n"
   ]
  },
  {
   "cell_type": "code",
   "execution_count": 11,
   "metadata": {},
   "outputs": [
    {
     "name": "stdout",
     "output_type": "stream",
     "text": [
      "       Component 1  Component 3  gen_xsec  gen_label gen_split\n",
      "66255     0.826078     1.309718  0.001285          1      test\n",
      "8525     -0.120551    -1.276881  0.001285          1      test\n",
      "40769     1.553261     0.007239  0.001285          1      test\n",
      "82779     1.076660     1.562491  0.001285          1      test\n",
      "1786      0.720303     0.886022  0.001285          1      test\n",
      "...            ...          ...       ...        ...       ...\n",
      "78767     0.706074     0.248458  0.001285          1      test\n",
      "30348     0.081264    -0.973303  0.001285          1      test\n",
      "27620    -0.269972    -0.006718  0.001285          1      test\n",
      "82368    -0.777682     0.455836  0.001285          1      test\n",
      "37585     1.200604     1.473057  0.001285          1      test\n",
      "\n",
      "[500 rows x 5 columns]\n"
     ]
    }
   ],
   "source": [
    "print(test_sgn)"
   ]
  },
  {
   "cell_type": "markdown",
   "metadata": {},
   "source": [
    "##### Train"
   ]
  },
  {
   "cell_type": "code",
   "execution_count": 12,
   "metadata": {},
   "outputs": [
    {
     "data": {
      "text/html": [
       "<style>#sk-container-id-1 {color: black;}#sk-container-id-1 pre{padding: 0;}#sk-container-id-1 div.sk-toggleable {background-color: white;}#sk-container-id-1 label.sk-toggleable__label {cursor: pointer;display: block;width: 100%;margin-bottom: 0;padding: 0.3em;box-sizing: border-box;text-align: center;}#sk-container-id-1 label.sk-toggleable__label-arrow:before {content: \"▸\";float: left;margin-right: 0.25em;color: #696969;}#sk-container-id-1 label.sk-toggleable__label-arrow:hover:before {color: black;}#sk-container-id-1 div.sk-estimator:hover label.sk-toggleable__label-arrow:before {color: black;}#sk-container-id-1 div.sk-toggleable__content {max-height: 0;max-width: 0;overflow: hidden;text-align: left;background-color: #f0f8ff;}#sk-container-id-1 div.sk-toggleable__content pre {margin: 0.2em;color: black;border-radius: 0.25em;background-color: #f0f8ff;}#sk-container-id-1 input.sk-toggleable__control:checked~div.sk-toggleable__content {max-height: 200px;max-width: 100%;overflow: auto;}#sk-container-id-1 input.sk-toggleable__control:checked~label.sk-toggleable__label-arrow:before {content: \"▾\";}#sk-container-id-1 div.sk-estimator input.sk-toggleable__control:checked~label.sk-toggleable__label {background-color: #d4ebff;}#sk-container-id-1 div.sk-label input.sk-toggleable__control:checked~label.sk-toggleable__label {background-color: #d4ebff;}#sk-container-id-1 input.sk-hidden--visually {border: 0;clip: rect(1px 1px 1px 1px);clip: rect(1px, 1px, 1px, 1px);height: 1px;margin: -1px;overflow: hidden;padding: 0;position: absolute;width: 1px;}#sk-container-id-1 div.sk-estimator {font-family: monospace;background-color: #f0f8ff;border: 1px dotted black;border-radius: 0.25em;box-sizing: border-box;margin-bottom: 0.5em;}#sk-container-id-1 div.sk-estimator:hover {background-color: #d4ebff;}#sk-container-id-1 div.sk-parallel-item::after {content: \"\";width: 100%;border-bottom: 1px solid gray;flex-grow: 1;}#sk-container-id-1 div.sk-label:hover label.sk-toggleable__label {background-color: #d4ebff;}#sk-container-id-1 div.sk-serial::before {content: \"\";position: absolute;border-left: 1px solid gray;box-sizing: border-box;top: 0;bottom: 0;left: 50%;z-index: 0;}#sk-container-id-1 div.sk-serial {display: flex;flex-direction: column;align-items: center;background-color: white;padding-right: 0.2em;padding-left: 0.2em;position: relative;}#sk-container-id-1 div.sk-item {position: relative;z-index: 1;}#sk-container-id-1 div.sk-parallel {display: flex;align-items: stretch;justify-content: center;background-color: white;position: relative;}#sk-container-id-1 div.sk-item::before, #sk-container-id-1 div.sk-parallel-item::before {content: \"\";position: absolute;border-left: 1px solid gray;box-sizing: border-box;top: 0;bottom: 0;left: 50%;z-index: -1;}#sk-container-id-1 div.sk-parallel-item {display: flex;flex-direction: column;z-index: 1;position: relative;background-color: white;}#sk-container-id-1 div.sk-parallel-item:first-child::after {align-self: flex-end;width: 50%;}#sk-container-id-1 div.sk-parallel-item:last-child::after {align-self: flex-start;width: 50%;}#sk-container-id-1 div.sk-parallel-item:only-child::after {width: 0;}#sk-container-id-1 div.sk-dashed-wrapped {border: 1px dashed gray;margin: 0 0.4em 0.5em 0.4em;box-sizing: border-box;padding-bottom: 0.4em;background-color: white;}#sk-container-id-1 div.sk-label label {font-family: monospace;font-weight: bold;display: inline-block;line-height: 1.2em;}#sk-container-id-1 div.sk-label-container {text-align: center;}#sk-container-id-1 div.sk-container {/* jupyter's `normalize.less` sets `[hidden] { display: none; }` but bootstrap.min.css set `[hidden] { display: none !important; }` so we also need the `!important` here to be able to override the default hidden behavior on the sphinx rendered scikit-learn.org. See: https://github.com/scikit-learn/scikit-learn/issues/21755 */display: inline-block !important;position: relative;}#sk-container-id-1 div.sk-text-repr-fallback {display: none;}</style><div id=\"sk-container-id-1\" class=\"sk-top-container\"><div class=\"sk-text-repr-fallback\"><pre>SVC(probability=True)</pre><b>In a Jupyter environment, please rerun this cell to show the HTML representation or trust the notebook. <br />On GitHub, the HTML representation is unable to render, please try loading this page with nbviewer.org.</b></div><div class=\"sk-container\" hidden><div class=\"sk-item\"><div class=\"sk-estimator sk-toggleable\"><input class=\"sk-toggleable__control sk-hidden--visually\" id=\"sk-estimator-id-1\" type=\"checkbox\" checked><label for=\"sk-estimator-id-1\" class=\"sk-toggleable__label sk-toggleable__label-arrow\">SVC</label><div class=\"sk-toggleable__content\"><pre>SVC(probability=True)</pre></div></div></div></div></div>"
      ],
      "text/plain": [
       "SVC(probability=True)"
      ]
     },
     "execution_count": 12,
     "metadata": {},
     "output_type": "execute_result"
    }
   ],
   "source": [
    "# Renormalize weights\n",
    "w_train[y_train == 1] = (w_train[y_train == 1] / w_train[y_train == 1].sum()) * w_train.shape[0] / 2\n",
    "w_train[y_train == 0] = (w_train[y_train == 0] / w_train[y_train == 0].sum()) * w_train.shape[0] / 2\n",
    "\n",
    "# Train SMV\n",
    "clf = svm.SVC(kernel=\"rbf\", probability=True)   \n",
    "clf.fit(x_train, y_train,sample_weight=w_train)\n"
   ]
  },
  {
   "cell_type": "markdown",
   "metadata": {},
   "source": [
    "##### Validation"
   ]
  },
  {
   "cell_type": "code",
   "execution_count": 13,
   "metadata": {},
   "outputs": [
    {
     "name": "stdout",
     "output_type": "stream",
     "text": [
      "Accuracy: 0.6952914738500099\n",
      "ROC AUC Score: 0.7614547416122717\n"
     ]
    }
   ],
   "source": [
    "# Renormalize weights\n",
    "w_val[y_val == 1] = (w_val[y_val == 1] / w_val[y_val == 1].sum()) * w_val.shape[0] / 2\n",
    "w_val[y_val == 0] = (w_val[y_val == 0] / w_val[y_val == 0].sum()) * w_val.shape[0] / 2\n",
    "\n",
    "# Predict\n",
    "y_val_scores = clf.predict_proba(x_val)\n",
    "y_val_scores = y_val_scores[:, 1]\n",
    "y_val_pred = clf.predict(x_val)\n",
    "\n",
    "# Compute metrics\n",
    "accuracy = accuracy_score(y_val, y_val_pred,sample_weight=w_val)\n",
    "auc_score = roc_auc_score(y_val, y_val_scores,sample_weight=w_val)\n",
    "\n",
    "print(\"Accuracy:\", accuracy)\n",
    "print(\"ROC AUC Score:\", auc_score)"
   ]
  },
  {
   "cell_type": "markdown",
   "metadata": {},
   "source": [
    "##### Test"
   ]
  },
  {
   "cell_type": "code",
   "execution_count": 14,
   "metadata": {},
   "outputs": [
    {
     "name": "stdout",
     "output_type": "stream",
     "text": [
      "Accuracy: 0.7744352718425372\n",
      "ROC AUC Score: 0.8383255433590406\n"
     ]
    }
   ],
   "source": [
    "\n",
    "# Renormalize weights\n",
    "w_test[y_test == 1] = (w_test[y_test == 1] / w_test[y_test == 1].sum()) * w_test.shape[0] / 2\n",
    "w_test[y_test == 0] = (w_test[y_test == 0] / w_test[y_test == 0].sum()) * w_test.shape[0] / 2\n",
    "\n",
    "# Predict\n",
    "y_test_scores = clf.predict_proba(x_test)\n",
    "y_test_scores = y_test_scores[:, 1]\n",
    "y_pred = clf.predict(x_test)\n",
    "\n",
    "# Compute metrics\n",
    "accuracy = accuracy_score(y_test, y_pred, sample_weight=w_test)\n",
    "auc_score = roc_auc_score(y_test, y_test_scores, sample_weight=w_test)\n",
    "print(\"Accuracy:\", accuracy)\n",
    "print(\"ROC AUC Score:\", auc_score)"
   ]
  },
  {
   "cell_type": "code",
   "execution_count": 15,
   "metadata": {},
   "outputs": [
    {
     "name": "stderr",
     "output_type": "stream",
     "text": [
      "/tmp/ipykernel_1002323/1217247063.py:5: UserWarning: color is redundantly defined by the 'color' keyword argument and the fmt string \"k--\" (-> color='k'). The keyword argument will take precedence.\n",
      "  plt.plot([0, 1], [0, 1], 'k--', color='orange')\n"
     ]
    },
    {
     "data": {
      "image/png": "[encoded data removed]",
      "text/plain": [
       "<Figure size 640x480 with 1 Axes>"
      ]
     },
     "metadata": {},
     "output_type": "display_data"
    }
   ],
   "source": [
    "fpr, tpr, thresholds = roc_curve(y_test, y_test_scores, sample_weight=w_test)\n",
    "\n",
    "# Plot the ROC curve\n",
    "plt.plot(fpr, tpr)\n",
    "plt.plot([0, 1], [0, 1], 'k--', color='orange')  \n",
    "plt.xlabel('False Positive Rate')\n",
    "plt.ylabel('True Positive Rate')\n",
    "plt.title('Receiver Operating Characteristic (ROC) Curve')\n",
    "plt.show()"
   ]
  },
  {
   "cell_type": "code",
   "execution_count": 16,
   "metadata": {},
   "outputs": [
    {
     "name": "stdout",
     "output_type": "stream",
     "text": [
      "[1.00041576e+01 2.98720631e+01 2.45071521e+02 3.76992785e+01\n",
      " 2.73128415e+01 2.01755111e+01 2.88589641e+01 6.03736751e+00\n",
      " 1.33544826e+01 5.15801866e+00 1.17767781e+01 1.69704222e+01\n",
      " 3.14386545e+00 3.24821255e+00 2.16964532e+00 2.07359213e+00\n",
      " 9.56011853e+00 1.05162441e+01 1.14560208e-01 1.15742187e+00\n",
      " 1.39784946e-02 4.09788496e+00 9.72207439e-01 1.89314385e+00\n",
      " 1.32288391e+00 1.32856642e-01 2.07116229e+00 2.98748713e+00\n",
      " 1.11044296e+00 1.12288576e+00]\n",
      "[  0.608663    11.71823259   4.22793507 196.62213528  22.09351022\n",
      "  10.3026184    9.99626579   9.63353656   8.48856977  16.57636647\n",
      "   4.99943356   2.29477521   4.80519098   8.47583334   3.31575119\n",
      "   8.71800153   9.79383779  23.53893257   9.87137648  11.47395113\n",
      "   9.75326507   2.728844     3.50611602   0.73325118  11.83016011\n",
      "   4.54624672  22.15779054   6.35334285  45.59099714  15.24506946]\n"
     ]
    },
    {
     "data": {
      "image/png": "[encoded data removed]",
      "text/plain": [
       "<Figure size 640x480 with 1 Axes>"
      ]
     },
     "metadata": {},
     "output_type": "display_data"
    }
   ],
   "source": [
    "# Plot signal and background distributions for the predicted scores with normalized counts and log scale\n",
    "\n",
    "num_bins = 30  # Number of bins\n",
    "\n",
    "# Compute the range for the bins based on the minimum and maximum values of the data\n",
    "min_value = min(min(y_test_scores[y_test == 0]), min(y_test_scores[y_test == 1]))\n",
    "max_value = max(max(y_test_scores[y_test == 0]), max(y_test_scores[y_test == 1]))\n",
    "bin_range = (min_value, max_value)\n",
    "\n",
    "counts, bins, _ = plt.hist(y_test_scores[y_test == 0], bins=num_bins, range=bin_range,  weights=w_test[y_test==0], alpha=0.5, color='b', label='Background')\n",
    "counts2, bins2, _ = plt.hist(y_test_scores[y_test == 1], bins=num_bins, range=bin_range,weights=w_test[y_test==0], alpha=0.5, color='r', label='Signal')\n",
    "\n",
    "print(counts)\n",
    "print(counts2)\n",
    "\n",
    "plt.xlabel('y_score')\n",
    "plt.ylabel('counts')\n",
    "plt.title('y_scores_bkg distribution VS y_scores_signal distribution ')\n",
    "plt.legend()\n",
    "plt.show()"
   ]
  },
  {
   "cell_type": "code",
   "execution_count": 17,
   "metadata": {},
   "outputs": [
    {
     "data": {
      "image/png": "[encoded data removed]",
      "text/plain": [
       "<Figure size 640x480 with 1 Axes>"
      ]
     },
     "metadata": {},
     "output_type": "display_data"
    }
   ],
   "source": [
    "# Plot signal and background distributions for the predicted scores with normalized counts\n",
    "\n",
    "counts = counts / sum(counts)\n",
    "counts2 = counts2 / sum(counts2)\n",
    "\n",
    "plt.bar(bins[:-1], counts, width=np.diff(bins), alpha=0.5, color='b', label='Background')\n",
    "plt.bar(bins2[:-1], counts2, width=np.diff(bins2), alpha=0.5, color='r', label='Signal')\n",
    "\n",
    "plt.xlabel('y_score')\n",
    "plt.ylabel('normalized counts')\n",
    "plt.title('y_scores_bkg distribution VS y_scores_signal distribution ')\n",
    "plt.legend()\n",
    "plt.show()"
   ]
  },
  {
   "cell_type": "code",
   "execution_count": 18,
   "metadata": {},
   "outputs": [
    {
     "data": {
      "image/png": "[encoded data removed]",
      "text/plain": [
       "<Figure size 640x480 with 1 Axes>"
      ]
     },
     "metadata": {},
     "output_type": "display_data"
    }
   ],
   "source": [
    "# Normalize the counts\n",
    "counts = counts / sum(counts)\n",
    "counts2 = counts2 / sum(counts2)\n",
    "\n",
    "plt.bar(bins[:-1], counts, width=np.diff(bins), alpha=0.5, color='b', label='Background')\n",
    "plt.bar(bins2[:-1], counts2, width=np.diff(bins2), alpha=0.5, color='r', label='Signal')\n",
    "\n",
    "plt.xlabel('y_score')\n",
    "plt.ylabel('log(normalized counts)')\n",
    "plt.title('y_scores_bkg distribution VS y_scores_signal distribution ')\n",
    "plt.yscale('log')\n",
    "plt.legend()\n",
    "plt.show()"
   ]
  },
  {
   "cell_type": "markdown",
   "metadata": {},
   "source": [
    "#### Grid search to find the best hyperparameters"
   ]
  },
  {
   "cell_type": "code",
   "execution_count": 19,
   "metadata": {},
   "outputs": [],
   "source": [
    "# Define the hyperparameter grid\n",
    "param_grid = {\n",
    "    'C': [0.0001,0.0005,0.0001,0.005, 0.1, 0.5, 1, 2, 5, 7, 10, 20, 50,70, 90, 100, 110, 130, 150, 200, 500, 700, 1000],\n",
    "    'gamma': [0.0001,0.0005,0.001,0.005,0.1,0.2,0.4,0.5,0.6,0.7,0.8,0.9,1,2,5,7,10, 'scale'],\n",
    "    'kernel': ['linear', 'poly', 'rbf'],\n",
    "    'degree': [1,2,3,4,5,7,9,10,13,14,15]\n",
    "}\n",
    "\n",
    "# Create an SVM classifier object\n",
    "svm_clf = svm.SVC(probability=True)\n",
    "\n",
    "# Perform grid search with cross-validation\n",
    "grid_search = GridSearchCV(svm_clf, param_grid, cv=5)\n",
    "\n",
    "# Fit the grid search to your training data\n",
    "grid_search.fit(x_train, y_train, sample_weight=w_train)\n",
    "\n",
    "# Print the best hyperparameters and the corresponding score on the validation set\n",
    "print(\"Best Hyperparameters: \", grid_search.best_params_)\n",
    "print(\"Best Score: \", grid_search.best_score_)\n",
    "\n",
    "# Evaluate the best model on the test set\n",
    "best_model = grid_search.best_estimator_\n",
    "test_score = best_model.score(x_test, y_test, sample_weight=w_test)\n",
    "print(\"Test Score: \", test_score)\n"
   ]
  },
  {
   "cell_type": "code",
   "execution_count": null,
   "metadata": {},
   "outputs": [
    {
     "data": {
      "text/plain": [
       "'\\n# Obtain predictions from the best model\\ny_pred = best_model.predict(x_test)\\n\\n# Compute accuracy score\\naccuracy = accuracy_score(y_test, y_pred, sample_weight=w_test)\\nprint(\"Accuracy: \", accuracy)\\n\\n# Compute predicted probabilities for ROC curve\\ny_pred_prob = best_model.predict_proba(x_test)[:, 1]\\n\\n# Compute ROC AUC score\\nroc_auc = roc_auc_score(y_test, y_pred_prob, sample_weight=w_test)\\nprint(\"ROC AUC: \", roc_auc)\\n'"
      ]
     },
     "execution_count": 20,
     "metadata": {},
     "output_type": "execute_result"
    }
   ],
   "source": [
    "# Obtain predictions from the best model\n",
    "y_pred = best_model.predict(x_test)\n",
    "\n",
    "# Compute accuracy score\n",
    "accuracy = accuracy_score(y_test, y_pred, sample_weight=w_test)\n",
    "print(\"Accuracy: \", accuracy)\n",
    "\n",
    "# Compute predicted probabilities for ROC curve\n",
    "y_pred_prob = best_model.predict_proba(x_test)[:, 1]\n",
    "\n",
    "# Compute ROC AUC score\n",
    "roc_auc = roc_auc_score(y_test, y_pred_prob, sample_weight=w_test)\n"
   ]
  },
  {
   "cell_type": "code",
   "execution_count": null,
   "metadata": {},
   "outputs": [
    {
     "data": {
      "text/plain": [
       "\"\\nfpr, tpr, thresholds = roc_curve(y_test, y_pred_prob, sample_weight=w_test)\\n\\n# Plot the ROC curve\\nplt.plot(fpr, tpr)\\nplt.plot([0, 1], [0, 1], 'k--', color='orange')  \\nplt.xlabel('False Positive Rate')\\nplt.ylabel('True Positive Rate')\\nplt.title('Receiver Operating Characteristic (ROC) Curve')\\nplt.show()\\n\""
      ]
     },
     "execution_count": 21,
     "metadata": {},
     "output_type": "execute_result"
    }
   ],
   "source": [
    "fpr, tpr, thresholds = roc_curve(y_test, y_pred_prob, sample_weight=w_test)\n",
    "\n",
    "# Plot the ROC curve\n",
    "plt.plot(fpr, tpr)\n",
    "plt.plot([0, 1], [0, 1], 'k--', color='orange')  \n",
    "plt.xlabel('False Positive Rate')\n",
    "plt.ylabel('True Positive Rate')\n",
    "plt.title('Receiver Operating Characteristic (ROC) Curve')\n",
    "plt.show()"
   ]
  },
  {
   "cell_type": "code",
   "execution_count": null,
   "metadata": {},
   "outputs": [
    {
     "data": {
      "text/plain": [
       "\"\\n# Plot signal and background distributions for the predicted scores with normalized counts and log scale\\n\\nnum_bins = 30  # Number of bins\\n\\n# Compute the range for the bins based on the minimum and maximum values of the data\\nmin_value = min(min(y_pred_prob[y_test == 0]), min(y_pred_prob[y_test == 1]))\\nmax_value = max(max(y_pred_prob[y_test == 0]), max(y_pred_prob[y_test == 1]))\\nbin_range = (min_value, max_value)\\n\\ncounts, bins, _ = plt.hist(y_pred_prob[y_test == 0], bins=num_bins, range=bin_range,  weights=w_test[y_test==0], alpha=0.5, color='b', label='Background')\\ncounts2, bins2, _ = plt.hist(y_pred_prob[y_test == 1], bins=num_bins, range=bin_range,weights=w_test[y_test==0], alpha=0.5, color='r', label='Signal')\\n\\nprint(counts)\\nprint(counts2)\\n\\nplt.xlabel('y_score')\\nplt.ylabel('counts')\\nplt.title('y_scores_bkg distribution VS y_scores_signal distribution ')\\nplt.legend()\\nplt.show()\\n\""
      ]
     },
     "execution_count": 22,
     "metadata": {},
     "output_type": "execute_result"
    }
   ],
   "source": [
    "# Plot signal and background distributions for the predicted scores with normalized counts and log scale\n",
    "\n",
    "num_bins = 30  # Number of bins\n",
    "\n",
    "# Compute the range for the bins based on the minimum and maximum values of the data\n",
    "min_value = min(min(y_pred_prob[y_test == 0]), min(y_pred_prob[y_test == 1]))\n",
    "max_value = max(max(y_pred_prob[y_test == 0]), max(y_pred_prob[y_test == 1]))\n",
    "bin_range = (min_value, max_value)\n",
    "\n",
    "counts, bins, _ = plt.hist(y_pred_prob[y_test == 0], bins=num_bins, range=bin_range,  weights=w_test[y_test==0], alpha=0.5, color='b', label='Background')\n",
    "counts2, bins2, _ = plt.hist(y_pred_prob[y_test == 1], bins=num_bins, range=bin_range,weights=w_test[y_test==0], alpha=0.5, color='r', label='Signal')\n",
    "\n",
    "print(counts)\n",
    "print(counts2)\n",
    "\n",
    "plt.xlabel('y_score')\n",
    "plt.ylabel('counts')\n",
    "plt.title('y_scores_bkg distribution VS y_scores_signal distribution ')\n",
    "plt.legend()\n",
    "plt.show()"
   ]
  },
  {
   "cell_type": "code",
   "execution_count": null,
   "metadata": {},
   "outputs": [
    {
     "data": {
      "text/plain": [
       "\"\\n# Plot signal and background distributions for the predicted scores with normalized counts\\n\\ncounts = counts / sum(counts)\\ncounts2 = counts2 / sum(counts2)\\n\\nplt.bar(bins[:-1], counts, width=np.diff(bins), alpha=0.5, color='b', label='Background')\\nplt.bar(bins2[:-1], counts2, width=np.diff(bins2), alpha=0.5, color='r', label='Signal')\\n\\nplt.xlabel('y_score')\\nplt.ylabel('normalized counts')\\nplt.title('y_scores_bkg distribution VS y_scores_signal distribution ')\\nplt.yscale('log')\\nplt.legend()\\nplt.show()\\n\""
      ]
     },
     "execution_count": 23,
     "metadata": {},
     "output_type": "execute_result"
    }
   ],
   "source": [
    "# Plot signal and background distributions for the predicted scores with normalized counts\n",
    "\n",
    "counts = counts / sum(counts)\n",
    "counts2 = counts2 / sum(counts2)\n",
    "\n",
    "plt.bar(bins[:-1], counts, width=np.diff(bins), alpha=0.5, color='b', label='Background')\n",
    "plt.bar(bins2[:-1], counts2, width=np.diff(bins2), alpha=0.5, color='r', label='Signal')\n",
    "\n",
    "plt.xlabel('y_score')\n",
    "plt.ylabel('normalized counts')\n",
    "plt.title('y_scores_bkg distribution VS y_scores_signal distribution ')\n",
    "plt.yscale('log')\n",
    "plt.legend()\n",
    "plt.show()"
   ]
  },
  {
   "cell_type": "markdown",
   "metadata": {},
   "source": [
    "#### 2 Features: Without PCA"
   ]
  },
  {
   "cell_type": "code",
   "execution_count": null,
   "metadata": {},
   "outputs": [],
   "source": [
    "data_frame_fcnc_pca = data_frame_fcnc.copy()\n",
    "data_frame_bkg_pca = data_frame_bkg.copy()\n",
    "\n",
    "# Drop the categorical features except label, weights and gen_split\n",
    "data_frame_fcnc_pca.drop(['gen_decay_filter', 'gen_filter', 'gen_n_btags', 'gen_sample', 'gen_sample_filter','gen_decay2','gen_decay1'], axis=1, inplace=True)\n",
    "data_frame_bkg_pca.drop(['gen_decay_filter', 'gen_filter', 'gen_n_btags', 'gen_sample', 'gen_sample_filter','gen_decay2','gen_decay1'], axis=1, inplace=True)\n",
    "\n",
    "# Drop the features that are not in both dataframes\n",
    "for feature in data_frame_fcnc_pca.columns.values:\n",
    "    if feature not in data_frame_bkg_pca.columns.values:\n",
    "        data_frame_fcnc_pca.drop([feature], axis=1, inplace=True)\n",
    "\n",
    "for feature in data_frame_bkg_pca.columns.values:\n",
    "    if feature not in data_frame_fcnc_pca.columns.values:\n",
    "        data_frame_bkg_pca.drop([feature], axis=1, inplace=True)\n",
    "        \n",
    "# Join the dataframes\n",
    "data = pd.concat([data_frame_fcnc_pca, data_frame_bkg_pca])\n",
    "\n",
    "# Substitute the labels \"signal\" and \"bkg\" by 1 and 0\n",
    "data = data.replace(['signal'], 1)\n",
    "data= data.replace(['bkg'], 0)\n",
    "\n",
    "#normalize the data except the categorical features and the weights\n",
    "DataFeatures = pd.Index(list(set(data.columns) - set([\"gen_label\", \"gen_xsec\", \"gen_split\"])))\n",
    "data [DataFeatures] = (data [DataFeatures] - data [DataFeatures].mean()) / data [DataFeatures].std()\n",
    "\n",
    "# train, test and validation sets\n",
    "train = data.loc[data['gen_split'] == 'train']\n",
    "test = data.loc[data['gen_split'] == 'test']\n",
    "val = data.loc[data['gen_split'] == 'val']\n",
    "\n",
    "# divide the train data into signal and background and get 500 samples of each\n",
    "train_sgn = train.loc[train['gen_label'] == 1].sample(n=500, random_state=42)\n",
    "train_bkg = train.loc[train['gen_label'] == 0].sample(n=500, random_state=42)\n",
    "x_train = pd.concat([train_sgn, train_bkg])\n",
    "x_train = x_train.sample(frac=1, random_state=42)\n",
    "\n",
    "# divide the validation data into signal and background and get 500 samples of each\n",
    "val_sgn = val.loc[val['gen_label'] == 1].sample(n=500, random_state=42)\n",
    "val_bkg = val.loc[val['gen_label'] == 0].sample(n=500, random_state=42)\n",
    "x_val = pd.concat([val_sgn, val_bkg])\n",
    "x_val = x_val.sample(frac=1, random_state=42)\n",
    "\n",
    "# divide the test data into signal and background and get 500 samples of each\n",
    "test_sgn = test.loc[test['gen_label'] == 1].sample(n=500, random_state=42)\n",
    "test_bkg = test.loc[test['gen_label'] == 0].sample(n=500, random_state=42)\n",
    "x_test = pd.concat([test_sgn, test_bkg])\n",
    "x_test = x_test.sample(frac=1, random_state=42)\n",
    "\n",
    "# get an array with the labels for each set\n",
    "y_train = x_train['gen_label'].values\n",
    "y_val = x_val['gen_label'].values\n",
    "y_test = x_test['gen_label'].values\n",
    "\n",
    "# get an array with the weights for each set\n",
    "w_train = x_train[\"gen_xsec\"].values\n",
    "w_val = x_val[\"gen_xsec\"].values\n",
    "w_test = x_test[\"gen_xsec\"].values\n",
    "\n",
    "# get an array with the features for each set\n",
    "x_train = x_train[['MissingET_MET', 'Jet1_BTag']].values\n",
    "x_val = x_val[['MissingET_MET', 'Jet1_BTag']].values\n",
    "x_test = x_test[['MissingET_MET', 'Jet1_BTag']].values"
   ]
  },
  {
   "cell_type": "code",
   "execution_count": null,
   "metadata": {},
   "outputs": [
    {
     "name": "stdout",
     "output_type": "stream",
     "text": [
      "       Electron_Multi  FatJet1_Eta  FatJet1_Mass  FatJet1_PT  FatJet1_Phi  \\\n",
      "66255        0.190846    -0.206387      0.729573   -0.506333    -0.938517   \n",
      "8525         1.252431    -0.099555      0.579566    0.053786    -0.089638   \n",
      "40769        1.252431    -0.787784      0.353797    0.867813     0.827167   \n",
      "82779       -0.870738    -2.001008      0.764936   -0.048181    -1.323773   \n",
      "1786        -0.870738     0.195689     -0.512045   -0.639714     1.216680   \n",
      "...               ...          ...           ...         ...          ...   \n",
      "78767       -0.870738    -0.023877     -0.638208    1.195555    -0.789228   \n",
      "30348       -0.870738     0.895927      1.693466    0.060342    -1.585507   \n",
      "27620       -0.870738     0.178134      0.859158   -0.821966    -0.776027   \n",
      "82368       -0.870738     1.026208     -0.988336   -0.929137    -0.686383   \n",
      "37585        1.252431     0.812625      0.494854    0.327273    -0.631532   \n",
      "\n",
      "       FatJet1_Tau1  FatJet1_Tau2  FatJet1_Tau3  FatJet1_Tau4  FatJet1_Tau5  \\\n",
      "66255      1.129414     -0.429548     -0.469908     -0.510254     -0.654789   \n",
      "8525      -0.251973     -0.870839     -0.950990     -0.968754     -0.934511   \n",
      "40769     -0.539326     -0.915665     -0.976918     -0.968754     -0.934511   \n",
      "82779      0.718679     -0.787539     -0.849961     -0.850962     -0.869169   \n",
      "1786      -0.441014     -0.115697     -0.030729      0.090100      0.089022   \n",
      "...             ...           ...           ...           ...           ...   \n",
      "78767     -0.385981     -0.001896      0.104915      0.067798      0.070108   \n",
      "30348      2.135173      0.035153      0.029949      0.088422      0.089199   \n",
      "27620      1.436389      1.812133      2.058117      2.071242      2.216924   \n",
      "82368     -0.952210     -0.264545     -0.162370     -0.102733     -0.174214   \n",
      "37585      1.029895     -0.898331     -0.972069     -0.962610     -0.934511   \n",
      "\n",
      "       ...  Lepton2_PT  Lepton2_Phi  MissingET_MET  MissingET_Phi  Muon_Multi  \\\n",
      "66255  ...   -0.001453     0.390598       1.174176       0.778591   -0.229029   \n",
      "8525   ...   -0.455147     0.190120       0.021161       0.017832   -1.288288   \n",
      "40769  ...   -0.560512     0.534287       0.689146      -0.739051   -1.288288   \n",
      "82779  ...    0.686751    -1.463077       1.527500       0.041021    0.830229   \n",
      "1786   ...   -0.360126    -0.837858       1.432901      -1.259585    0.830229   \n",
      "...    ...         ...          ...            ...            ...         ...   \n",
      "78767  ...    0.227422     0.481061       0.455206       0.376551    1.889487   \n",
      "30348  ...    1.177023    -1.384902       0.170313      -1.582889    0.830229   \n",
      "27620  ...    0.390234     0.393066       0.457585       1.039254    0.830229   \n",
      "82368  ...   -0.201933     0.856204       0.564974      -0.536929    0.830229   \n",
      "37585  ...    1.584961    -0.577125       1.336687       1.105211   -1.288288   \n",
      "\n",
      "       ScalarHT_HT  gen_label  gen_split  gen_weights  gen_xsec  \n",
      "66255    -1.099723          1       test    -0.196698  0.001285  \n",
      "8525      1.176504          1       test    -0.196698  0.001285  \n",
      "40769     0.454511          1       test    -0.196698  0.001285  \n",
      "82779    -0.704134          1       test    -0.196698  0.001285  \n",
      "1786     -0.710959          1       test    -0.196698  0.001285  \n",
      "...            ...        ...        ...          ...       ...  \n",
      "78767     0.936383          1       test    -0.196698  0.001285  \n",
      "30348     1.337684          1       test    -0.196698  0.001285  \n",
      "27620    -0.161635          1       test    -0.196698  0.001285  \n",
      "82368    -0.521623          1       test    -0.196698  0.001285  \n",
      "37585    -0.518387          1       test    -0.196698  0.001285  \n",
      "\n",
      "[500 rows x 51 columns]\n",
      "[[-0.66478791  0.71614911]\n",
      " [ 3.76532589 -1.39635596]\n",
      " [-0.49504755 -1.39635596]\n",
      " ...\n",
      " [-0.53877532  0.71614911]\n",
      " [ 1.0047294   0.71614911]\n",
      " [ 1.49790873 -1.39635596]]\n"
     ]
    }
   ],
   "source": [
    "print (test_sgn)\n",
    "print (x_train)"
   ]
  },
  {
   "cell_type": "markdown",
   "metadata": {},
   "source": [
    "##### Train"
   ]
  },
  {
   "cell_type": "code",
   "execution_count": null,
   "metadata": {},
   "outputs": [
    {
     "data": {
      "text/html": [
       "<style>#sk-container-id-2 {color: black;}#sk-container-id-2 pre{padding: 0;}#sk-container-id-2 div.sk-toggleable {background-color: white;}#sk-container-id-2 label.sk-toggleable__label {cursor: pointer;display: block;width: 100%;margin-bottom: 0;padding: 0.3em;box-sizing: border-box;text-align: center;}#sk-container-id-2 label.sk-toggleable__label-arrow:before {content: \"▸\";float: left;margin-right: 0.25em;color: #696969;}#sk-container-id-2 label.sk-toggleable__label-arrow:hover:before {color: black;}#sk-container-id-2 div.sk-estimator:hover label.sk-toggleable__label-arrow:before {color: black;}#sk-container-id-2 div.sk-toggleable__content {max-height: 0;max-width: 0;overflow: hidden;text-align: left;background-color: #f0f8ff;}#sk-container-id-2 div.sk-toggleable__content pre {margin: 0.2em;color: black;border-radius: 0.25em;background-color: #f0f8ff;}#sk-container-id-2 input.sk-toggleable__control:checked~div.sk-toggleable__content {max-height: 200px;max-width: 100%;overflow: auto;}#sk-container-id-2 input.sk-toggleable__control:checked~label.sk-toggleable__label-arrow:before {content: \"▾\";}#sk-container-id-2 div.sk-estimator input.sk-toggleable__control:checked~label.sk-toggleable__label {background-color: #d4ebff;}#sk-container-id-2 div.sk-label input.sk-toggleable__control:checked~label.sk-toggleable__label {background-color: #d4ebff;}#sk-container-id-2 input.sk-hidden--visually {border: 0;clip: rect(1px 1px 1px 1px);clip: rect(1px, 1px, 1px, 1px);height: 1px;margin: -1px;overflow: hidden;padding: 0;position: absolute;width: 1px;}#sk-container-id-2 div.sk-estimator {font-family: monospace;background-color: #f0f8ff;border: 1px dotted black;border-radius: 0.25em;box-sizing: border-box;margin-bottom: 0.5em;}#sk-container-id-2 div.sk-estimator:hover {background-color: #d4ebff;}#sk-container-id-2 div.sk-parallel-item::after {content: \"\";width: 100%;border-bottom: 1px solid gray;flex-grow: 1;}#sk-container-id-2 div.sk-label:hover label.sk-toggleable__label {background-color: #d4ebff;}#sk-container-id-2 div.sk-serial::before {content: \"\";position: absolute;border-left: 1px solid gray;box-sizing: border-box;top: 0;bottom: 0;left: 50%;z-index: 0;}#sk-container-id-2 div.sk-serial {display: flex;flex-direction: column;align-items: center;background-color: white;padding-right: 0.2em;padding-left: 0.2em;position: relative;}#sk-container-id-2 div.sk-item {position: relative;z-index: 1;}#sk-container-id-2 div.sk-parallel {display: flex;align-items: stretch;justify-content: center;background-color: white;position: relative;}#sk-container-id-2 div.sk-item::before, #sk-container-id-2 div.sk-parallel-item::before {content: \"\";position: absolute;border-left: 1px solid gray;box-sizing: border-box;top: 0;bottom: 0;left: 50%;z-index: -1;}#sk-container-id-2 div.sk-parallel-item {display: flex;flex-direction: column;z-index: 1;position: relative;background-color: white;}#sk-container-id-2 div.sk-parallel-item:first-child::after {align-self: flex-end;width: 50%;}#sk-container-id-2 div.sk-parallel-item:last-child::after {align-self: flex-start;width: 50%;}#sk-container-id-2 div.sk-parallel-item:only-child::after {width: 0;}#sk-container-id-2 div.sk-dashed-wrapped {border: 1px dashed gray;margin: 0 0.4em 0.5em 0.4em;box-sizing: border-box;padding-bottom: 0.4em;background-color: white;}#sk-container-id-2 div.sk-label label {font-family: monospace;font-weight: bold;display: inline-block;line-height: 1.2em;}#sk-container-id-2 div.sk-label-container {text-align: center;}#sk-container-id-2 div.sk-container {/* jupyter's `normalize.less` sets `[hidden] { display: none; }` but bootstrap.min.css set `[hidden] { display: none !important; }` so we also need the `!important` here to be able to override the default hidden behavior on the sphinx rendered scikit-learn.org. See: https://github.com/scikit-learn/scikit-learn/issues/21755 */display: inline-block !important;position: relative;}#sk-container-id-2 div.sk-text-repr-fallback {display: none;}</style><div id=\"sk-container-id-2\" class=\"sk-top-container\"><div class=\"sk-text-repr-fallback\"><pre>SVC(probability=True)</pre><b>In a Jupyter environment, please rerun this cell to show the HTML representation or trust the notebook. <br />On GitHub, the HTML representation is unable to render, please try loading this page with nbviewer.org.</b></div><div class=\"sk-container\" hidden><div class=\"sk-item\"><div class=\"sk-estimator sk-toggleable\"><input class=\"sk-toggleable__control sk-hidden--visually\" id=\"sk-estimator-id-2\" type=\"checkbox\" checked><label for=\"sk-estimator-id-2\" class=\"sk-toggleable__label sk-toggleable__label-arrow\">SVC</label><div class=\"sk-toggleable__content\"><pre>SVC(probability=True)</pre></div></div></div></div></div>"
      ],
      "text/plain": [
       "SVC(probability=True)"
      ]
     },
     "execution_count": 26,
     "metadata": {},
     "output_type": "execute_result"
    }
   ],
   "source": [
    "# Renormalize weights\n",
    "w_train[y_train == 1] = (w_train[y_train == 1] / w_train[y_train == 1].sum()) * w_train.shape[0] / 2\n",
    "w_train[y_train == 0] = (w_train[y_train == 0] / w_train[y_train == 0].sum()) * w_train.shape[0] / 2\n",
    "\n",
    "# Train SMV\n",
    "clf = svm.SVC(kernel=\"rbf\", probability=True)   \n",
    "clf.fit(x_train, y_train,sample_weight=w_train)"
   ]
  },
  {
   "cell_type": "markdown",
   "metadata": {},
   "source": [
    "##### Validation"
   ]
  },
  {
   "cell_type": "code",
   "execution_count": null,
   "metadata": {},
   "outputs": [
    {
     "name": "stdout",
     "output_type": "stream",
     "text": [
      "Accuracy: 0.6674142180085237\n",
      "ROC AUC Score: 0.7027603222119081\n"
     ]
    }
   ],
   "source": [
    "# Renormalize weights\n",
    "w_val[y_val == 1] = (w_val[y_val == 1] / w_val[y_val == 1].sum()) * w_val.shape[0] / 2\n",
    "w_val[y_val == 0] = (w_val[y_val == 0] / w_val[y_val == 0].sum()) * w_val.shape[0] / 2\n",
    "\n",
    "# Predict\n",
    "y_val_scores = clf.predict_proba(x_val)\n",
    "y_val_scores = y_val_scores[:, 1]\n",
    "y_val_pred = clf.predict(x_val)\n",
    "\n",
    "# Compute metrics\n",
    "accuracy = accuracy_score(y_val, y_val_pred,sample_weight=w_val)\n",
    "auc_score = roc_auc_score(y_val, y_val_scores,sample_weight=w_val)\n",
    "\n",
    "print(\"Accuracy:\", accuracy)\n",
    "print(\"ROC AUC Score:\", auc_score)"
   ]
  },
  {
   "cell_type": "markdown",
   "metadata": {},
   "source": [
    "##### Test"
   ]
  },
  {
   "cell_type": "code",
   "execution_count": null,
   "metadata": {},
   "outputs": [
    {
     "name": "stdout",
     "output_type": "stream",
     "text": [
      "Accuracy: 0.7581194365001341\n",
      "ROC AUC Score: 0.818109173497015\n"
     ]
    }
   ],
   "source": [
    "# Renormalize weights\n",
    "w_test[y_test == 1] = (w_test[y_test == 1] / w_test[y_test == 1].sum()) * w_test.shape[0] / 2\n",
    "w_test[y_test == 0] = (w_test[y_test == 0] / w_test[y_test == 0].sum()) * w_test.shape[0] / 2\n",
    "\n",
    "# Predict\n",
    "y_test_scores = clf.predict_proba(x_test)\n",
    "y_test_scores = y_test_scores[:, 1]\n",
    "y_pred = clf.predict(x_test)\n",
    "\n",
    "# Compute metrics\n",
    "accuracy = accuracy_score(y_test, y_pred, sample_weight=w_test)\n",
    "auc_score = roc_auc_score(y_test, y_test_scores, sample_weight=w_test)\n",
    "print(\"Accuracy:\", accuracy)\n",
    "print(\"ROC AUC Score:\", auc_score)"
   ]
  },
  {
   "cell_type": "code",
   "execution_count": null,
   "metadata": {},
   "outputs": [
    {
     "name": "stderr",
     "output_type": "stream",
     "text": [
      "/tmp/ipykernel_994434/1217247063.py:5: UserWarning: color is redundantly defined by the 'color' keyword argument and the fmt string \"k--\" (-> color='k'). The keyword argument will take precedence.\n",
      "  plt.plot([0, 1], [0, 1], 'k--', color='orange')\n"
     ]
    },
    {
     "data": {
      "image/png": "[encoded data removed]",
      "text/plain": [
       "<Figure size 640x480 with 1 Axes>"
      ]
     },
     "metadata": {},
     "output_type": "display_data"
    }
   ],
   "source": [
    "fpr, tpr, thresholds = roc_curve(y_test, y_test_scores, sample_weight=w_test)\n",
    "\n",
    "# Plot the ROC curve\n",
    "plt.plot(fpr, tpr)\n",
    "plt.plot([0, 1], [0, 1], 'k--', color='orange')  \n",
    "plt.xlabel('False Positive Rate')\n",
    "plt.ylabel('True Positive Rate')\n",
    "plt.title('Receiver Operating Characteristic (ROC) Curve')\n",
    "plt.show()"
   ]
  },
  {
   "cell_type": "code",
   "execution_count": null,
   "metadata": {},
   "outputs": [
    {
     "name": "stdout",
     "output_type": "stream",
     "text": [
      "[1.80537761e+01 1.84602492e+01 2.61478156e+01 1.80024127e+01\n",
      " 2.20270477e+02 3.85611921e+00 2.51463445e+01 9.30298922e+00\n",
      " 2.21699595e+00 2.48210290e+00 1.65020121e+00 1.07629981e+01\n",
      " 1.34382825e+00 1.48564619e-01 1.27982079e+00 1.76026440e+01\n",
      " 8.30036878e+00 2.07110174e+00 3.00178759e+00 3.08518286e+00\n",
      " 1.91650302e+00 1.76186005e+01 3.34449883e+00 9.90165229e-01\n",
      " 3.09082231e+00 1.12292728e+01 1.97595946e+00 1.97534968e+00\n",
      " 2.39372972e+01 4.07357502e+01]\n",
      "[1.10467238e+00 2.12379834e-02 1.60442267e+01 1.40672849e-01\n",
      " 1.10467238e+00 2.15565890e+00 8.51068854e+00 3.97815645e+00\n",
      " 8.79827118e+00 4.18522614e+00 2.49778615e-01 1.95227706e+02\n",
      " 8.58466330e+00 1.31499214e+00 1.22218893e-01 1.12045592e+00\n",
      " 2.86471901e+00 3.08019957e+00 1.38002434e-01 3.02477966e+00\n",
      " 2.39155878e-01 1.44533589e+00 1.20588637e+00 8.92316049e+00\n",
      " 1.16026725e+01 1.70870456e+01 1.74445248e+01 1.50588082e+01\n",
      " 6.00481051e+01 1.05174306e+02]\n"
     ]
    },
    {
     "data": {
      "image/png": "[encoded data removed]",
      "text/plain": [
       "<Figure size 640x480 with 1 Axes>"
      ]
     },
     "metadata": {},
     "output_type": "display_data"
    }
   ],
   "source": [
    "# Plot signal and background distributions for the predicted scores with normalized counts and log scale\n",
    "\n",
    "num_bins = 30  # Number of bins\n",
    "\n",
    "# Compute the range for the bins based on the minimum and maximum values of the data\n",
    "min_value = min(min(y_test_scores[y_test == 0]), min(y_test_scores[y_test == 1]))\n",
    "max_value = max(max(y_test_scores[y_test == 0]), max(y_test_scores[y_test == 1]))\n",
    "bin_range = (min_value, max_value)\n",
    "\n",
    "counts, bins, _ = plt.hist(y_test_scores[y_test == 0], bins=num_bins, range=bin_range,  weights=w_test[y_test==0], alpha=0.5, color='b', label='Background')\n",
    "counts2, bins2, _ = plt.hist(y_test_scores[y_test == 1], bins=num_bins, range=bin_range,weights=w_test[y_test==0], alpha=0.5, color='r', label='Signal')\n",
    "\n",
    "print(counts)\n",
    "print(counts2)\n",
    "\n",
    "plt.xlabel('y_score')\n",
    "plt.ylabel('counts')\n",
    "plt.title('y_scores_bkg distribution VS y_scores_signal distribution ')\n",
    "plt.legend()\n",
    "plt.show()"
   ]
  },
  {
   "cell_type": "markdown",
   "metadata": {},
   "source": [
    "#### Grid search to find the best hyperparameters"
   ]
  },
  {
   "cell_type": "code",
   "execution_count": null,
   "metadata": {},
   "outputs": [],
   "source": [
    "# Define the hyperparameter grid\n",
    "param_grid = {\n",
    "    'C': [0.0001,0.0005,0.0001,0.005, 0.1, 0.5, 1, 2, 5, 7, 10, 20, 50,70, 90, 100, 110, 130, 150, 200, 500, 700, 1000],\n",
    "    'gamma': [0.0001,0.0005,0.001,0.005,0.1,0.2,0.4,0.5,0.6,0.7,0.8,0.9,1,2,5,7,10, 'scale'],\n",
    "    'kernel': ['linear', 'poly', 'rbf'],\n",
    "    'degree': [1,2,3,4,5,7,9,10,13,14,15]\n",
    "}\n",
    "\n",
    "\n",
    "# Create an SVM classifier object\n",
    "svm_clf = svm.SVC(probability=True)\n",
    "\n",
    "# Perform grid search with cross-validation\n",
    "grid_search = GridSearchCV(svm_clf, param_grid, cv=5)\n",
    "\n",
    "# Fit the grid search to your training data\n",
    "grid_search.fit(x_train, y_train, sample_weight=w_train)\n",
    "\n",
    "# Print the best hyperparameters and the corresponding score on the validation set\n",
    "print(\"Best Hyperparameters: \", grid_search.best_params_)\n",
    "print(\"Best Score: \", grid_search.best_score_)\n",
    "\n",
    "# Evaluate the best model on the test set\n",
    "best_model = grid_search.best_estimator_\n",
    "test_score = best_model.score(x_test, y_test, sample_weight=w_test)\n",
    "print(\"Test Score: \", test_score)\n"
   ]
  },
  {
   "cell_type": "code",
   "execution_count": null,
   "metadata": {},
   "outputs": [],
   "source": [
    "# Obtain predictions from the best model\n",
    "y_pred = best_model.predict(x_test)\n",
    "\n",
    "# Compute accuracy score\n",
    "accuracy = accuracy_score(y_test, y_pred, sample_weight=w_test)\n",
    "print(\"Accuracy: \", accuracy)\n",
    "\n",
    "# Compute predicted probabilities for ROC curve\n",
    "y_pred_prob = best_model.predict_proba(x_test)[:, 1]\n",
    "\n",
    "# Compute ROC AUC score\n",
    "roc_auc = roc_auc_score(y_test, y_pred_prob, sample_weight=w_test)"
   ]
  },
  {
   "cell_type": "code",
   "execution_count": null,
   "metadata": {},
   "outputs": [],
   "source": [
    "fpr, tpr, thresholds = roc_curve(y_test, y_pred_prob, sample_weight=w_test)\n",
    "\n",
    "# Plot the ROC curve\n",
    "plt.plot(fpr, tpr)\n",
    "plt.plot([0, 1], [0, 1], 'k--', color='orange')  \n",
    "plt.xlabel('False Positive Rate')\n",
    "plt.ylabel('True Positive Rate')\n",
    "plt.title('Receiver Operating Characteristic (ROC) Curve')\n",
    "plt.show()"
   ]
  },
  {
   "cell_type": "code",
   "execution_count": null,
   "metadata": {},
   "outputs": [],
   "source": [
    "# Plot signal and background distributions for the predicted scores with normalized counts and log scale\n",
    "\n",
    "num_bins = 30  # Number of bins\n",
    "\n",
    "# Compute the range for the bins based on the minimum and maximum values of the data\n",
    "min_value = min(min(y_pred_prob[y_test == 0]), min(y_pred_prob[y_test == 1]))\n",
    "max_value = max(max(y_pred_prob[y_test == 0]), max(y_pred_prob[y_test == 1]))\n",
    "bin_range = (min_value, max_value)\n",
    "\n",
    "counts, bins, _ = plt.hist(y_pred_prob[y_test == 0], bins=num_bins, range=bin_range,  weights=w_test[y_test==0], alpha=0.5, color='b', label='Background')\n",
    "counts2, bins2, _ = plt.hist(y_pred_prob[y_test == 1], bins=num_bins, range=bin_range,weights=w_test[y_test==0], alpha=0.5, color='r', label='Signal')\n",
    "\n",
    "print(counts)\n",
    "print(counts2)\n",
    "\n",
    "plt.xlabel('y_score')\n",
    "plt.ylabel('counts')\n",
    "plt.title('y_scores_bkg distribution VS y_scores_signal distribution ')\n",
    "plt.legend()\n",
    "plt.show()"
   ]
  },
  {
   "cell_type": "code",
   "execution_count": null,
   "metadata": {},
   "outputs": [],
   "source": [
    "# Plot signal and background distributions for the predicted scores with normalized counts\n",
    "\n",
    "counts = counts / sum(counts)\n",
    "counts2 = counts2 / sum(counts2)\n",
    "\n",
    "plt.bar(bins[:-1], counts, width=np.diff(bins), alpha=0.5, color='b', label='Background')\n",
    "plt.bar(bins2[:-1], counts2, width=np.diff(bins2), alpha=0.5, color='r', label='Signal')\n",
    "\n",
    "plt.xlabel('y_score')\n",
    "plt.ylabel('normalized counts')\n",
    "plt.title('y_scores_bkg distribution VS y_scores_signal distribution ')\n",
    "plt.yscale('log')\n",
    "plt.legend()\n",
    "plt.show()"
   ]
  }
 ],
 "metadata": {
  "kernelspec": {
   "display_name": "base",
   "language": "python",
   "name": "python3"
  },
  "language_info": {
   "codemirror_mode": {
    "name": "ipython",
    "version": 3
   },
   "file_extension": ".py",
   "mimetype": "text/x-python",
   "name": "python",
   "nbconvert_exporter": "python",
   "pygments_lexer": "ipython3",
   "version": "3.9.17"
  },
  "orig_nbformat": 4
 },
 "nbformat": 4,
 "nbformat_minor": 2
}
